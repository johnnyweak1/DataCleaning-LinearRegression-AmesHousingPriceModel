{
 "cells": [
  {
   "cell_type": "markdown",
   "id": "8d46f7c7",
   "metadata": {},
   "source": [
    "# Creating Elastic Net model of Ames Housing Data."
   ]
  },
  {
   "cell_type": "markdown",
   "id": "a0f03011",
   "metadata": {},
   "source": [
    "***\n",
    "## 1. Preparation\n",
    "### Importing necessary libraries and functions."
   ]
  },
  {
   "cell_type": "code",
   "execution_count": 1,
   "id": "91c430a3",
   "metadata": {},
   "outputs": [],
   "source": [
    "import numpy as np\n",
    "import pandas as pd\n",
    "from sklearn.model_selection import train_test_split, GridSearchCV\n",
    "from sklearn.preprocessing import StandardScaler\n",
    "from sklearn.linear_model import ElasticNet\n",
    "from sklearn.metrics import mean_absolute_error, mean_squared_error\n",
    "from joblib import dump"
   ]
  },
  {
   "cell_type": "markdown",
   "id": "24ae34d0",
   "metadata": {},
   "source": [
    "### Reading the data."
   ]
  },
  {
   "cell_type": "code",
   "execution_count": 2,
   "id": "29abec4a",
   "metadata": {},
   "outputs": [],
   "source": [
    "df = pd.read_csv(\"AMES_final_data.csv\")"
   ]
  },
  {
   "cell_type": "markdown",
   "id": "6d467bb9",
   "metadata": {},
   "source": [
    "### First five rows in DataFrame."
   ]
  },
  {
   "cell_type": "code",
   "execution_count": 3,
   "id": "867d63f7",
   "metadata": {},
   "outputs": [
    {
     "data": {
      "text/html": [
       "<div>\n",
       "<style scoped>\n",
       "    .dataframe tbody tr th:only-of-type {\n",
       "        vertical-align: middle;\n",
       "    }\n",
       "\n",
       "    .dataframe tbody tr th {\n",
       "        vertical-align: top;\n",
       "    }\n",
       "\n",
       "    .dataframe thead th {\n",
       "        text-align: right;\n",
       "    }\n",
       "</style>\n",
       "<table border=\"1\" class=\"dataframe\">\n",
       "  <thead>\n",
       "    <tr style=\"text-align: right;\">\n",
       "      <th></th>\n",
       "      <th>Lot Frontage</th>\n",
       "      <th>Lot Area</th>\n",
       "      <th>Overall Qual</th>\n",
       "      <th>Overall Cond</th>\n",
       "      <th>Year Built</th>\n",
       "      <th>Year Remod/Add</th>\n",
       "      <th>Mas Vnr Area</th>\n",
       "      <th>BsmtFin SF 1</th>\n",
       "      <th>BsmtFin SF 2</th>\n",
       "      <th>Bsmt Unf SF</th>\n",
       "      <th>...</th>\n",
       "      <th>Sale Type_ConLw</th>\n",
       "      <th>Sale Type_New</th>\n",
       "      <th>Sale Type_Oth</th>\n",
       "      <th>Sale Type_VWD</th>\n",
       "      <th>Sale Type_WD</th>\n",
       "      <th>Sale Condition_AdjLand</th>\n",
       "      <th>Sale Condition_Alloca</th>\n",
       "      <th>Sale Condition_Family</th>\n",
       "      <th>Sale Condition_Normal</th>\n",
       "      <th>Sale Condition_Partial</th>\n",
       "    </tr>\n",
       "  </thead>\n",
       "  <tbody>\n",
       "    <tr>\n",
       "      <th>0</th>\n",
       "      <td>141.0</td>\n",
       "      <td>31770</td>\n",
       "      <td>6</td>\n",
       "      <td>5</td>\n",
       "      <td>1960</td>\n",
       "      <td>1960</td>\n",
       "      <td>112.0</td>\n",
       "      <td>639.0</td>\n",
       "      <td>0.0</td>\n",
       "      <td>441.0</td>\n",
       "      <td>...</td>\n",
       "      <td>0</td>\n",
       "      <td>0</td>\n",
       "      <td>0</td>\n",
       "      <td>0</td>\n",
       "      <td>1</td>\n",
       "      <td>0</td>\n",
       "      <td>0</td>\n",
       "      <td>0</td>\n",
       "      <td>1</td>\n",
       "      <td>0</td>\n",
       "    </tr>\n",
       "    <tr>\n",
       "      <th>1</th>\n",
       "      <td>80.0</td>\n",
       "      <td>11622</td>\n",
       "      <td>5</td>\n",
       "      <td>6</td>\n",
       "      <td>1961</td>\n",
       "      <td>1961</td>\n",
       "      <td>0.0</td>\n",
       "      <td>468.0</td>\n",
       "      <td>144.0</td>\n",
       "      <td>270.0</td>\n",
       "      <td>...</td>\n",
       "      <td>0</td>\n",
       "      <td>0</td>\n",
       "      <td>0</td>\n",
       "      <td>0</td>\n",
       "      <td>1</td>\n",
       "      <td>0</td>\n",
       "      <td>0</td>\n",
       "      <td>0</td>\n",
       "      <td>1</td>\n",
       "      <td>0</td>\n",
       "    </tr>\n",
       "    <tr>\n",
       "      <th>2</th>\n",
       "      <td>81.0</td>\n",
       "      <td>14267</td>\n",
       "      <td>6</td>\n",
       "      <td>6</td>\n",
       "      <td>1958</td>\n",
       "      <td>1958</td>\n",
       "      <td>108.0</td>\n",
       "      <td>923.0</td>\n",
       "      <td>0.0</td>\n",
       "      <td>406.0</td>\n",
       "      <td>...</td>\n",
       "      <td>0</td>\n",
       "      <td>0</td>\n",
       "      <td>0</td>\n",
       "      <td>0</td>\n",
       "      <td>1</td>\n",
       "      <td>0</td>\n",
       "      <td>0</td>\n",
       "      <td>0</td>\n",
       "      <td>1</td>\n",
       "      <td>0</td>\n",
       "    </tr>\n",
       "    <tr>\n",
       "      <th>3</th>\n",
       "      <td>93.0</td>\n",
       "      <td>11160</td>\n",
       "      <td>7</td>\n",
       "      <td>5</td>\n",
       "      <td>1968</td>\n",
       "      <td>1968</td>\n",
       "      <td>0.0</td>\n",
       "      <td>1065.0</td>\n",
       "      <td>0.0</td>\n",
       "      <td>1045.0</td>\n",
       "      <td>...</td>\n",
       "      <td>0</td>\n",
       "      <td>0</td>\n",
       "      <td>0</td>\n",
       "      <td>0</td>\n",
       "      <td>1</td>\n",
       "      <td>0</td>\n",
       "      <td>0</td>\n",
       "      <td>0</td>\n",
       "      <td>1</td>\n",
       "      <td>0</td>\n",
       "    </tr>\n",
       "    <tr>\n",
       "      <th>4</th>\n",
       "      <td>74.0</td>\n",
       "      <td>13830</td>\n",
       "      <td>5</td>\n",
       "      <td>5</td>\n",
       "      <td>1997</td>\n",
       "      <td>1998</td>\n",
       "      <td>0.0</td>\n",
       "      <td>791.0</td>\n",
       "      <td>0.0</td>\n",
       "      <td>137.0</td>\n",
       "      <td>...</td>\n",
       "      <td>0</td>\n",
       "      <td>0</td>\n",
       "      <td>0</td>\n",
       "      <td>0</td>\n",
       "      <td>1</td>\n",
       "      <td>0</td>\n",
       "      <td>0</td>\n",
       "      <td>0</td>\n",
       "      <td>1</td>\n",
       "      <td>0</td>\n",
       "    </tr>\n",
       "  </tbody>\n",
       "</table>\n",
       "<p>5 rows × 274 columns</p>\n",
       "</div>"
      ],
      "text/plain": [
       "   Lot Frontage  Lot Area  Overall Qual  Overall Cond  Year Built  \\\n",
       "0         141.0     31770             6             5        1960   \n",
       "1          80.0     11622             5             6        1961   \n",
       "2          81.0     14267             6             6        1958   \n",
       "3          93.0     11160             7             5        1968   \n",
       "4          74.0     13830             5             5        1997   \n",
       "\n",
       "   Year Remod/Add  Mas Vnr Area  BsmtFin SF 1  BsmtFin SF 2  Bsmt Unf SF  ...  \\\n",
       "0            1960         112.0         639.0           0.0        441.0  ...   \n",
       "1            1961           0.0         468.0         144.0        270.0  ...   \n",
       "2            1958         108.0         923.0           0.0        406.0  ...   \n",
       "3            1968           0.0        1065.0           0.0       1045.0  ...   \n",
       "4            1998           0.0         791.0           0.0        137.0  ...   \n",
       "\n",
       "   Sale Type_ConLw  Sale Type_New  Sale Type_Oth  Sale Type_VWD  \\\n",
       "0                0              0              0              0   \n",
       "1                0              0              0              0   \n",
       "2                0              0              0              0   \n",
       "3                0              0              0              0   \n",
       "4                0              0              0              0   \n",
       "\n",
       "   Sale Type_WD   Sale Condition_AdjLand  Sale Condition_Alloca  \\\n",
       "0              1                       0                      0   \n",
       "1              1                       0                      0   \n",
       "2              1                       0                      0   \n",
       "3              1                       0                      0   \n",
       "4              1                       0                      0   \n",
       "\n",
       "   Sale Condition_Family  Sale Condition_Normal  Sale Condition_Partial  \n",
       "0                      0                      1                       0  \n",
       "1                      0                      1                       0  \n",
       "2                      0                      1                       0  \n",
       "3                      0                      1                       0  \n",
       "4                      0                      1                       0  \n",
       "\n",
       "[5 rows x 274 columns]"
      ]
     },
     "execution_count": 3,
     "metadata": {},
     "output_type": "execute_result"
    }
   ],
   "source": [
    "df.head()"
   ]
  },
  {
   "cell_type": "markdown",
   "id": "024b2745",
   "metadata": {},
   "source": [
    "### Informations about DataFrame."
   ]
  },
  {
   "cell_type": "code",
   "execution_count": 4,
   "id": "dc011ec1",
   "metadata": {},
   "outputs": [
    {
     "name": "stdout",
     "output_type": "stream",
     "text": [
      "<class 'pandas.core.frame.DataFrame'>\n",
      "RangeIndex: 2925 entries, 0 to 2924\n",
      "Columns: 274 entries, Lot Frontage to Sale Condition_Partial\n",
      "dtypes: float64(11), int64(263)\n",
      "memory usage: 6.1 MB\n"
     ]
    }
   ],
   "source": [
    "df.info()"
   ]
  },
  {
   "cell_type": "markdown",
   "id": "f46c4d9e",
   "metadata": {},
   "source": [
    "### Separating data into X features and y labels.\n",
    "The label we are trying to predict is SalePrice column."
   ]
  },
  {
   "cell_type": "code",
   "execution_count": 5,
   "id": "a1825c41",
   "metadata": {},
   "outputs": [],
   "source": [
    "X = df.drop(columns='SalePrice')\n",
    "y = df.SalePrice"
   ]
  },
  {
   "cell_type": "markdown",
   "id": "50246c71",
   "metadata": {},
   "source": [
    "### Splitting up the data into X and y traing and test set with test proportion 10%."
   ]
  },
  {
   "cell_type": "code",
   "execution_count": 6,
   "id": "349115dd",
   "metadata": {},
   "outputs": [],
   "source": [
    "X_train, X_test, y_train, y_test = train_test_split(X, y, test_size=0.1)"
   ]
  },
  {
   "cell_type": "markdown",
   "id": "e176bd0d",
   "metadata": {},
   "source": [
    "### The dataset features has a variety of scales and units. For optimal regression performance, scaling the X features."
   ]
  },
  {
   "cell_type": "code",
   "execution_count": 7,
   "id": "d4d56d6c",
   "metadata": {},
   "outputs": [
    {
     "data": {
      "text/plain": [
       "StandardScaler()"
      ]
     },
     "execution_count": 7,
     "metadata": {},
     "output_type": "execute_result"
    }
   ],
   "source": [
    "scaler = StandardScaler()\n",
    "scaler.fit(X_train)"
   ]
  },
  {
   "cell_type": "code",
   "execution_count": 8,
   "id": "ba1b0e20",
   "metadata": {},
   "outputs": [],
   "source": [
    "X_train = scaler.transform(X_train)\n",
    "X_test = scaler.transform(X_test)"
   ]
  },
  {
   "cell_type": "markdown",
   "id": "04fdb8f7",
   "metadata": {},
   "source": [
    "***\n",
    "## 2. Creating Elastic Net Model and choosing best parameters using Grid Search"
   ]
  },
  {
   "cell_type": "markdown",
   "id": "60430e63",
   "metadata": {},
   "source": [
    "### Creating an instance of Elastic Net."
   ]
  },
  {
   "cell_type": "code",
   "execution_count": 9,
   "id": "175aafdb",
   "metadata": {},
   "outputs": [],
   "source": [
    "model = ElasticNet()"
   ]
  },
  {
   "cell_type": "markdown",
   "id": "2dd3e05c",
   "metadata": {},
   "source": [
    "### The Elastic Net model has two main parameters, alpha and the L1 ratio. "
   ]
  },
  {
   "cell_type": "code",
   "execution_count": 10,
   "id": "04d7fa72",
   "metadata": {},
   "outputs": [],
   "source": [
    "param_grid = {\n",
    "    'alpha': [1e-5, 1e-4, 1e-3, 1e-2, 1e-1, 0.0, 1.0, 10.0, 100.0],\n",
    "    'l1_ratio': [0, 0.01, 0.1, 0.7, 0.99, 1]\n",
    "}"
   ]
  },
  {
   "cell_type": "markdown",
   "id": "c42e97be",
   "metadata": {},
   "source": [
    "### Using GridSearch with Cross Validation for the best parameters basend on scaled training data."
   ]
  },
  {
   "cell_type": "code",
   "execution_count": 11,
   "id": "8e3946bc",
   "metadata": {},
   "outputs": [],
   "source": [
    "grid = GridSearchCV(model, param_grid, scoring='neg_mean_squared_error', cv=5, verbose=10)"
   ]
  },
  {
   "cell_type": "code",
   "execution_count": 12,
   "id": "6408fe98",
   "metadata": {
    "collapsed": true
   },
   "outputs": [
    {
     "name": "stdout",
     "output_type": "stream",
     "text": [
      "Fitting 5 folds for each of 54 candidates, totalling 270 fits\n",
      "[CV 1/5; 1/54] START alpha=1e-05, l1_ratio=0....................................\n"
     ]
    },
    {
     "name": "stderr",
     "output_type": "stream",
     "text": [
      "C:\\Users\\jansl\\anaconda3\\lib\\site-packages\\sklearn\\linear_model\\_coordinate_descent.py:647: ConvergenceWarning: Objective did not converge. You might want to increase the number of iterations, check the scale of the features or consider increasing regularisation. Duality gap: 3.903e+11, tolerance: 1.302e+09 Linear regression models with null weight for the l1 regularization term are more efficiently fitted using one of the solvers implemented in sklearn.linear_model.Ridge/RidgeCV instead.\n",
      "  model = cd_fast.enet_coordinate_descent(\n"
     ]
    },
    {
     "name": "stdout",
     "output_type": "stream",
     "text": [
      "[CV 1/5; 1/54] END alpha=1e-05, l1_ratio=0;, score=-496178444.258 total time=   0.3s\n",
      "[CV 2/5; 1/54] START alpha=1e-05, l1_ratio=0....................................\n"
     ]
    },
    {
     "name": "stderr",
     "output_type": "stream",
     "text": [
      "C:\\Users\\jansl\\anaconda3\\lib\\site-packages\\sklearn\\linear_model\\_coordinate_descent.py:647: ConvergenceWarning: Objective did not converge. You might want to increase the number of iterations, check the scale of the features or consider increasing regularisation. Duality gap: 3.784e+11, tolerance: 1.278e+09 Linear regression models with null weight for the l1 regularization term are more efficiently fitted using one of the solvers implemented in sklearn.linear_model.Ridge/RidgeCV instead.\n",
      "  model = cd_fast.enet_coordinate_descent(\n"
     ]
    },
    {
     "name": "stdout",
     "output_type": "stream",
     "text": [
      "[CV 2/5; 1/54] END alpha=1e-05, l1_ratio=0;, score=-539864976.563 total time=   0.3s\n",
      "[CV 3/5; 1/54] START alpha=1e-05, l1_ratio=0....................................\n"
     ]
    },
    {
     "name": "stderr",
     "output_type": "stream",
     "text": [
      "C:\\Users\\jansl\\anaconda3\\lib\\site-packages\\sklearn\\linear_model\\_coordinate_descent.py:647: ConvergenceWarning: Objective did not converge. You might want to increase the number of iterations, check the scale of the features or consider increasing regularisation. Duality gap: 3.887e+11, tolerance: 1.358e+09 Linear regression models with null weight for the l1 regularization term are more efficiently fitted using one of the solvers implemented in sklearn.linear_model.Ridge/RidgeCV instead.\n",
      "  model = cd_fast.enet_coordinate_descent(\n"
     ]
    },
    {
     "name": "stdout",
     "output_type": "stream",
     "text": [
      "[CV 3/5; 1/54] END alpha=1e-05, l1_ratio=0;, score=-462480492.137 total time=   0.3s\n",
      "[CV 4/5; 1/54] START alpha=1e-05, l1_ratio=0....................................\n"
     ]
    },
    {
     "name": "stderr",
     "output_type": "stream",
     "text": [
      "C:\\Users\\jansl\\anaconda3\\lib\\site-packages\\sklearn\\linear_model\\_coordinate_descent.py:647: ConvergenceWarning: Objective did not converge. You might want to increase the number of iterations, check the scale of the features or consider increasing regularisation. Duality gap: 3.458e+11, tolerance: 1.265e+09 Linear regression models with null weight for the l1 regularization term are more efficiently fitted using one of the solvers implemented in sklearn.linear_model.Ridge/RidgeCV instead.\n",
      "  model = cd_fast.enet_coordinate_descent(\n"
     ]
    },
    {
     "name": "stdout",
     "output_type": "stream",
     "text": [
      "[CV 4/5; 1/54] END alpha=1e-05, l1_ratio=0;, score=-620584315.532 total time=   0.2s\n",
      "[CV 5/5; 1/54] START alpha=1e-05, l1_ratio=0....................................\n"
     ]
    },
    {
     "name": "stderr",
     "output_type": "stream",
     "text": [
      "C:\\Users\\jansl\\anaconda3\\lib\\site-packages\\sklearn\\linear_model\\_coordinate_descent.py:647: ConvergenceWarning: Objective did not converge. You might want to increase the number of iterations, check the scale of the features or consider increasing regularisation. Duality gap: 3.868e+11, tolerance: 1.277e+09 Linear regression models with null weight for the l1 regularization term are more efficiently fitted using one of the solvers implemented in sklearn.linear_model.Ridge/RidgeCV instead.\n",
      "  model = cd_fast.enet_coordinate_descent(\n"
     ]
    },
    {
     "name": "stdout",
     "output_type": "stream",
     "text": [
      "[CV 5/5; 1/54] END alpha=1e-05, l1_ratio=0;, score=-490351714.184 total time=   0.2s\n",
      "[CV 1/5; 2/54] START alpha=1e-05, l1_ratio=0.01.................................\n"
     ]
    },
    {
     "name": "stderr",
     "output_type": "stream",
     "text": [
      "C:\\Users\\jansl\\anaconda3\\lib\\site-packages\\sklearn\\linear_model\\_coordinate_descent.py:647: ConvergenceWarning: Objective did not converge. You might want to increase the number of iterations, check the scale of the features or consider increasing regularisation. Duality gap: 3.903e+11, tolerance: 1.302e+09\n",
      "  model = cd_fast.enet_coordinate_descent(\n"
     ]
    },
    {
     "name": "stdout",
     "output_type": "stream",
     "text": [
      "[CV 1/5; 2/54] END alpha=1e-05, l1_ratio=0.01;, score=-496179633.017 total time=   0.3s\n",
      "[CV 2/5; 2/54] START alpha=1e-05, l1_ratio=0.01.................................\n"
     ]
    },
    {
     "name": "stderr",
     "output_type": "stream",
     "text": [
      "C:\\Users\\jansl\\anaconda3\\lib\\site-packages\\sklearn\\linear_model\\_coordinate_descent.py:647: ConvergenceWarning: Objective did not converge. You might want to increase the number of iterations, check the scale of the features or consider increasing regularisation. Duality gap: 3.784e+11, tolerance: 1.278e+09\n",
      "  model = cd_fast.enet_coordinate_descent(\n"
     ]
    },
    {
     "name": "stdout",
     "output_type": "stream",
     "text": [
      "[CV 2/5; 2/54] END alpha=1e-05, l1_ratio=0.01;, score=-539864724.374 total time=   0.2s\n",
      "[CV 3/5; 2/54] START alpha=1e-05, l1_ratio=0.01.................................\n"
     ]
    },
    {
     "name": "stderr",
     "output_type": "stream",
     "text": [
      "C:\\Users\\jansl\\anaconda3\\lib\\site-packages\\sklearn\\linear_model\\_coordinate_descent.py:647: ConvergenceWarning: Objective did not converge. You might want to increase the number of iterations, check the scale of the features or consider increasing regularisation. Duality gap: 3.887e+11, tolerance: 1.358e+09\n",
      "  model = cd_fast.enet_coordinate_descent(\n"
     ]
    },
    {
     "name": "stdout",
     "output_type": "stream",
     "text": [
      "[CV 3/5; 2/54] END alpha=1e-05, l1_ratio=0.01;, score=-462480731.026 total time=   0.3s\n",
      "[CV 4/5; 2/54] START alpha=1e-05, l1_ratio=0.01.................................\n"
     ]
    },
    {
     "name": "stderr",
     "output_type": "stream",
     "text": [
      "C:\\Users\\jansl\\anaconda3\\lib\\site-packages\\sklearn\\linear_model\\_coordinate_descent.py:647: ConvergenceWarning: Objective did not converge. You might want to increase the number of iterations, check the scale of the features or consider increasing regularisation. Duality gap: 3.458e+11, tolerance: 1.265e+09\n",
      "  model = cd_fast.enet_coordinate_descent(\n"
     ]
    },
    {
     "name": "stdout",
     "output_type": "stream",
     "text": [
      "[CV 4/5; 2/54] END alpha=1e-05, l1_ratio=0.01;, score=-620583993.940 total time=   0.2s\n",
      "[CV 5/5; 2/54] START alpha=1e-05, l1_ratio=0.01.................................\n"
     ]
    },
    {
     "name": "stderr",
     "output_type": "stream",
     "text": [
      "C:\\Users\\jansl\\anaconda3\\lib\\site-packages\\sklearn\\linear_model\\_coordinate_descent.py:647: ConvergenceWarning: Objective did not converge. You might want to increase the number of iterations, check the scale of the features or consider increasing regularisation. Duality gap: 3.868e+11, tolerance: 1.277e+09\n",
      "  model = cd_fast.enet_coordinate_descent(\n"
     ]
    },
    {
     "name": "stdout",
     "output_type": "stream",
     "text": [
      "[CV 5/5; 2/54] END alpha=1e-05, l1_ratio=0.01;, score=-490356804.768 total time=   0.2s\n",
      "[CV 1/5; 3/54] START alpha=1e-05, l1_ratio=0.1..................................\n"
     ]
    },
    {
     "name": "stderr",
     "output_type": "stream",
     "text": [
      "C:\\Users\\jansl\\anaconda3\\lib\\site-packages\\sklearn\\linear_model\\_coordinate_descent.py:647: ConvergenceWarning: Objective did not converge. You might want to increase the number of iterations, check the scale of the features or consider increasing regularisation. Duality gap: 3.903e+11, tolerance: 1.302e+09\n",
      "  model = cd_fast.enet_coordinate_descent(\n"
     ]
    },
    {
     "name": "stdout",
     "output_type": "stream",
     "text": [
      "[CV 1/5; 3/54] END alpha=1e-05, l1_ratio=0.1;, score=-496190337.266 total time=   0.2s\n",
      "[CV 2/5; 3/54] START alpha=1e-05, l1_ratio=0.1..................................\n"
     ]
    },
    {
     "name": "stderr",
     "output_type": "stream",
     "text": [
      "C:\\Users\\jansl\\anaconda3\\lib\\site-packages\\sklearn\\linear_model\\_coordinate_descent.py:647: ConvergenceWarning: Objective did not converge. You might want to increase the number of iterations, check the scale of the features or consider increasing regularisation. Duality gap: 3.784e+11, tolerance: 1.278e+09\n",
      "  model = cd_fast.enet_coordinate_descent(\n"
     ]
    },
    {
     "name": "stdout",
     "output_type": "stream",
     "text": [
      "[CV 2/5; 3/54] END alpha=1e-05, l1_ratio=0.1;, score=-539862454.176 total time=   0.3s\n",
      "[CV 3/5; 3/54] START alpha=1e-05, l1_ratio=0.1..................................\n"
     ]
    },
    {
     "name": "stderr",
     "output_type": "stream",
     "text": [
      "C:\\Users\\jansl\\anaconda3\\lib\\site-packages\\sklearn\\linear_model\\_coordinate_descent.py:647: ConvergenceWarning: Objective did not converge. You might want to increase the number of iterations, check the scale of the features or consider increasing regularisation. Duality gap: 3.887e+11, tolerance: 1.358e+09\n",
      "  model = cd_fast.enet_coordinate_descent(\n"
     ]
    },
    {
     "name": "stdout",
     "output_type": "stream",
     "text": [
      "[CV 3/5; 3/54] END alpha=1e-05, l1_ratio=0.1;, score=-462482882.893 total time=   0.2s\n",
      "[CV 4/5; 3/54] START alpha=1e-05, l1_ratio=0.1..................................\n"
     ]
    },
    {
     "name": "stderr",
     "output_type": "stream",
     "text": [
      "C:\\Users\\jansl\\anaconda3\\lib\\site-packages\\sklearn\\linear_model\\_coordinate_descent.py:647: ConvergenceWarning: Objective did not converge. You might want to increase the number of iterations, check the scale of the features or consider increasing regularisation. Duality gap: 3.458e+11, tolerance: 1.265e+09\n",
      "  model = cd_fast.enet_coordinate_descent(\n"
     ]
    },
    {
     "name": "stdout",
     "output_type": "stream",
     "text": [
      "[CV 4/5; 3/54] END alpha=1e-05, l1_ratio=0.1;, score=-620581101.800 total time=   0.3s\n",
      "[CV 5/5; 3/54] START alpha=1e-05, l1_ratio=0.1..................................\n"
     ]
    },
    {
     "name": "stderr",
     "output_type": "stream",
     "text": [
      "C:\\Users\\jansl\\anaconda3\\lib\\site-packages\\sklearn\\linear_model\\_coordinate_descent.py:647: ConvergenceWarning: Objective did not converge. You might want to increase the number of iterations, check the scale of the features or consider increasing regularisation. Duality gap: 3.868e+11, tolerance: 1.277e+09\n",
      "  model = cd_fast.enet_coordinate_descent(\n"
     ]
    },
    {
     "name": "stdout",
     "output_type": "stream",
     "text": [
      "[CV 5/5; 3/54] END alpha=1e-05, l1_ratio=0.1;, score=-490402651.341 total time=   0.3s\n",
      "[CV 1/5; 4/54] START alpha=1e-05, l1_ratio=0.7..................................\n"
     ]
    },
    {
     "name": "stderr",
     "output_type": "stream",
     "text": [
      "C:\\Users\\jansl\\anaconda3\\lib\\site-packages\\sklearn\\linear_model\\_coordinate_descent.py:647: ConvergenceWarning: Objective did not converge. You might want to increase the number of iterations, check the scale of the features or consider increasing regularisation. Duality gap: 3.903e+11, tolerance: 1.302e+09\n",
      "  model = cd_fast.enet_coordinate_descent(\n"
     ]
    },
    {
     "name": "stdout",
     "output_type": "stream",
     "text": [
      "[CV 1/5; 4/54] END alpha=1e-05, l1_ratio=0.7;, score=-496261948.332 total time=   0.3s\n",
      "[CV 2/5; 4/54] START alpha=1e-05, l1_ratio=0.7..................................\n"
     ]
    },
    {
     "name": "stderr",
     "output_type": "stream",
     "text": [
      "C:\\Users\\jansl\\anaconda3\\lib\\site-packages\\sklearn\\linear_model\\_coordinate_descent.py:647: ConvergenceWarning: Objective did not converge. You might want to increase the number of iterations, check the scale of the features or consider increasing regularisation. Duality gap: 3.783e+11, tolerance: 1.278e+09\n",
      "  model = cd_fast.enet_coordinate_descent(\n"
     ]
    },
    {
     "name": "stdout",
     "output_type": "stream",
     "text": [
      "[CV 2/5; 4/54] END alpha=1e-05, l1_ratio=0.7;, score=-539847296.798 total time=   0.3s\n",
      "[CV 3/5; 4/54] START alpha=1e-05, l1_ratio=0.7..................................\n"
     ]
    },
    {
     "name": "stderr",
     "output_type": "stream",
     "text": [
      "C:\\Users\\jansl\\anaconda3\\lib\\site-packages\\sklearn\\linear_model\\_coordinate_descent.py:647: ConvergenceWarning: Objective did not converge. You might want to increase the number of iterations, check the scale of the features or consider increasing regularisation. Duality gap: 3.887e+11, tolerance: 1.358e+09\n",
      "  model = cd_fast.enet_coordinate_descent(\n"
     ]
    },
    {
     "name": "stdout",
     "output_type": "stream",
     "text": [
      "[CV 3/5; 4/54] END alpha=1e-05, l1_ratio=0.7;, score=-462497314.947 total time=   0.3s\n",
      "[CV 4/5; 4/54] START alpha=1e-05, l1_ratio=0.7..................................\n"
     ]
    },
    {
     "name": "stderr",
     "output_type": "stream",
     "text": [
      "C:\\Users\\jansl\\anaconda3\\lib\\site-packages\\sklearn\\linear_model\\_coordinate_descent.py:647: ConvergenceWarning: Objective did not converge. You might want to increase the number of iterations, check the scale of the features or consider increasing regularisation. Duality gap: 3.458e+11, tolerance: 1.265e+09\n",
      "  model = cd_fast.enet_coordinate_descent(\n"
     ]
    },
    {
     "name": "stdout",
     "output_type": "stream",
     "text": [
      "[CV 4/5; 4/54] END alpha=1e-05, l1_ratio=0.7;, score=-620561923.395 total time=   0.3s\n",
      "[CV 5/5; 4/54] START alpha=1e-05, l1_ratio=0.7..................................\n"
     ]
    },
    {
     "name": "stderr",
     "output_type": "stream",
     "text": [
      "C:\\Users\\jansl\\anaconda3\\lib\\site-packages\\sklearn\\linear_model\\_coordinate_descent.py:647: ConvergenceWarning: Objective did not converge. You might want to increase the number of iterations, check the scale of the features or consider increasing regularisation. Duality gap: 3.868e+11, tolerance: 1.277e+09\n",
      "  model = cd_fast.enet_coordinate_descent(\n"
     ]
    },
    {
     "name": "stdout",
     "output_type": "stream",
     "text": [
      "[CV 5/5; 4/54] END alpha=1e-05, l1_ratio=0.7;, score=-490709739.091 total time=   0.3s\n",
      "[CV 1/5; 5/54] START alpha=1e-05, l1_ratio=0.99.................................\n"
     ]
    },
    {
     "name": "stderr",
     "output_type": "stream",
     "text": [
      "C:\\Users\\jansl\\anaconda3\\lib\\site-packages\\sklearn\\linear_model\\_coordinate_descent.py:647: ConvergenceWarning: Objective did not converge. You might want to increase the number of iterations, check the scale of the features or consider increasing regularisation. Duality gap: 3.903e+11, tolerance: 1.302e+09\n",
      "  model = cd_fast.enet_coordinate_descent(\n"
     ]
    },
    {
     "name": "stdout",
     "output_type": "stream",
     "text": [
      "[CV 1/5; 5/54] END alpha=1e-05, l1_ratio=0.99;, score=-496296715.884 total time=   0.2s\n",
      "[CV 2/5; 5/54] START alpha=1e-05, l1_ratio=0.99.................................\n"
     ]
    },
    {
     "name": "stderr",
     "output_type": "stream",
     "text": [
      "C:\\Users\\jansl\\anaconda3\\lib\\site-packages\\sklearn\\linear_model\\_coordinate_descent.py:647: ConvergenceWarning: Objective did not converge. You might want to increase the number of iterations, check the scale of the features or consider increasing regularisation. Duality gap: 3.783e+11, tolerance: 1.278e+09\n",
      "  model = cd_fast.enet_coordinate_descent(\n"
     ]
    },
    {
     "name": "stdout",
     "output_type": "stream",
     "text": [
      "[CV 2/5; 5/54] END alpha=1e-05, l1_ratio=0.99;, score=-539839956.692 total time=   0.2s\n",
      "[CV 3/5; 5/54] START alpha=1e-05, l1_ratio=0.99.................................\n"
     ]
    },
    {
     "name": "stderr",
     "output_type": "stream",
     "text": [
      "C:\\Users\\jansl\\anaconda3\\lib\\site-packages\\sklearn\\linear_model\\_coordinate_descent.py:647: ConvergenceWarning: Objective did not converge. You might want to increase the number of iterations, check the scale of the features or consider increasing regularisation. Duality gap: 3.886e+11, tolerance: 1.358e+09\n",
      "  model = cd_fast.enet_coordinate_descent(\n"
     ]
    },
    {
     "name": "stdout",
     "output_type": "stream",
     "text": [
      "[CV 3/5; 5/54] END alpha=1e-05, l1_ratio=0.99;, score=-462504344.615 total time=   0.2s\n",
      "[CV 4/5; 5/54] START alpha=1e-05, l1_ratio=0.99.................................\n"
     ]
    },
    {
     "name": "stderr",
     "output_type": "stream",
     "text": [
      "C:\\Users\\jansl\\anaconda3\\lib\\site-packages\\sklearn\\linear_model\\_coordinate_descent.py:647: ConvergenceWarning: Objective did not converge. You might want to increase the number of iterations, check the scale of the features or consider increasing regularisation. Duality gap: 3.458e+11, tolerance: 1.265e+09\n",
      "  model = cd_fast.enet_coordinate_descent(\n"
     ]
    },
    {
     "name": "stdout",
     "output_type": "stream",
     "text": [
      "[CV 4/5; 5/54] END alpha=1e-05, l1_ratio=0.99;, score=-620552719.777 total time=   0.2s\n",
      "[CV 5/5; 5/54] START alpha=1e-05, l1_ratio=0.99.................................\n"
     ]
    },
    {
     "name": "stderr",
     "output_type": "stream",
     "text": [
      "C:\\Users\\jansl\\anaconda3\\lib\\site-packages\\sklearn\\linear_model\\_coordinate_descent.py:647: ConvergenceWarning: Objective did not converge. You might want to increase the number of iterations, check the scale of the features or consider increasing regularisation. Duality gap: 3.867e+11, tolerance: 1.277e+09\n",
      "  model = cd_fast.enet_coordinate_descent(\n"
     ]
    },
    {
     "name": "stdout",
     "output_type": "stream",
     "text": [
      "[CV 5/5; 5/54] END alpha=1e-05, l1_ratio=0.99;, score=-490859067.746 total time=   0.2s\n",
      "[CV 1/5; 6/54] START alpha=1e-05, l1_ratio=1....................................\n"
     ]
    },
    {
     "name": "stderr",
     "output_type": "stream",
     "text": [
      "C:\\Users\\jansl\\anaconda3\\lib\\site-packages\\sklearn\\linear_model\\_coordinate_descent.py:647: ConvergenceWarning: Objective did not converge. You might want to increase the number of iterations, check the scale of the features or consider increasing regularisation. Duality gap: 3.903e+11, tolerance: 1.302e+09\n",
      "  model = cd_fast.enet_coordinate_descent(\n"
     ]
    },
    {
     "name": "stdout",
     "output_type": "stream",
     "text": [
      "[CV 1/5; 6/54] END alpha=1e-05, l1_ratio=1;, score=-496297916.570 total time=   0.2s\n",
      "[CV 2/5; 6/54] START alpha=1e-05, l1_ratio=1....................................\n"
     ]
    },
    {
     "name": "stderr",
     "output_type": "stream",
     "text": [
      "C:\\Users\\jansl\\anaconda3\\lib\\site-packages\\sklearn\\linear_model\\_coordinate_descent.py:647: ConvergenceWarning: Objective did not converge. You might want to increase the number of iterations, check the scale of the features or consider increasing regularisation. Duality gap: 3.783e+11, tolerance: 1.278e+09\n",
      "  model = cd_fast.enet_coordinate_descent(\n"
     ]
    },
    {
     "name": "stdout",
     "output_type": "stream",
     "text": [
      "[CV 2/5; 6/54] END alpha=1e-05, l1_ratio=1;, score=-539839703.423 total time=   0.2s\n",
      "[CV 3/5; 6/54] START alpha=1e-05, l1_ratio=1....................................\n"
     ]
    },
    {
     "name": "stderr",
     "output_type": "stream",
     "text": [
      "C:\\Users\\jansl\\anaconda3\\lib\\site-packages\\sklearn\\linear_model\\_coordinate_descent.py:647: ConvergenceWarning: Objective did not converge. You might want to increase the number of iterations, check the scale of the features or consider increasing regularisation. Duality gap: 3.886e+11, tolerance: 1.358e+09\n",
      "  model = cd_fast.enet_coordinate_descent(\n"
     ]
    },
    {
     "name": "stdout",
     "output_type": "stream",
     "text": [
      "[CV 3/5; 6/54] END alpha=1e-05, l1_ratio=1;, score=-462504587.651 total time=   0.2s\n",
      "[CV 4/5; 6/54] START alpha=1e-05, l1_ratio=1....................................\n"
     ]
    },
    {
     "name": "stderr",
     "output_type": "stream",
     "text": [
      "C:\\Users\\jansl\\anaconda3\\lib\\site-packages\\sklearn\\linear_model\\_coordinate_descent.py:647: ConvergenceWarning: Objective did not converge. You might want to increase the number of iterations, check the scale of the features or consider increasing regularisation. Duality gap: 3.458e+11, tolerance: 1.265e+09\n",
      "  model = cd_fast.enet_coordinate_descent(\n"
     ]
    },
    {
     "name": "stdout",
     "output_type": "stream",
     "text": [
      "[CV 4/5; 6/54] END alpha=1e-05, l1_ratio=1;, score=-620552403.199 total time=   0.2s\n",
      "[CV 5/5; 6/54] START alpha=1e-05, l1_ratio=1....................................\n"
     ]
    },
    {
     "name": "stderr",
     "output_type": "stream",
     "text": [
      "C:\\Users\\jansl\\anaconda3\\lib\\site-packages\\sklearn\\linear_model\\_coordinate_descent.py:647: ConvergenceWarning: Objective did not converge. You might want to increase the number of iterations, check the scale of the features or consider increasing regularisation. Duality gap: 3.867e+11, tolerance: 1.277e+09\n",
      "  model = cd_fast.enet_coordinate_descent(\n"
     ]
    },
    {
     "name": "stdout",
     "output_type": "stream",
     "text": [
      "[CV 5/5; 6/54] END alpha=1e-05, l1_ratio=1;, score=-490864227.533 total time=   0.2s\n",
      "[CV 1/5; 7/54] START alpha=0.0001, l1_ratio=0...................................\n"
     ]
    },
    {
     "name": "stderr",
     "output_type": "stream",
     "text": [
      "C:\\Users\\jansl\\anaconda3\\lib\\site-packages\\sklearn\\linear_model\\_coordinate_descent.py:647: ConvergenceWarning: Objective did not converge. You might want to increase the number of iterations, check the scale of the features or consider increasing regularisation. Duality gap: 3.907e+11, tolerance: 1.302e+09 Linear regression models with null weight for the l1 regularization term are more efficiently fitted using one of the solvers implemented in sklearn.linear_model.Ridge/RidgeCV instead.\n",
      "  model = cd_fast.enet_coordinate_descent(\n"
     ]
    },
    {
     "name": "stdout",
     "output_type": "stream",
     "text": [
      "[CV 1/5; 7/54] END alpha=0.0001, l1_ratio=0;, score=-495157370.075 total time=   0.2s\n",
      "[CV 2/5; 7/54] START alpha=0.0001, l1_ratio=0...................................\n"
     ]
    },
    {
     "name": "stderr",
     "output_type": "stream",
     "text": [
      "C:\\Users\\jansl\\anaconda3\\lib\\site-packages\\sklearn\\linear_model\\_coordinate_descent.py:647: ConvergenceWarning: Objective did not converge. You might want to increase the number of iterations, check the scale of the features or consider increasing regularisation. Duality gap: 3.788e+11, tolerance: 1.278e+09 Linear regression models with null weight for the l1 regularization term are more efficiently fitted using one of the solvers implemented in sklearn.linear_model.Ridge/RidgeCV instead.\n",
      "  model = cd_fast.enet_coordinate_descent(\n"
     ]
    },
    {
     "name": "stdout",
     "output_type": "stream",
     "text": [
      "[CV 2/5; 7/54] END alpha=0.0001, l1_ratio=0;, score=-540087122.234 total time=   0.2s\n",
      "[CV 3/5; 7/54] START alpha=0.0001, l1_ratio=0...................................\n"
     ]
    },
    {
     "name": "stderr",
     "output_type": "stream",
     "text": [
      "C:\\Users\\jansl\\anaconda3\\lib\\site-packages\\sklearn\\linear_model\\_coordinate_descent.py:647: ConvergenceWarning: Objective did not converge. You might want to increase the number of iterations, check the scale of the features or consider increasing regularisation. Duality gap: 3.892e+11, tolerance: 1.358e+09 Linear regression models with null weight for the l1 regularization term are more efficiently fitted using one of the solvers implemented in sklearn.linear_model.Ridge/RidgeCV instead.\n",
      "  model = cd_fast.enet_coordinate_descent(\n"
     ]
    },
    {
     "name": "stdout",
     "output_type": "stream",
     "text": [
      "[CV 3/5; 7/54] END alpha=0.0001, l1_ratio=0;, score=-462281178.631 total time=   0.2s\n",
      "[CV 4/5; 7/54] START alpha=0.0001, l1_ratio=0...................................\n"
     ]
    },
    {
     "name": "stderr",
     "output_type": "stream",
     "text": [
      "C:\\Users\\jansl\\anaconda3\\lib\\site-packages\\sklearn\\linear_model\\_coordinate_descent.py:647: ConvergenceWarning: Objective did not converge. You might want to increase the number of iterations, check the scale of the features or consider increasing regularisation. Duality gap: 3.462e+11, tolerance: 1.265e+09 Linear regression models with null weight for the l1 regularization term are more efficiently fitted using one of the solvers implemented in sklearn.linear_model.Ridge/RidgeCV instead.\n",
      "  model = cd_fast.enet_coordinate_descent(\n"
     ]
    },
    {
     "name": "stdout",
     "output_type": "stream",
     "text": [
      "[CV 4/5; 7/54] END alpha=0.0001, l1_ratio=0;, score=-620888614.788 total time=   0.2s\n",
      "[CV 5/5; 7/54] START alpha=0.0001, l1_ratio=0...................................\n"
     ]
    },
    {
     "name": "stderr",
     "output_type": "stream",
     "text": [
      "C:\\Users\\jansl\\anaconda3\\lib\\site-packages\\sklearn\\linear_model\\_coordinate_descent.py:647: ConvergenceWarning: Objective did not converge. You might want to increase the number of iterations, check the scale of the features or consider increasing regularisation. Duality gap: 3.876e+11, tolerance: 1.277e+09 Linear regression models with null weight for the l1 regularization term are more efficiently fitted using one of the solvers implemented in sklearn.linear_model.Ridge/RidgeCV instead.\n",
      "  model = cd_fast.enet_coordinate_descent(\n"
     ]
    },
    {
     "name": "stdout",
     "output_type": "stream",
     "text": [
      "[CV 5/5; 7/54] END alpha=0.0001, l1_ratio=0;, score=-486043907.663 total time=   0.2s\n",
      "[CV 1/5; 8/54] START alpha=0.0001, l1_ratio=0.01................................\n"
     ]
    },
    {
     "name": "stderr",
     "output_type": "stream",
     "text": [
      "C:\\Users\\jansl\\anaconda3\\lib\\site-packages\\sklearn\\linear_model\\_coordinate_descent.py:647: ConvergenceWarning: Objective did not converge. You might want to increase the number of iterations, check the scale of the features or consider increasing regularisation. Duality gap: 3.907e+11, tolerance: 1.302e+09\n",
      "  model = cd_fast.enet_coordinate_descent(\n"
     ]
    },
    {
     "name": "stdout",
     "output_type": "stream",
     "text": [
      "[CV 1/5; 8/54] END alpha=0.0001, l1_ratio=0.01;, score=-495168178.468 total time=   0.2s\n",
      "[CV 2/5; 8/54] START alpha=0.0001, l1_ratio=0.01................................\n"
     ]
    },
    {
     "name": "stderr",
     "output_type": "stream",
     "text": [
      "C:\\Users\\jansl\\anaconda3\\lib\\site-packages\\sklearn\\linear_model\\_coordinate_descent.py:647: ConvergenceWarning: Objective did not converge. You might want to increase the number of iterations, check the scale of the features or consider increasing regularisation. Duality gap: 3.788e+11, tolerance: 1.278e+09\n",
      "  model = cd_fast.enet_coordinate_descent(\n"
     ]
    },
    {
     "name": "stdout",
     "output_type": "stream",
     "text": [
      "[CV 2/5; 8/54] END alpha=0.0001, l1_ratio=0.01;, score=-540084709.302 total time=   0.2s\n",
      "[CV 3/5; 8/54] START alpha=0.0001, l1_ratio=0.01................................\n"
     ]
    },
    {
     "name": "stderr",
     "output_type": "stream",
     "text": [
      "C:\\Users\\jansl\\anaconda3\\lib\\site-packages\\sklearn\\linear_model\\_coordinate_descent.py:647: ConvergenceWarning: Objective did not converge. You might want to increase the number of iterations, check the scale of the features or consider increasing regularisation. Duality gap: 3.892e+11, tolerance: 1.358e+09\n",
      "  model = cd_fast.enet_coordinate_descent(\n"
     ]
    },
    {
     "name": "stdout",
     "output_type": "stream",
     "text": [
      "[CV 3/5; 8/54] END alpha=0.0001, l1_ratio=0.01;, score=-462283230.974 total time=   0.2s\n",
      "[CV 4/5; 8/54] START alpha=0.0001, l1_ratio=0.01................................\n"
     ]
    },
    {
     "name": "stderr",
     "output_type": "stream",
     "text": [
      "C:\\Users\\jansl\\anaconda3\\lib\\site-packages\\sklearn\\linear_model\\_coordinate_descent.py:647: ConvergenceWarning: Objective did not converge. You might want to increase the number of iterations, check the scale of the features or consider increasing regularisation. Duality gap: 3.462e+11, tolerance: 1.265e+09\n",
      "  model = cd_fast.enet_coordinate_descent(\n"
     ]
    },
    {
     "name": "stdout",
     "output_type": "stream",
     "text": [
      "[CV 4/5; 8/54] END alpha=0.0001, l1_ratio=0.01;, score=-620885121.245 total time=   0.2s\n",
      "[CV 5/5; 8/54] START alpha=0.0001, l1_ratio=0.01................................\n"
     ]
    },
    {
     "name": "stderr",
     "output_type": "stream",
     "text": [
      "C:\\Users\\jansl\\anaconda3\\lib\\site-packages\\sklearn\\linear_model\\_coordinate_descent.py:647: ConvergenceWarning: Objective did not converge. You might want to increase the number of iterations, check the scale of the features or consider increasing regularisation. Duality gap: 3.876e+11, tolerance: 1.277e+09\n",
      "  model = cd_fast.enet_coordinate_descent(\n"
     ]
    },
    {
     "name": "stdout",
     "output_type": "stream",
     "text": [
      "[CV 5/5; 8/54] END alpha=0.0001, l1_ratio=0.01;, score=-486088847.388 total time=   0.2s\n",
      "[CV 1/5; 9/54] START alpha=0.0001, l1_ratio=0.1.................................\n"
     ]
    },
    {
     "name": "stderr",
     "output_type": "stream",
     "text": [
      "C:\\Users\\jansl\\anaconda3\\lib\\site-packages\\sklearn\\linear_model\\_coordinate_descent.py:647: ConvergenceWarning: Objective did not converge. You might want to increase the number of iterations, check the scale of the features or consider increasing regularisation. Duality gap: 3.907e+11, tolerance: 1.302e+09\n",
      "  model = cd_fast.enet_coordinate_descent(\n"
     ]
    },
    {
     "name": "stdout",
     "output_type": "stream",
     "text": [
      "[CV 1/5; 9/54] END alpha=0.0001, l1_ratio=0.1;, score=-495265994.361 total time=   0.2s\n",
      "[CV 2/5; 9/54] START alpha=0.0001, l1_ratio=0.1.................................\n"
     ]
    },
    {
     "name": "stderr",
     "output_type": "stream",
     "text": [
      "C:\\Users\\jansl\\anaconda3\\lib\\site-packages\\sklearn\\linear_model\\_coordinate_descent.py:647: ConvergenceWarning: Objective did not converge. You might want to increase the number of iterations, check the scale of the features or consider increasing regularisation. Duality gap: 3.788e+11, tolerance: 1.278e+09\n",
      "  model = cd_fast.enet_coordinate_descent(\n"
     ]
    },
    {
     "name": "stdout",
     "output_type": "stream",
     "text": [
      "[CV 2/5; 9/54] END alpha=0.0001, l1_ratio=0.1;, score=-540062934.363 total time=   0.2s\n",
      "[CV 3/5; 9/54] START alpha=0.0001, l1_ratio=0.1.................................\n"
     ]
    },
    {
     "name": "stderr",
     "output_type": "stream",
     "text": [
      "C:\\Users\\jansl\\anaconda3\\lib\\site-packages\\sklearn\\linear_model\\_coordinate_descent.py:647: ConvergenceWarning: Objective did not converge. You might want to increase the number of iterations, check the scale of the features or consider increasing regularisation. Duality gap: 3.891e+11, tolerance: 1.358e+09\n",
      "  model = cd_fast.enet_coordinate_descent(\n"
     ]
    },
    {
     "name": "stdout",
     "output_type": "stream",
     "text": [
      "[CV 3/5; 9/54] END alpha=0.0001, l1_ratio=0.1;, score=-462301856.014 total time=   0.2s\n",
      "[CV 4/5; 9/54] START alpha=0.0001, l1_ratio=0.1.................................\n"
     ]
    },
    {
     "name": "stderr",
     "output_type": "stream",
     "text": [
      "C:\\Users\\jansl\\anaconda3\\lib\\site-packages\\sklearn\\linear_model\\_coordinate_descent.py:647: ConvergenceWarning: Objective did not converge. You might want to increase the number of iterations, check the scale of the features or consider increasing regularisation. Duality gap: 3.462e+11, tolerance: 1.265e+09\n",
      "  model = cd_fast.enet_coordinate_descent(\n"
     ]
    },
    {
     "name": "stdout",
     "output_type": "stream",
     "text": [
      "[CV 4/5; 9/54] END alpha=0.0001, l1_ratio=0.1;, score=-620853755.298 total time=   0.2s\n",
      "[CV 5/5; 9/54] START alpha=0.0001, l1_ratio=0.1.................................\n"
     ]
    },
    {
     "name": "stderr",
     "output_type": "stream",
     "text": [
      "C:\\Users\\jansl\\anaconda3\\lib\\site-packages\\sklearn\\linear_model\\_coordinate_descent.py:647: ConvergenceWarning: Objective did not converge. You might want to increase the number of iterations, check the scale of the features or consider increasing regularisation. Duality gap: 3.875e+11, tolerance: 1.277e+09\n",
      "  model = cd_fast.enet_coordinate_descent(\n"
     ]
    },
    {
     "name": "stdout",
     "output_type": "stream",
     "text": [
      "[CV 5/5; 9/54] END alpha=0.0001, l1_ratio=0.1;, score=-486496177.172 total time=   0.2s\n",
      "[CV 1/5; 10/54] START alpha=0.0001, l1_ratio=0.7................................\n"
     ]
    },
    {
     "name": "stderr",
     "output_type": "stream",
     "text": [
      "C:\\Users\\jansl\\anaconda3\\lib\\site-packages\\sklearn\\linear_model\\_coordinate_descent.py:647: ConvergenceWarning: Objective did not converge. You might want to increase the number of iterations, check the scale of the features or consider increasing regularisation. Duality gap: 3.904e+11, tolerance: 1.302e+09\n",
      "  model = cd_fast.enet_coordinate_descent(\n"
     ]
    },
    {
     "name": "stdout",
     "output_type": "stream",
     "text": [
      "[CV 1/5; 10/54] END alpha=0.0001, l1_ratio=0.7;, score=-495943053.794 total time=   0.2s\n",
      "[CV 2/5; 10/54] START alpha=0.0001, l1_ratio=0.7................................\n"
     ]
    },
    {
     "name": "stderr",
     "output_type": "stream",
     "text": [
      "C:\\Users\\jansl\\anaconda3\\lib\\site-packages\\sklearn\\linear_model\\_coordinate_descent.py:647: ConvergenceWarning: Objective did not converge. You might want to increase the number of iterations, check the scale of the features or consider increasing regularisation. Duality gap: 3.785e+11, tolerance: 1.278e+09\n",
      "  model = cd_fast.enet_coordinate_descent(\n"
     ]
    },
    {
     "name": "stdout",
     "output_type": "stream",
     "text": [
      "[CV 2/5; 10/54] END alpha=0.0001, l1_ratio=0.7;, score=-539915161.637 total time=   0.2s\n",
      "[CV 3/5; 10/54] START alpha=0.0001, l1_ratio=0.7................................\n"
     ]
    },
    {
     "name": "stderr",
     "output_type": "stream",
     "text": [
      "C:\\Users\\jansl\\anaconda3\\lib\\site-packages\\sklearn\\linear_model\\_coordinate_descent.py:647: ConvergenceWarning: Objective did not converge. You might want to increase the number of iterations, check the scale of the features or consider increasing regularisation. Duality gap: 3.888e+11, tolerance: 1.358e+09\n",
      "  model = cd_fast.enet_coordinate_descent(\n"
     ]
    },
    {
     "name": "stdout",
     "output_type": "stream",
     "text": [
      "[CV 3/5; 10/54] END alpha=0.0001, l1_ratio=0.7;, score=-462433482.146 total time=   0.2s\n",
      "[CV 4/5; 10/54] START alpha=0.0001, l1_ratio=0.7................................\n"
     ]
    },
    {
     "name": "stderr",
     "output_type": "stream",
     "text": [
      "C:\\Users\\jansl\\anaconda3\\lib\\site-packages\\sklearn\\linear_model\\_coordinate_descent.py:647: ConvergenceWarning: Objective did not converge. You might want to increase the number of iterations, check the scale of the features or consider increasing regularisation. Duality gap: 3.459e+11, tolerance: 1.265e+09\n",
      "  model = cd_fast.enet_coordinate_descent(\n"
     ]
    },
    {
     "name": "stdout",
     "output_type": "stream",
     "text": [
      "[CV 4/5; 10/54] END alpha=0.0001, l1_ratio=0.7;, score=-620649693.784 total time=   0.2s\n",
      "[CV 5/5; 10/54] START alpha=0.0001, l1_ratio=0.7................................\n"
     ]
    },
    {
     "name": "stderr",
     "output_type": "stream",
     "text": [
      "C:\\Users\\jansl\\anaconda3\\lib\\site-packages\\sklearn\\linear_model\\_coordinate_descent.py:647: ConvergenceWarning: Objective did not converge. You might want to increase the number of iterations, check the scale of the features or consider increasing regularisation. Duality gap: 3.870e+11, tolerance: 1.277e+09\n",
      "  model = cd_fast.enet_coordinate_descent(\n"
     ]
    },
    {
     "name": "stdout",
     "output_type": "stream",
     "text": [
      "[CV 5/5; 10/54] END alpha=0.0001, l1_ratio=0.7;, score=-489347085.429 total time=   0.3s\n",
      "[CV 1/5; 11/54] START alpha=0.0001, l1_ratio=0.99...............................\n"
     ]
    },
    {
     "name": "stderr",
     "output_type": "stream",
     "text": [
      "C:\\Users\\jansl\\anaconda3\\lib\\site-packages\\sklearn\\linear_model\\_coordinate_descent.py:647: ConvergenceWarning: Objective did not converge. You might want to increase the number of iterations, check the scale of the features or consider increasing regularisation. Duality gap: 3.903e+11, tolerance: 1.302e+09\n",
      "  model = cd_fast.enet_coordinate_descent(\n"
     ]
    },
    {
     "name": "stdout",
     "output_type": "stream",
     "text": [
      "[CV 1/5; 11/54] END alpha=0.0001, l1_ratio=0.99;, score=-496285851.697 total time=   0.3s\n",
      "[CV 2/5; 11/54] START alpha=0.0001, l1_ratio=0.99...............................\n"
     ]
    },
    {
     "name": "stderr",
     "output_type": "stream",
     "text": [
      "C:\\Users\\jansl\\anaconda3\\lib\\site-packages\\sklearn\\linear_model\\_coordinate_descent.py:647: ConvergenceWarning: Objective did not converge. You might want to increase the number of iterations, check the scale of the features or consider increasing regularisation. Duality gap: 3.783e+11, tolerance: 1.278e+09\n",
      "  model = cd_fast.enet_coordinate_descent(\n"
     ]
    },
    {
     "name": "stdout",
     "output_type": "stream",
     "text": [
      "[CV 2/5; 11/54] END alpha=0.0001, l1_ratio=0.99;, score=-539842208.816 total time=   0.2s\n",
      "[CV 3/5; 11/54] START alpha=0.0001, l1_ratio=0.99...............................\n"
     ]
    },
    {
     "name": "stderr",
     "output_type": "stream",
     "text": [
      "C:\\Users\\jansl\\anaconda3\\lib\\site-packages\\sklearn\\linear_model\\_coordinate_descent.py:647: ConvergenceWarning: Objective did not converge. You might want to increase the number of iterations, check the scale of the features or consider increasing regularisation. Duality gap: 3.886e+11, tolerance: 1.358e+09\n",
      "  model = cd_fast.enet_coordinate_descent(\n"
     ]
    },
    {
     "name": "stdout",
     "output_type": "stream",
     "text": [
      "[CV 3/5; 11/54] END alpha=0.0001, l1_ratio=0.99;, score=-462502105.348 total time=   0.3s\n",
      "[CV 4/5; 11/54] START alpha=0.0001, l1_ratio=0.99...............................\n"
     ]
    },
    {
     "name": "stderr",
     "output_type": "stream",
     "text": [
      "C:\\Users\\jansl\\anaconda3\\lib\\site-packages\\sklearn\\linear_model\\_coordinate_descent.py:647: ConvergenceWarning: Objective did not converge. You might want to increase the number of iterations, check the scale of the features or consider increasing regularisation. Duality gap: 3.458e+11, tolerance: 1.265e+09\n",
      "  model = cd_fast.enet_coordinate_descent(\n"
     ]
    },
    {
     "name": "stdout",
     "output_type": "stream",
     "text": [
      "[CV 4/5; 11/54] END alpha=0.0001, l1_ratio=0.99;, score=-620555800.722 total time=   0.2s\n",
      "[CV 5/5; 11/54] START alpha=0.0001, l1_ratio=0.99...............................\n"
     ]
    },
    {
     "name": "stderr",
     "output_type": "stream",
     "text": [
      "C:\\Users\\jansl\\anaconda3\\lib\\site-packages\\sklearn\\linear_model\\_coordinate_descent.py:647: ConvergenceWarning: Objective did not converge. You might want to increase the number of iterations, check the scale of the features or consider increasing regularisation. Duality gap: 3.867e+11, tolerance: 1.277e+09\n",
      "  model = cd_fast.enet_coordinate_descent(\n"
     ]
    },
    {
     "name": "stdout",
     "output_type": "stream",
     "text": [
      "[CV 5/5; 11/54] END alpha=0.0001, l1_ratio=0.99;, score=-490812236.668 total time=   0.3s\n",
      "[CV 1/5; 12/54] START alpha=0.0001, l1_ratio=1..................................\n"
     ]
    },
    {
     "name": "stderr",
     "output_type": "stream",
     "text": [
      "C:\\Users\\jansl\\anaconda3\\lib\\site-packages\\sklearn\\linear_model\\_coordinate_descent.py:647: ConvergenceWarning: Objective did not converge. You might want to increase the number of iterations, check the scale of the features or consider increasing regularisation. Duality gap: 3.903e+11, tolerance: 1.302e+09\n",
      "  model = cd_fast.enet_coordinate_descent(\n"
     ]
    },
    {
     "name": "stdout",
     "output_type": "stream",
     "text": [
      "[CV 1/5; 12/54] END alpha=0.0001, l1_ratio=1;, score=-496297853.032 total time=   0.3s\n",
      "[CV 2/5; 12/54] START alpha=0.0001, l1_ratio=1..................................\n"
     ]
    },
    {
     "name": "stderr",
     "output_type": "stream",
     "text": [
      "C:\\Users\\jansl\\anaconda3\\lib\\site-packages\\sklearn\\linear_model\\_coordinate_descent.py:647: ConvergenceWarning: Objective did not converge. You might want to increase the number of iterations, check the scale of the features or consider increasing regularisation. Duality gap: 3.783e+11, tolerance: 1.278e+09\n",
      "  model = cd_fast.enet_coordinate_descent(\n"
     ]
    },
    {
     "name": "stdout",
     "output_type": "stream",
     "text": [
      "[CV 2/5; 12/54] END alpha=0.0001, l1_ratio=1;, score=-539839676.602 total time=   0.3s\n",
      "[CV 3/5; 12/54] START alpha=0.0001, l1_ratio=1..................................\n"
     ]
    },
    {
     "name": "stderr",
     "output_type": "stream",
     "text": [
      "C:\\Users\\jansl\\anaconda3\\lib\\site-packages\\sklearn\\linear_model\\_coordinate_descent.py:647: ConvergenceWarning: Objective did not converge. You might want to increase the number of iterations, check the scale of the features or consider increasing regularisation. Duality gap: 3.886e+11, tolerance: 1.358e+09\n",
      "  model = cd_fast.enet_coordinate_descent(\n"
     ]
    },
    {
     "name": "stdout",
     "output_type": "stream",
     "text": [
      "[CV 3/5; 12/54] END alpha=0.0001, l1_ratio=1;, score=-462504533.755 total time=   0.2s\n",
      "[CV 4/5; 12/54] START alpha=0.0001, l1_ratio=1..................................\n"
     ]
    },
    {
     "name": "stderr",
     "output_type": "stream",
     "text": [
      "C:\\Users\\jansl\\anaconda3\\lib\\site-packages\\sklearn\\linear_model\\_coordinate_descent.py:647: ConvergenceWarning: Objective did not converge. You might want to increase the number of iterations, check the scale of the features or consider increasing regularisation. Duality gap: 3.458e+11, tolerance: 1.265e+09\n",
      "  model = cd_fast.enet_coordinate_descent(\n"
     ]
    },
    {
     "name": "stdout",
     "output_type": "stream",
     "text": [
      "[CV 4/5; 12/54] END alpha=0.0001, l1_ratio=1;, score=-620552631.396 total time=   0.2s\n",
      "[CV 5/5; 12/54] START alpha=0.0001, l1_ratio=1..................................\n"
     ]
    },
    {
     "name": "stderr",
     "output_type": "stream",
     "text": [
      "C:\\Users\\jansl\\anaconda3\\lib\\site-packages\\sklearn\\linear_model\\_coordinate_descent.py:647: ConvergenceWarning: Objective did not converge. You might want to increase the number of iterations, check the scale of the features or consider increasing regularisation. Duality gap: 3.867e+11, tolerance: 1.277e+09\n",
      "  model = cd_fast.enet_coordinate_descent(\n"
     ]
    },
    {
     "name": "stdout",
     "output_type": "stream",
     "text": [
      "[CV 5/5; 12/54] END alpha=0.0001, l1_ratio=1;, score=-490863802.443 total time=   0.2s\n",
      "[CV 1/5; 13/54] START alpha=0.001, l1_ratio=0...................................\n"
     ]
    },
    {
     "name": "stderr",
     "output_type": "stream",
     "text": [
      "C:\\Users\\jansl\\anaconda3\\lib\\site-packages\\sklearn\\linear_model\\_coordinate_descent.py:647: ConvergenceWarning: Objective did not converge. You might want to increase the number of iterations, check the scale of the features or consider increasing regularisation. Duality gap: 3.938e+11, tolerance: 1.302e+09 Linear regression models with null weight for the l1 regularization term are more efficiently fitted using one of the solvers implemented in sklearn.linear_model.Ridge/RidgeCV instead.\n",
      "  model = cd_fast.enet_coordinate_descent(\n"
     ]
    },
    {
     "name": "stdout",
     "output_type": "stream",
     "text": [
      "[CV 1/5; 13/54] END alpha=0.001, l1_ratio=0;, score=-489536665.645 total time=   0.2s\n",
      "[CV 2/5; 13/54] START alpha=0.001, l1_ratio=0...................................\n"
     ]
    },
    {
     "name": "stderr",
     "output_type": "stream",
     "text": [
      "C:\\Users\\jansl\\anaconda3\\lib\\site-packages\\sklearn\\linear_model\\_coordinate_descent.py:647: ConvergenceWarning: Objective did not converge. You might want to increase the number of iterations, check the scale of the features or consider increasing regularisation. Duality gap: 3.821e+11, tolerance: 1.278e+09 Linear regression models with null weight for the l1 regularization term are more efficiently fitted using one of the solvers implemented in sklearn.linear_model.Ridge/RidgeCV instead.\n",
      "  model = cd_fast.enet_coordinate_descent(\n"
     ]
    },
    {
     "name": "stdout",
     "output_type": "stream",
     "text": [
      "[CV 2/5; 13/54] END alpha=0.001, l1_ratio=0;, score=-541701876.835 total time=   0.2s\n",
      "[CV 3/5; 13/54] START alpha=0.001, l1_ratio=0...................................\n"
     ]
    },
    {
     "name": "stderr",
     "output_type": "stream",
     "text": [
      "C:\\Users\\jansl\\anaconda3\\lib\\site-packages\\sklearn\\linear_model\\_coordinate_descent.py:647: ConvergenceWarning: Objective did not converge. You might want to increase the number of iterations, check the scale of the features or consider increasing regularisation. Duality gap: 3.927e+11, tolerance: 1.358e+09 Linear regression models with null weight for the l1 regularization term are more efficiently fitted using one of the solvers implemented in sklearn.linear_model.Ridge/RidgeCV instead.\n",
      "  model = cd_fast.enet_coordinate_descent(\n"
     ]
    },
    {
     "name": "stdout",
     "output_type": "stream",
     "text": [
      "[CV 3/5; 13/54] END alpha=0.001, l1_ratio=0;, score=-461215356.428 total time=   0.2s\n",
      "[CV 4/5; 13/54] START alpha=0.001, l1_ratio=0...................................\n"
     ]
    },
    {
     "name": "stderr",
     "output_type": "stream",
     "text": [
      "C:\\Users\\jansl\\anaconda3\\lib\\site-packages\\sklearn\\linear_model\\_coordinate_descent.py:647: ConvergenceWarning: Objective did not converge. You might want to increase the number of iterations, check the scale of the features or consider increasing regularisation. Duality gap: 3.491e+11, tolerance: 1.265e+09 Linear regression models with null weight for the l1 regularization term are more efficiently fitted using one of the solvers implemented in sklearn.linear_model.Ridge/RidgeCV instead.\n",
      "  model = cd_fast.enet_coordinate_descent(\n"
     ]
    },
    {
     "name": "stdout",
     "output_type": "stream",
     "text": [
      "[CV 4/5; 13/54] END alpha=0.001, l1_ratio=0;, score=-623543716.804 total time=   0.2s\n",
      "[CV 5/5; 13/54] START alpha=0.001, l1_ratio=0...................................\n"
     ]
    },
    {
     "name": "stderr",
     "output_type": "stream",
     "text": [
      "C:\\Users\\jansl\\anaconda3\\lib\\site-packages\\sklearn\\linear_model\\_coordinate_descent.py:647: ConvergenceWarning: Objective did not converge. You might want to increase the number of iterations, check the scale of the features or consider increasing regularisation. Duality gap: 3.923e+11, tolerance: 1.277e+09 Linear regression models with null weight for the l1 regularization term are more efficiently fitted using one of the solvers implemented in sklearn.linear_model.Ridge/RidgeCV instead.\n",
      "  model = cd_fast.enet_coordinate_descent(\n"
     ]
    },
    {
     "name": "stdout",
     "output_type": "stream",
     "text": [
      "[CV 5/5; 13/54] END alpha=0.001, l1_ratio=0;, score=-463867882.094 total time=   0.2s\n",
      "[CV 1/5; 14/54] START alpha=0.001, l1_ratio=0.01................................\n"
     ]
    },
    {
     "name": "stderr",
     "output_type": "stream",
     "text": [
      "C:\\Users\\jansl\\anaconda3\\lib\\site-packages\\sklearn\\linear_model\\_coordinate_descent.py:647: ConvergenceWarning: Objective did not converge. You might want to increase the number of iterations, check the scale of the features or consider increasing regularisation. Duality gap: 3.937e+11, tolerance: 1.302e+09\n",
      "  model = cd_fast.enet_coordinate_descent(\n"
     ]
    },
    {
     "name": "stdout",
     "output_type": "stream",
     "text": [
      "[CV 1/5; 14/54] END alpha=0.001, l1_ratio=0.01;, score=-489564970.287 total time=   0.2s\n",
      "[CV 2/5; 14/54] START alpha=0.001, l1_ratio=0.01................................\n"
     ]
    },
    {
     "name": "stderr",
     "output_type": "stream",
     "text": [
      "C:\\Users\\jansl\\anaconda3\\lib\\site-packages\\sklearn\\linear_model\\_coordinate_descent.py:647: ConvergenceWarning: Objective did not converge. You might want to increase the number of iterations, check the scale of the features or consider increasing regularisation. Duality gap: 3.821e+11, tolerance: 1.278e+09\n",
      "  model = cd_fast.enet_coordinate_descent(\n"
     ]
    },
    {
     "name": "stdout",
     "output_type": "stream",
     "text": [
      "[CV 2/5; 14/54] END alpha=0.001, l1_ratio=0.01;, score=-541689346.009 total time=   0.2s\n",
      "[CV 3/5; 14/54] START alpha=0.001, l1_ratio=0.01................................\n"
     ]
    },
    {
     "name": "stderr",
     "output_type": "stream",
     "text": [
      "C:\\Users\\jansl\\anaconda3\\lib\\site-packages\\sklearn\\linear_model\\_coordinate_descent.py:647: ConvergenceWarning: Objective did not converge. You might want to increase the number of iterations, check the scale of the features or consider increasing regularisation. Duality gap: 3.927e+11, tolerance: 1.358e+09\n",
      "  model = cd_fast.enet_coordinate_descent(\n"
     ]
    },
    {
     "name": "stdout",
     "output_type": "stream",
     "text": [
      "[CV 3/5; 14/54] END alpha=0.001, l1_ratio=0.01;, score=-461222716.230 total time=   0.2s\n",
      "[CV 4/5; 14/54] START alpha=0.001, l1_ratio=0.01................................\n"
     ]
    },
    {
     "name": "stderr",
     "output_type": "stream",
     "text": [
      "C:\\Users\\jansl\\anaconda3\\lib\\site-packages\\sklearn\\linear_model\\_coordinate_descent.py:647: ConvergenceWarning: Objective did not converge. You might want to increase the number of iterations, check the scale of the features or consider increasing regularisation. Duality gap: 3.491e+11, tolerance: 1.265e+09\n",
      "  model = cd_fast.enet_coordinate_descent(\n"
     ]
    },
    {
     "name": "stdout",
     "output_type": "stream",
     "text": [
      "[CV 4/5; 14/54] END alpha=0.001, l1_ratio=0.01;, score=-623521279.567 total time=   0.2s\n",
      "[CV 5/5; 14/54] START alpha=0.001, l1_ratio=0.01................................\n"
     ]
    },
    {
     "name": "stderr",
     "output_type": "stream",
     "text": [
      "C:\\Users\\jansl\\anaconda3\\lib\\site-packages\\sklearn\\linear_model\\_coordinate_descent.py:647: ConvergenceWarning: Objective did not converge. You might want to increase the number of iterations, check the scale of the features or consider increasing regularisation. Duality gap: 3.923e+11, tolerance: 1.277e+09\n",
      "  model = cd_fast.enet_coordinate_descent(\n"
     ]
    },
    {
     "name": "stdout",
     "output_type": "stream",
     "text": [
      "[CV 5/5; 14/54] END alpha=0.001, l1_ratio=0.01;, score=-463981809.411 total time=   0.2s\n",
      "[CV 1/5; 15/54] START alpha=0.001, l1_ratio=0.1.................................\n"
     ]
    },
    {
     "name": "stderr",
     "output_type": "stream",
     "text": [
      "C:\\Users\\jansl\\anaconda3\\lib\\site-packages\\sklearn\\linear_model\\_coordinate_descent.py:647: ConvergenceWarning: Objective did not converge. You might want to increase the number of iterations, check the scale of the features or consider increasing regularisation. Duality gap: 3.935e+11, tolerance: 1.302e+09\n",
      "  model = cd_fast.enet_coordinate_descent(\n"
     ]
    },
    {
     "name": "stdout",
     "output_type": "stream",
     "text": [
      "[CV 1/5; 15/54] END alpha=0.001, l1_ratio=0.1;, score=-489843748.533 total time=   0.2s\n",
      "[CV 2/5; 15/54] START alpha=0.001, l1_ratio=0.1.................................\n"
     ]
    },
    {
     "name": "stderr",
     "output_type": "stream",
     "text": [
      "C:\\Users\\jansl\\anaconda3\\lib\\site-packages\\sklearn\\linear_model\\_coordinate_descent.py:647: ConvergenceWarning: Objective did not converge. You might want to increase the number of iterations, check the scale of the features or consider increasing regularisation. Duality gap: 3.818e+11, tolerance: 1.278e+09\n",
      "  model = cd_fast.enet_coordinate_descent(\n"
     ]
    },
    {
     "name": "stdout",
     "output_type": "stream",
     "text": [
      "[CV 2/5; 15/54] END alpha=0.001, l1_ratio=0.1;, score=-541572059.932 total time=   0.2s\n",
      "[CV 3/5; 15/54] START alpha=0.001, l1_ratio=0.1.................................\n"
     ]
    },
    {
     "name": "stderr",
     "output_type": "stream",
     "text": [
      "C:\\Users\\jansl\\anaconda3\\lib\\site-packages\\sklearn\\linear_model\\_coordinate_descent.py:647: ConvergenceWarning: Objective did not converge. You might want to increase the number of iterations, check the scale of the features or consider increasing regularisation. Duality gap: 3.924e+11, tolerance: 1.358e+09\n",
      "  model = cd_fast.enet_coordinate_descent(\n"
     ]
    },
    {
     "name": "stdout",
     "output_type": "stream",
     "text": [
      "[CV 3/5; 15/54] END alpha=0.001, l1_ratio=0.1;, score=-461291140.314 total time=   0.2s\n",
      "[CV 4/5; 15/54] START alpha=0.001, l1_ratio=0.1.................................\n"
     ]
    },
    {
     "name": "stderr",
     "output_type": "stream",
     "text": [
      "C:\\Users\\jansl\\anaconda3\\lib\\site-packages\\sklearn\\linear_model\\_coordinate_descent.py:647: ConvergenceWarning: Objective did not converge. You might want to increase the number of iterations, check the scale of the features or consider increasing regularisation. Duality gap: 3.488e+11, tolerance: 1.265e+09\n",
      "  model = cd_fast.enet_coordinate_descent(\n"
     ]
    },
    {
     "name": "stdout",
     "output_type": "stream",
     "text": [
      "[CV 4/5; 15/54] END alpha=0.001, l1_ratio=0.1;, score=-623313887.951 total time=   0.3s\n",
      "[CV 5/5; 15/54] START alpha=0.001, l1_ratio=0.1.................................\n"
     ]
    },
    {
     "name": "stderr",
     "output_type": "stream",
     "text": [
      "C:\\Users\\jansl\\anaconda3\\lib\\site-packages\\sklearn\\linear_model\\_coordinate_descent.py:647: ConvergenceWarning: Objective did not converge. You might want to increase the number of iterations, check the scale of the features or consider increasing regularisation. Duality gap: 3.919e+11, tolerance: 1.277e+09\n",
      "  model = cd_fast.enet_coordinate_descent(\n"
     ]
    },
    {
     "name": "stdout",
     "output_type": "stream",
     "text": [
      "[CV 5/5; 15/54] END alpha=0.001, l1_ratio=0.1;, score=-465091893.979 total time=   0.2s\n",
      "[CV 1/5; 16/54] START alpha=0.001, l1_ratio=0.7.................................\n"
     ]
    },
    {
     "name": "stderr",
     "output_type": "stream",
     "text": [
      "C:\\Users\\jansl\\anaconda3\\lib\\site-packages\\sklearn\\linear_model\\_coordinate_descent.py:647: ConvergenceWarning: Objective did not converge. You might want to increase the number of iterations, check the scale of the features or consider increasing regularisation. Duality gap: 3.914e+11, tolerance: 1.302e+09\n",
      "  model = cd_fast.enet_coordinate_descent(\n"
     ]
    },
    {
     "name": "stdout",
     "output_type": "stream",
     "text": [
      "[CV 1/5; 16/54] END alpha=0.001, l1_ratio=0.7;, score=-493230890.627 total time=   0.3s\n",
      "[CV 2/5; 16/54] START alpha=0.001, l1_ratio=0.7.................................\n"
     ]
    },
    {
     "name": "stderr",
     "output_type": "stream",
     "text": [
      "C:\\Users\\jansl\\anaconda3\\lib\\site-packages\\sklearn\\linear_model\\_coordinate_descent.py:647: ConvergenceWarning: Objective did not converge. You might want to increase the number of iterations, check the scale of the features or consider increasing regularisation. Duality gap: 3.796e+11, tolerance: 1.278e+09\n",
      "  model = cd_fast.enet_coordinate_descent(\n"
     ]
    },
    {
     "name": "stdout",
     "output_type": "stream",
     "text": [
      "[CV 2/5; 16/54] END alpha=0.001, l1_ratio=0.7;, score=-540541436.294 total time=   0.2s\n",
      "[CV 3/5; 16/54] START alpha=0.001, l1_ratio=0.7.................................\n"
     ]
    },
    {
     "name": "stderr",
     "output_type": "stream",
     "text": [
      "C:\\Users\\jansl\\anaconda3\\lib\\site-packages\\sklearn\\linear_model\\_coordinate_descent.py:647: ConvergenceWarning: Objective did not converge. You might want to increase the number of iterations, check the scale of the features or consider increasing regularisation. Duality gap: 3.900e+11, tolerance: 1.358e+09\n",
      "  model = cd_fast.enet_coordinate_descent(\n"
     ]
    },
    {
     "name": "stdout",
     "output_type": "stream",
     "text": [
      "[CV 3/5; 16/54] END alpha=0.001, l1_ratio=0.7;, score=-461929609.551 total time=   0.3s\n",
      "[CV 4/5; 16/54] START alpha=0.001, l1_ratio=0.7.................................\n"
     ]
    },
    {
     "name": "stderr",
     "output_type": "stream",
     "text": [
      "C:\\Users\\jansl\\anaconda3\\lib\\site-packages\\sklearn\\linear_model\\_coordinate_descent.py:647: ConvergenceWarning: Objective did not converge. You might want to increase the number of iterations, check the scale of the features or consider increasing regularisation. Duality gap: 3.469e+11, tolerance: 1.265e+09\n",
      "  model = cd_fast.enet_coordinate_descent(\n"
     ]
    },
    {
     "name": "stdout",
     "output_type": "stream",
     "text": [
      "[CV 4/5; 16/54] END alpha=0.001, l1_ratio=0.7;, score=-621590518.490 total time=   0.2s\n",
      "[CV 5/5; 16/54] START alpha=0.001, l1_ratio=0.7.................................\n"
     ]
    },
    {
     "name": "stderr",
     "output_type": "stream",
     "text": [
      "C:\\Users\\jansl\\anaconda3\\lib\\site-packages\\sklearn\\linear_model\\_coordinate_descent.py:647: ConvergenceWarning: Objective did not converge. You might want to increase the number of iterations, check the scale of the features or consider increasing regularisation. Duality gap: 3.889e+11, tolerance: 1.277e+09\n",
      "  model = cd_fast.enet_coordinate_descent(\n"
     ]
    },
    {
     "name": "stdout",
     "output_type": "stream",
     "text": [
      "[CV 5/5; 16/54] END alpha=0.001, l1_ratio=0.7;, score=-478240486.027 total time=   0.2s\n",
      "[CV 1/5; 17/54] START alpha=0.001, l1_ratio=0.99................................\n"
     ]
    },
    {
     "name": "stderr",
     "output_type": "stream",
     "text": [
      "C:\\Users\\jansl\\anaconda3\\lib\\site-packages\\sklearn\\linear_model\\_coordinate_descent.py:647: ConvergenceWarning: Objective did not converge. You might want to increase the number of iterations, check the scale of the features or consider increasing regularisation. Duality gap: 3.901e+11, tolerance: 1.302e+09\n",
      "  model = cd_fast.enet_coordinate_descent(\n"
     ]
    },
    {
     "name": "stdout",
     "output_type": "stream",
     "text": [
      "[CV 1/5; 17/54] END alpha=0.001, l1_ratio=0.99;, score=-496177746.880 total time=   0.2s\n",
      "[CV 2/5; 17/54] START alpha=0.001, l1_ratio=0.99................................\n"
     ]
    },
    {
     "name": "stderr",
     "output_type": "stream",
     "text": [
      "C:\\Users\\jansl\\anaconda3\\lib\\site-packages\\sklearn\\linear_model\\_coordinate_descent.py:647: ConvergenceWarning: Objective did not converge. You might want to increase the number of iterations, check the scale of the features or consider increasing regularisation. Duality gap: 3.783e+11, tolerance: 1.278e+09\n",
      "  model = cd_fast.enet_coordinate_descent(\n"
     ]
    },
    {
     "name": "stdout",
     "output_type": "stream",
     "text": [
      "[CV 2/5; 17/54] END alpha=0.001, l1_ratio=0.99;, score=-539864682.550 total time=   0.2s\n",
      "[CV 3/5; 17/54] START alpha=0.001, l1_ratio=0.99................................\n"
     ]
    },
    {
     "name": "stderr",
     "output_type": "stream",
     "text": [
      "C:\\Users\\jansl\\anaconda3\\lib\\site-packages\\sklearn\\linear_model\\_coordinate_descent.py:647: ConvergenceWarning: Objective did not converge. You might want to increase the number of iterations, check the scale of the features or consider increasing regularisation. Duality gap: 3.886e+11, tolerance: 1.358e+09\n",
      "  model = cd_fast.enet_coordinate_descent(\n"
     ]
    },
    {
     "name": "stdout",
     "output_type": "stream",
     "text": [
      "[CV 3/5; 17/54] END alpha=0.001, l1_ratio=0.99;, score=-462479904.792 total time=   0.3s\n",
      "[CV 4/5; 17/54] START alpha=0.001, l1_ratio=0.99................................\n"
     ]
    },
    {
     "name": "stderr",
     "output_type": "stream",
     "text": [
      "C:\\Users\\jansl\\anaconda3\\lib\\site-packages\\sklearn\\linear_model\\_coordinate_descent.py:647: ConvergenceWarning: Objective did not converge. You might want to increase the number of iterations, check the scale of the features or consider increasing regularisation. Duality gap: 3.457e+11, tolerance: 1.265e+09\n",
      "  model = cd_fast.enet_coordinate_descent(\n"
     ]
    },
    {
     "name": "stdout",
     "output_type": "stream",
     "text": [
      "[CV 4/5; 17/54] END alpha=0.001, l1_ratio=0.99;, score=-620586966.034 total time=   0.3s\n",
      "[CV 5/5; 17/54] START alpha=0.001, l1_ratio=0.99................................\n"
     ]
    },
    {
     "name": "stderr",
     "output_type": "stream",
     "text": [
      "C:\\Users\\jansl\\anaconda3\\lib\\site-packages\\sklearn\\linear_model\\_coordinate_descent.py:647: ConvergenceWarning: Objective did not converge. You might want to increase the number of iterations, check the scale of the features or consider increasing regularisation. Duality gap: 3.868e+11, tolerance: 1.277e+09\n",
      "  model = cd_fast.enet_coordinate_descent(\n"
     ]
    },
    {
     "name": "stdout",
     "output_type": "stream",
     "text": [
      "[CV 5/5; 17/54] END alpha=0.001, l1_ratio=0.99;, score=-490347092.615 total time=   0.3s\n",
      "[CV 1/5; 18/54] START alpha=0.001, l1_ratio=1...................................\n"
     ]
    },
    {
     "name": "stderr",
     "output_type": "stream",
     "text": [
      "C:\\Users\\jansl\\anaconda3\\lib\\site-packages\\sklearn\\linear_model\\_coordinate_descent.py:647: ConvergenceWarning: Objective did not converge. You might want to increase the number of iterations, check the scale of the features or consider increasing regularisation. Duality gap: 3.901e+11, tolerance: 1.302e+09\n",
      "  model = cd_fast.enet_coordinate_descent(\n"
     ]
    },
    {
     "name": "stdout",
     "output_type": "stream",
     "text": [
      "[CV 1/5; 18/54] END alpha=0.001, l1_ratio=1;, score=-496297218.099 total time=   0.2s\n",
      "[CV 2/5; 18/54] START alpha=0.001, l1_ratio=1...................................\n"
     ]
    },
    {
     "name": "stderr",
     "output_type": "stream",
     "text": [
      "C:\\Users\\jansl\\anaconda3\\lib\\site-packages\\sklearn\\linear_model\\_coordinate_descent.py:647: ConvergenceWarning: Objective did not converge. You might want to increase the number of iterations, check the scale of the features or consider increasing regularisation. Duality gap: 3.783e+11, tolerance: 1.278e+09\n",
      "  model = cd_fast.enet_coordinate_descent(\n"
     ]
    },
    {
     "name": "stdout",
     "output_type": "stream",
     "text": [
      "[CV 2/5; 18/54] END alpha=0.001, l1_ratio=1;, score=-539839408.418 total time=   0.2s\n",
      "[CV 3/5; 18/54] START alpha=0.001, l1_ratio=1...................................\n"
     ]
    },
    {
     "name": "stderr",
     "output_type": "stream",
     "text": [
      "C:\\Users\\jansl\\anaconda3\\lib\\site-packages\\sklearn\\linear_model\\_coordinate_descent.py:647: ConvergenceWarning: Objective did not converge. You might want to increase the number of iterations, check the scale of the features or consider increasing regularisation. Duality gap: 3.885e+11, tolerance: 1.358e+09\n",
      "  model = cd_fast.enet_coordinate_descent(\n"
     ]
    },
    {
     "name": "stdout",
     "output_type": "stream",
     "text": [
      "[CV 3/5; 18/54] END alpha=0.001, l1_ratio=1;, score=-462503995.076 total time=   0.2s\n",
      "[CV 4/5; 18/54] START alpha=0.001, l1_ratio=1...................................\n"
     ]
    },
    {
     "name": "stderr",
     "output_type": "stream",
     "text": [
      "C:\\Users\\jansl\\anaconda3\\lib\\site-packages\\sklearn\\linear_model\\_coordinate_descent.py:647: ConvergenceWarning: Objective did not converge. You might want to increase the number of iterations, check the scale of the features or consider increasing regularisation. Duality gap: 3.457e+11, tolerance: 1.265e+09\n",
      "  model = cd_fast.enet_coordinate_descent(\n"
     ]
    },
    {
     "name": "stdout",
     "output_type": "stream",
     "text": [
      "[CV 4/5; 18/54] END alpha=0.001, l1_ratio=1;, score=-620554928.452 total time=   0.2s\n",
      "[CV 5/5; 18/54] START alpha=0.001, l1_ratio=1...................................\n"
     ]
    },
    {
     "name": "stderr",
     "output_type": "stream",
     "text": [
      "C:\\Users\\jansl\\anaconda3\\lib\\site-packages\\sklearn\\linear_model\\_coordinate_descent.py:647: ConvergenceWarning: Objective did not converge. You might want to increase the number of iterations, check the scale of the features or consider increasing regularisation. Duality gap: 3.867e+11, tolerance: 1.277e+09\n",
      "  model = cd_fast.enet_coordinate_descent(\n"
     ]
    },
    {
     "name": "stdout",
     "output_type": "stream",
     "text": [
      "[CV 5/5; 18/54] END alpha=0.001, l1_ratio=1;, score=-490859551.647 total time=   0.2s\n",
      "[CV 1/5; 19/54] START alpha=0.01, l1_ratio=0....................................\n"
     ]
    },
    {
     "name": "stderr",
     "output_type": "stream",
     "text": [
      "C:\\Users\\jansl\\anaconda3\\lib\\site-packages\\sklearn\\linear_model\\_coordinate_descent.py:647: ConvergenceWarning: Objective did not converge. You might want to increase the number of iterations, check the scale of the features or consider increasing regularisation. Duality gap: 4.155e+11, tolerance: 1.302e+09 Linear regression models with null weight for the l1 regularization term are more efficiently fitted using one of the solvers implemented in sklearn.linear_model.Ridge/RidgeCV instead.\n",
      "  model = cd_fast.enet_coordinate_descent(\n"
     ]
    },
    {
     "name": "stdout",
     "output_type": "stream",
     "text": [
      "[CV 1/5; 19/54] END alpha=0.01, l1_ratio=0;, score=-485659976.484 total time=   0.2s\n",
      "[CV 2/5; 19/54] START alpha=0.01, l1_ratio=0....................................\n"
     ]
    },
    {
     "name": "stderr",
     "output_type": "stream",
     "text": [
      "C:\\Users\\jansl\\anaconda3\\lib\\site-packages\\sklearn\\linear_model\\_coordinate_descent.py:647: ConvergenceWarning: Objective did not converge. You might want to increase the number of iterations, check the scale of the features or consider increasing regularisation. Duality gap: 4.051e+11, tolerance: 1.278e+09 Linear regression models with null weight for the l1 regularization term are more efficiently fitted using one of the solvers implemented in sklearn.linear_model.Ridge/RidgeCV instead.\n",
      "  model = cd_fast.enet_coordinate_descent(\n"
     ]
    },
    {
     "name": "stdout",
     "output_type": "stream",
     "text": [
      "[CV 2/5; 19/54] END alpha=0.01, l1_ratio=0;, score=-540828541.092 total time=   0.2s\n",
      "[CV 3/5; 19/54] START alpha=0.01, l1_ratio=0....................................\n"
     ]
    },
    {
     "name": "stderr",
     "output_type": "stream",
     "text": [
      "C:\\Users\\jansl\\anaconda3\\lib\\site-packages\\sklearn\\linear_model\\_coordinate_descent.py:647: ConvergenceWarning: Objective did not converge. You might want to increase the number of iterations, check the scale of the features or consider increasing regularisation. Duality gap: 4.153e+11, tolerance: 1.358e+09 Linear regression models with null weight for the l1 regularization term are more efficiently fitted using one of the solvers implemented in sklearn.linear_model.Ridge/RidgeCV instead.\n",
      "  model = cd_fast.enet_coordinate_descent(\n"
     ]
    },
    {
     "name": "stdout",
     "output_type": "stream",
     "text": [
      "[CV 3/5; 19/54] END alpha=0.01, l1_ratio=0;, score=-459379127.321 total time=   0.3s\n",
      "[CV 4/5; 19/54] START alpha=0.01, l1_ratio=0....................................\n"
     ]
    },
    {
     "name": "stderr",
     "output_type": "stream",
     "text": [
      "C:\\Users\\jansl\\anaconda3\\lib\\site-packages\\sklearn\\linear_model\\_coordinate_descent.py:647: ConvergenceWarning: Objective did not converge. You might want to increase the number of iterations, check the scale of the features or consider increasing regularisation. Duality gap: 3.700e+11, tolerance: 1.265e+09 Linear regression models with null weight for the l1 regularization term are more efficiently fitted using one of the solvers implemented in sklearn.linear_model.Ridge/RidgeCV instead.\n",
      "  model = cd_fast.enet_coordinate_descent(\n"
     ]
    },
    {
     "name": "stdout",
     "output_type": "stream",
     "text": [
      "[CV 4/5; 19/54] END alpha=0.01, l1_ratio=0;, score=-629755143.135 total time=   0.3s\n",
      "[CV 5/5; 19/54] START alpha=0.01, l1_ratio=0....................................\n"
     ]
    },
    {
     "name": "stderr",
     "output_type": "stream",
     "text": [
      "C:\\Users\\jansl\\anaconda3\\lib\\site-packages\\sklearn\\linear_model\\_coordinate_descent.py:647: ConvergenceWarning: Objective did not converge. You might want to increase the number of iterations, check the scale of the features or consider increasing regularisation. Duality gap: 4.145e+11, tolerance: 1.277e+09 Linear regression models with null weight for the l1 regularization term are more efficiently fitted using one of the solvers implemented in sklearn.linear_model.Ridge/RidgeCV instead.\n",
      "  model = cd_fast.enet_coordinate_descent(\n"
     ]
    },
    {
     "name": "stdout",
     "output_type": "stream",
     "text": [
      "[CV 5/5; 19/54] END alpha=0.01, l1_ratio=0;, score=-459071386.849 total time=   0.3s\n",
      "[CV 1/5; 20/54] START alpha=0.01, l1_ratio=0.01.................................\n"
     ]
    },
    {
     "name": "stderr",
     "output_type": "stream",
     "text": [
      "C:\\Users\\jansl\\anaconda3\\lib\\site-packages\\sklearn\\linear_model\\_coordinate_descent.py:647: ConvergenceWarning: Objective did not converge. You might want to increase the number of iterations, check the scale of the features or consider increasing regularisation. Duality gap: 4.148e+11, tolerance: 1.302e+09\n",
      "  model = cd_fast.enet_coordinate_descent(\n"
     ]
    },
    {
     "name": "stdout",
     "output_type": "stream",
     "text": [
      "[CV 1/5; 20/54] END alpha=0.01, l1_ratio=0.01;, score=-485693840.084 total time=   0.3s\n",
      "[CV 2/5; 20/54] START alpha=0.01, l1_ratio=0.01.................................\n"
     ]
    },
    {
     "name": "stderr",
     "output_type": "stream",
     "text": [
      "C:\\Users\\jansl\\anaconda3\\lib\\site-packages\\sklearn\\linear_model\\_coordinate_descent.py:647: ConvergenceWarning: Objective did not converge. You might want to increase the number of iterations, check the scale of the features or consider increasing regularisation. Duality gap: 4.044e+11, tolerance: 1.278e+09\n",
      "  model = cd_fast.enet_coordinate_descent(\n"
     ]
    },
    {
     "name": "stdout",
     "output_type": "stream",
     "text": [
      "[CV 2/5; 20/54] END alpha=0.01, l1_ratio=0.01;, score=-540870390.480 total time=   0.3s\n",
      "[CV 3/5; 20/54] START alpha=0.01, l1_ratio=0.01.................................\n"
     ]
    },
    {
     "name": "stderr",
     "output_type": "stream",
     "text": [
      "C:\\Users\\jansl\\anaconda3\\lib\\site-packages\\sklearn\\linear_model\\_coordinate_descent.py:647: ConvergenceWarning: Objective did not converge. You might want to increase the number of iterations, check the scale of the features or consider increasing regularisation. Duality gap: 4.145e+11, tolerance: 1.358e+09\n",
      "  model = cd_fast.enet_coordinate_descent(\n"
     ]
    },
    {
     "name": "stdout",
     "output_type": "stream",
     "text": [
      "[CV 3/5; 20/54] END alpha=0.01, l1_ratio=0.01;, score=-459374908.768 total time=   0.3s\n",
      "[CV 4/5; 20/54] START alpha=0.01, l1_ratio=0.01.................................\n"
     ]
    },
    {
     "name": "stderr",
     "output_type": "stream",
     "text": [
      "C:\\Users\\jansl\\anaconda3\\lib\\site-packages\\sklearn\\linear_model\\_coordinate_descent.py:647: ConvergenceWarning: Objective did not converge. You might want to increase the number of iterations, check the scale of the features or consider increasing regularisation. Duality gap: 3.693e+11, tolerance: 1.265e+09\n",
      "  model = cd_fast.enet_coordinate_descent(\n"
     ]
    },
    {
     "name": "stdout",
     "output_type": "stream",
     "text": [
      "[CV 4/5; 20/54] END alpha=0.01, l1_ratio=0.01;, score=-629733784.314 total time=   0.3s\n",
      "[CV 5/5; 20/54] START alpha=0.01, l1_ratio=0.01.................................\n"
     ]
    },
    {
     "name": "stderr",
     "output_type": "stream",
     "text": [
      "C:\\Users\\jansl\\anaconda3\\lib\\site-packages\\sklearn\\linear_model\\_coordinate_descent.py:647: ConvergenceWarning: Objective did not converge. You might want to increase the number of iterations, check the scale of the features or consider increasing regularisation. Duality gap: 4.137e+11, tolerance: 1.277e+09\n",
      "  model = cd_fast.enet_coordinate_descent(\n"
     ]
    },
    {
     "name": "stdout",
     "output_type": "stream",
     "text": [
      "[CV 5/5; 20/54] END alpha=0.01, l1_ratio=0.01;, score=-459022335.991 total time=   0.3s\n",
      "[CV 1/5; 21/54] START alpha=0.01, l1_ratio=0.1..................................\n"
     ]
    },
    {
     "name": "stderr",
     "output_type": "stream",
     "text": [
      "C:\\Users\\jansl\\anaconda3\\lib\\site-packages\\sklearn\\linear_model\\_coordinate_descent.py:647: ConvergenceWarning: Objective did not converge. You might want to increase the number of iterations, check the scale of the features or consider increasing regularisation. Duality gap: 4.087e+11, tolerance: 1.302e+09\n",
      "  model = cd_fast.enet_coordinate_descent(\n"
     ]
    },
    {
     "name": "stdout",
     "output_type": "stream",
     "text": [
      "[CV 1/5; 21/54] END alpha=0.01, l1_ratio=0.1;, score=-486005894.973 total time=   0.3s\n",
      "[CV 2/5; 21/54] START alpha=0.01, l1_ratio=0.1..................................\n"
     ]
    },
    {
     "name": "stderr",
     "output_type": "stream",
     "text": [
      "C:\\Users\\jansl\\anaconda3\\lib\\site-packages\\sklearn\\linear_model\\_coordinate_descent.py:647: ConvergenceWarning: Objective did not converge. You might want to increase the number of iterations, check the scale of the features or consider increasing regularisation. Duality gap: 3.998e+11, tolerance: 1.278e+09\n",
      "  model = cd_fast.enet_coordinate_descent(\n"
     ]
    },
    {
     "name": "stdout",
     "output_type": "stream",
     "text": [
      "[CV 2/5; 21/54] END alpha=0.01, l1_ratio=0.1;, score=-541248798.881 total time=   0.3s\n",
      "[CV 3/5; 21/54] START alpha=0.01, l1_ratio=0.1..................................\n"
     ]
    },
    {
     "name": "stderr",
     "output_type": "stream",
     "text": [
      "C:\\Users\\jansl\\anaconda3\\lib\\site-packages\\sklearn\\linear_model\\_coordinate_descent.py:647: ConvergenceWarning: Objective did not converge. You might want to increase the number of iterations, check the scale of the features or consider increasing regularisation. Duality gap: 4.086e+11, tolerance: 1.358e+09\n",
      "  model = cd_fast.enet_coordinate_descent(\n"
     ]
    },
    {
     "name": "stdout",
     "output_type": "stream",
     "text": [
      "[CV 3/5; 21/54] END alpha=0.01, l1_ratio=0.1;, score=-459346620.188 total time=   0.3s\n",
      "[CV 4/5; 21/54] START alpha=0.01, l1_ratio=0.1..................................\n"
     ]
    },
    {
     "name": "stderr",
     "output_type": "stream",
     "text": [
      "C:\\Users\\jansl\\anaconda3\\lib\\site-packages\\sklearn\\linear_model\\_coordinate_descent.py:647: ConvergenceWarning: Objective did not converge. You might want to increase the number of iterations, check the scale of the features or consider increasing regularisation. Duality gap: 3.632e+11, tolerance: 1.265e+09\n",
      "  model = cd_fast.enet_coordinate_descent(\n"
     ]
    },
    {
     "name": "stdout",
     "output_type": "stream",
     "text": [
      "[CV 4/5; 21/54] END alpha=0.01, l1_ratio=0.1;, score=-629537520.069 total time=   0.3s\n",
      "[CV 5/5; 21/54] START alpha=0.01, l1_ratio=0.1..................................\n"
     ]
    },
    {
     "name": "stderr",
     "output_type": "stream",
     "text": [
      "C:\\Users\\jansl\\anaconda3\\lib\\site-packages\\sklearn\\linear_model\\_coordinate_descent.py:647: ConvergenceWarning: Objective did not converge. You might want to increase the number of iterations, check the scale of the features or consider increasing regularisation. Duality gap: 4.071e+11, tolerance: 1.277e+09\n",
      "  model = cd_fast.enet_coordinate_descent(\n"
     ]
    },
    {
     "name": "stdout",
     "output_type": "stream",
     "text": [
      "[CV 5/5; 21/54] END alpha=0.01, l1_ratio=0.1;, score=-458590915.040 total time=   0.3s\n",
      "[CV 1/5; 22/54] START alpha=0.01, l1_ratio=0.7..................................\n"
     ]
    },
    {
     "name": "stderr",
     "output_type": "stream",
     "text": [
      "C:\\Users\\jansl\\anaconda3\\lib\\site-packages\\sklearn\\linear_model\\_coordinate_descent.py:647: ConvergenceWarning: Objective did not converge. You might want to increase the number of iterations, check the scale of the features or consider increasing regularisation. Duality gap: 3.975e+11, tolerance: 1.302e+09\n",
      "  model = cd_fast.enet_coordinate_descent(\n"
     ]
    },
    {
     "name": "stdout",
     "output_type": "stream",
     "text": [
      "[CV 1/5; 22/54] END alpha=0.01, l1_ratio=0.7;, score=-488048117.888 total time=   0.2s\n",
      "[CV 2/5; 22/54] START alpha=0.01, l1_ratio=0.7..................................\n"
     ]
    },
    {
     "name": "stderr",
     "output_type": "stream",
     "text": [
      "C:\\Users\\jansl\\anaconda3\\lib\\site-packages\\sklearn\\linear_model\\_coordinate_descent.py:647: ConvergenceWarning: Objective did not converge. You might want to increase the number of iterations, check the scale of the features or consider increasing regularisation. Duality gap: 3.868e+11, tolerance: 1.278e+09\n",
      "  model = cd_fast.enet_coordinate_descent(\n"
     ]
    },
    {
     "name": "stdout",
     "output_type": "stream",
     "text": [
      "[CV 2/5; 22/54] END alpha=0.01, l1_ratio=0.7;, score=-542952771.308 total time=   0.2s\n",
      "[CV 3/5; 22/54] START alpha=0.01, l1_ratio=0.7..................................\n"
     ]
    },
    {
     "name": "stderr",
     "output_type": "stream",
     "text": [
      "C:\\Users\\jansl\\anaconda3\\lib\\site-packages\\sklearn\\linear_model\\_coordinate_descent.py:647: ConvergenceWarning: Objective did not converge. You might want to increase the number of iterations, check the scale of the features or consider increasing regularisation. Duality gap: 3.975e+11, tolerance: 1.358e+09\n",
      "  model = cd_fast.enet_coordinate_descent(\n"
     ]
    },
    {
     "name": "stdout",
     "output_type": "stream",
     "text": [
      "[CV 3/5; 22/54] END alpha=0.01, l1_ratio=0.7;, score=-460118256.187 total time=   0.3s\n",
      "[CV 4/5; 22/54] START alpha=0.01, l1_ratio=0.7..................................\n"
     ]
    },
    {
     "name": "stderr",
     "output_type": "stream",
     "text": [
      "C:\\Users\\jansl\\anaconda3\\lib\\site-packages\\sklearn\\linear_model\\_coordinate_descent.py:647: ConvergenceWarning: Objective did not converge. You might want to increase the number of iterations, check the scale of the features or consider increasing regularisation. Duality gap: 3.526e+11, tolerance: 1.265e+09\n",
      "  model = cd_fast.enet_coordinate_descent(\n"
     ]
    },
    {
     "name": "stdout",
     "output_type": "stream",
     "text": [
      "[CV 4/5; 22/54] END alpha=0.01, l1_ratio=0.7;, score=-626827578.465 total time=   0.3s\n",
      "[CV 5/5; 22/54] START alpha=0.01, l1_ratio=0.7..................................\n"
     ]
    },
    {
     "name": "stderr",
     "output_type": "stream",
     "text": [
      "C:\\Users\\jansl\\anaconda3\\lib\\site-packages\\sklearn\\linear_model\\_coordinate_descent.py:647: ConvergenceWarning: Objective did not converge. You might want to increase the number of iterations, check the scale of the features or consider increasing regularisation. Duality gap: 3.968e+11, tolerance: 1.277e+09\n",
      "  model = cd_fast.enet_coordinate_descent(\n"
     ]
    },
    {
     "name": "stdout",
     "output_type": "stream",
     "text": [
      "[CV 5/5; 22/54] END alpha=0.01, l1_ratio=0.7;, score=-456981965.734 total time=   0.3s\n",
      "[CV 1/5; 23/54] START alpha=0.01, l1_ratio=0.99.................................\n"
     ]
    },
    {
     "name": "stderr",
     "output_type": "stream",
     "text": [
      "C:\\Users\\jansl\\anaconda3\\lib\\site-packages\\sklearn\\linear_model\\_coordinate_descent.py:647: ConvergenceWarning: Objective did not converge. You might want to increase the number of iterations, check the scale of the features or consider increasing regularisation. Duality gap: 3.888e+11, tolerance: 1.302e+09\n",
      "  model = cd_fast.enet_coordinate_descent(\n"
     ]
    },
    {
     "name": "stdout",
     "output_type": "stream",
     "text": [
      "[CV 1/5; 23/54] END alpha=0.01, l1_ratio=0.99;, score=-495143986.509 total time=   0.3s\n",
      "[CV 2/5; 23/54] START alpha=0.01, l1_ratio=0.99.................................\n"
     ]
    },
    {
     "name": "stderr",
     "output_type": "stream",
     "text": [
      "C:\\Users\\jansl\\anaconda3\\lib\\site-packages\\sklearn\\linear_model\\_coordinate_descent.py:647: ConvergenceWarning: Objective did not converge. You might want to increase the number of iterations, check the scale of the features or consider increasing regularisation. Duality gap: 3.783e+11, tolerance: 1.278e+09\n",
      "  model = cd_fast.enet_coordinate_descent(\n"
     ]
    },
    {
     "name": "stdout",
     "output_type": "stream",
     "text": [
      "[CV 2/5; 23/54] END alpha=0.01, l1_ratio=0.99;, score=-540084000.636 total time=   0.3s\n",
      "[CV 3/5; 23/54] START alpha=0.01, l1_ratio=0.99.................................\n"
     ]
    },
    {
     "name": "stderr",
     "output_type": "stream",
     "text": [
      "C:\\Users\\jansl\\anaconda3\\lib\\site-packages\\sklearn\\linear_model\\_coordinate_descent.py:647: ConvergenceWarning: Objective did not converge. You might want to increase the number of iterations, check the scale of the features or consider increasing regularisation. Duality gap: 3.882e+11, tolerance: 1.358e+09\n",
      "  model = cd_fast.enet_coordinate_descent(\n"
     ]
    },
    {
     "name": "stdout",
     "output_type": "stream",
     "text": [
      "[CV 3/5; 23/54] END alpha=0.01, l1_ratio=0.99;, score=-462276366.623 total time=   0.3s\n",
      "[CV 4/5; 23/54] START alpha=0.01, l1_ratio=0.99.................................\n"
     ]
    },
    {
     "name": "stderr",
     "output_type": "stream",
     "text": [
      "C:\\Users\\jansl\\anaconda3\\lib\\site-packages\\sklearn\\linear_model\\_coordinate_descent.py:647: ConvergenceWarning: Objective did not converge. You might want to increase the number of iterations, check the scale of the features or consider increasing regularisation. Duality gap: 3.452e+11, tolerance: 1.265e+09\n",
      "  model = cd_fast.enet_coordinate_descent(\n"
     ]
    },
    {
     "name": "stdout",
     "output_type": "stream",
     "text": [
      "[CV 4/5; 23/54] END alpha=0.01, l1_ratio=0.99;, score=-620886133.490 total time=   0.2s\n",
      "[CV 5/5; 23/54] START alpha=0.01, l1_ratio=0.99.................................\n"
     ]
    },
    {
     "name": "stderr",
     "output_type": "stream",
     "text": [
      "C:\\Users\\jansl\\anaconda3\\lib\\site-packages\\sklearn\\linear_model\\_coordinate_descent.py:647: ConvergenceWarning: Objective did not converge. You might want to increase the number of iterations, check the scale of the features or consider increasing regularisation. Duality gap: 3.870e+11, tolerance: 1.277e+09\n",
      "  model = cd_fast.enet_coordinate_descent(\n"
     ]
    },
    {
     "name": "stdout",
     "output_type": "stream",
     "text": [
      "[CV 5/5; 23/54] END alpha=0.01, l1_ratio=0.99;, score=-486002250.376 total time=   0.2s\n",
      "[CV 1/5; 24/54] START alpha=0.01, l1_ratio=1....................................\n"
     ]
    },
    {
     "name": "stderr",
     "output_type": "stream",
     "text": [
      "C:\\Users\\jansl\\anaconda3\\lib\\site-packages\\sklearn\\linear_model\\_coordinate_descent.py:647: ConvergenceWarning: Objective did not converge. You might want to increase the number of iterations, check the scale of the features or consider increasing regularisation. Duality gap: 3.878e+11, tolerance: 1.302e+09\n",
      "  model = cd_fast.enet_coordinate_descent(\n"
     ]
    },
    {
     "name": "stdout",
     "output_type": "stream",
     "text": [
      "[CV 1/5; 24/54] END alpha=0.01, l1_ratio=1;, score=-496290805.908 total time=   0.2s\n",
      "[CV 2/5; 24/54] START alpha=0.01, l1_ratio=1....................................\n"
     ]
    },
    {
     "name": "stderr",
     "output_type": "stream",
     "text": [
      "C:\\Users\\jansl\\anaconda3\\lib\\site-packages\\sklearn\\linear_model\\_coordinate_descent.py:647: ConvergenceWarning: Objective did not converge. You might want to increase the number of iterations, check the scale of the features or consider increasing regularisation. Duality gap: 3.779e+11, tolerance: 1.278e+09\n",
      "  model = cd_fast.enet_coordinate_descent(\n"
     ]
    },
    {
     "name": "stdout",
     "output_type": "stream",
     "text": [
      "[CV 2/5; 24/54] END alpha=0.01, l1_ratio=1;, score=-539836730.135 total time=   0.2s\n",
      "[CV 3/5; 24/54] START alpha=0.01, l1_ratio=1....................................\n"
     ]
    },
    {
     "name": "stderr",
     "output_type": "stream",
     "text": [
      "C:\\Users\\jansl\\anaconda3\\lib\\site-packages\\sklearn\\linear_model\\_coordinate_descent.py:647: ConvergenceWarning: Objective did not converge. You might want to increase the number of iterations, check the scale of the features or consider increasing regularisation. Duality gap: 3.875e+11, tolerance: 1.358e+09\n",
      "  model = cd_fast.enet_coordinate_descent(\n"
     ]
    },
    {
     "name": "stdout",
     "output_type": "stream",
     "text": [
      "[CV 3/5; 24/54] END alpha=0.01, l1_ratio=1;, score=-462498633.381 total time=   0.2s\n",
      "[CV 4/5; 24/54] START alpha=0.01, l1_ratio=1....................................\n"
     ]
    },
    {
     "name": "stderr",
     "output_type": "stream",
     "text": [
      "C:\\Users\\jansl\\anaconda3\\lib\\site-packages\\sklearn\\linear_model\\_coordinate_descent.py:647: ConvergenceWarning: Objective did not converge. You might want to increase the number of iterations, check the scale of the features or consider increasing regularisation. Duality gap: 3.447e+11, tolerance: 1.265e+09\n",
      "  model = cd_fast.enet_coordinate_descent(\n"
     ]
    },
    {
     "name": "stdout",
     "output_type": "stream",
     "text": [
      "[CV 4/5; 24/54] END alpha=0.01, l1_ratio=1;, score=-620572742.787 total time=   0.2s\n",
      "[CV 5/5; 24/54] START alpha=0.01, l1_ratio=1....................................\n"
     ]
    },
    {
     "name": "stderr",
     "output_type": "stream",
     "text": [
      "C:\\Users\\jansl\\anaconda3\\lib\\site-packages\\sklearn\\linear_model\\_coordinate_descent.py:647: ConvergenceWarning: Objective did not converge. You might want to increase the number of iterations, check the scale of the features or consider increasing regularisation. Duality gap: 3.863e+11, tolerance: 1.277e+09\n",
      "  model = cd_fast.enet_coordinate_descent(\n"
     ]
    },
    {
     "name": "stdout",
     "output_type": "stream",
     "text": [
      "[CV 5/5; 24/54] END alpha=0.01, l1_ratio=1;, score=-490817051.004 total time=   0.2s\n",
      "[CV 1/5; 25/54] START alpha=0.1, l1_ratio=0.....................................\n"
     ]
    },
    {
     "name": "stderr",
     "output_type": "stream",
     "text": [
      "C:\\Users\\jansl\\anaconda3\\lib\\site-packages\\sklearn\\linear_model\\_coordinate_descent.py:647: ConvergenceWarning: Objective did not converge. You might want to increase the number of iterations, check the scale of the features or consider increasing regularisation. Duality gap: 5.541e+11, tolerance: 1.302e+09 Linear regression models with null weight for the l1 regularization term are more efficiently fitted using one of the solvers implemented in sklearn.linear_model.Ridge/RidgeCV instead.\n",
      "  model = cd_fast.enet_coordinate_descent(\n"
     ]
    },
    {
     "name": "stdout",
     "output_type": "stream",
     "text": [
      "[CV 1/5; 25/54] END alpha=0.1, l1_ratio=0;, score=-484185221.030 total time=   0.2s\n",
      "[CV 2/5; 25/54] START alpha=0.1, l1_ratio=0.....................................\n"
     ]
    },
    {
     "name": "stderr",
     "output_type": "stream",
     "text": [
      "C:\\Users\\jansl\\anaconda3\\lib\\site-packages\\sklearn\\linear_model\\_coordinate_descent.py:647: ConvergenceWarning: Objective did not converge. You might want to increase the number of iterations, check the scale of the features or consider increasing regularisation. Duality gap: 5.452e+11, tolerance: 1.278e+09 Linear regression models with null weight for the l1 regularization term are more efficiently fitted using one of the solvers implemented in sklearn.linear_model.Ridge/RidgeCV instead.\n",
      "  model = cd_fast.enet_coordinate_descent(\n"
     ]
    },
    {
     "name": "stdout",
     "output_type": "stream",
     "text": [
      "[CV 2/5; 25/54] END alpha=0.1, l1_ratio=0;, score=-536196518.491 total time=   0.2s\n",
      "[CV 3/5; 25/54] START alpha=0.1, l1_ratio=0.....................................\n"
     ]
    },
    {
     "name": "stderr",
     "output_type": "stream",
     "text": [
      "C:\\Users\\jansl\\anaconda3\\lib\\site-packages\\sklearn\\linear_model\\_coordinate_descent.py:647: ConvergenceWarning: Objective did not converge. You might want to increase the number of iterations, check the scale of the features or consider increasing regularisation. Duality gap: 5.519e+11, tolerance: 1.358e+09 Linear regression models with null weight for the l1 regularization term are more efficiently fitted using one of the solvers implemented in sklearn.linear_model.Ridge/RidgeCV instead.\n",
      "  model = cd_fast.enet_coordinate_descent(\n"
     ]
    },
    {
     "name": "stdout",
     "output_type": "stream",
     "text": [
      "[CV 3/5; 25/54] END alpha=0.1, l1_ratio=0;, score=-474279517.541 total time=   0.2s\n",
      "[CV 4/5; 25/54] START alpha=0.1, l1_ratio=0.....................................\n"
     ]
    },
    {
     "name": "stderr",
     "output_type": "stream",
     "text": [
      "C:\\Users\\jansl\\anaconda3\\lib\\site-packages\\sklearn\\linear_model\\_coordinate_descent.py:647: ConvergenceWarning: Objective did not converge. You might want to increase the number of iterations, check the scale of the features or consider increasing regularisation. Duality gap: 5.046e+11, tolerance: 1.265e+09 Linear regression models with null weight for the l1 regularization term are more efficiently fitted using one of the solvers implemented in sklearn.linear_model.Ridge/RidgeCV instead.\n",
      "  model = cd_fast.enet_coordinate_descent(\n"
     ]
    },
    {
     "name": "stdout",
     "output_type": "stream",
     "text": [
      "[CV 4/5; 25/54] END alpha=0.1, l1_ratio=0;, score=-654735205.080 total time=   0.2s\n",
      "[CV 5/5; 25/54] START alpha=0.1, l1_ratio=0.....................................\n"
     ]
    },
    {
     "name": "stderr",
     "output_type": "stream",
     "text": [
      "C:\\Users\\jansl\\anaconda3\\lib\\site-packages\\sklearn\\linear_model\\_coordinate_descent.py:647: ConvergenceWarning: Objective did not converge. You might want to increase the number of iterations, check the scale of the features or consider increasing regularisation. Duality gap: 5.446e+11, tolerance: 1.277e+09 Linear regression models with null weight for the l1 regularization term are more efficiently fitted using one of the solvers implemented in sklearn.linear_model.Ridge/RidgeCV instead.\n",
      "  model = cd_fast.enet_coordinate_descent(\n"
     ]
    },
    {
     "name": "stdout",
     "output_type": "stream",
     "text": [
      "[CV 5/5; 25/54] END alpha=0.1, l1_ratio=0;, score=-507638726.057 total time=   0.2s\n",
      "[CV 1/5; 26/54] START alpha=0.1, l1_ratio=0.01..................................\n",
      "[CV 1/5; 26/54] END alpha=0.1, l1_ratio=0.01;, score=-484086683.643 total time=   0.0s\n",
      "[CV 2/5; 26/54] START alpha=0.1, l1_ratio=0.01..................................\n",
      "[CV 2/5; 26/54] END alpha=0.1, l1_ratio=0.01;, score=-536091291.507 total time=   0.0s\n",
      "[CV 3/5; 26/54] START alpha=0.1, l1_ratio=0.01..................................\n",
      "[CV 3/5; 26/54] END alpha=0.1, l1_ratio=0.01;, score=-474112746.733 total time=   0.0s\n",
      "[CV 4/5; 26/54] START alpha=0.1, l1_ratio=0.01..................................\n",
      "[CV 4/5; 26/54] END alpha=0.1, l1_ratio=0.01;, score=-654430573.671 total time=   0.0s\n",
      "[CV 5/5; 26/54] START alpha=0.1, l1_ratio=0.01..................................\n",
      "[CV 5/5; 26/54] END alpha=0.1, l1_ratio=0.01;, score=-507162177.115 total time=   0.0s\n",
      "[CV 1/5; 27/54] START alpha=0.1, l1_ratio=0.1...................................\n",
      "[CV 1/5; 27/54] END alpha=0.1, l1_ratio=0.1;, score=-483241492.258 total time=   0.0s\n",
      "[CV 2/5; 27/54] START alpha=0.1, l1_ratio=0.1...................................\n",
      "[CV 2/5; 27/54] END alpha=0.1, l1_ratio=0.1;, score=-535210723.008 total time=   0.0s\n",
      "[CV 3/5; 27/54] START alpha=0.1, l1_ratio=0.1...................................\n",
      "[CV 3/5; 27/54] END alpha=0.1, l1_ratio=0.1;, score=-472598264.675 total time=   0.0s\n",
      "[CV 4/5; 27/54] START alpha=0.1, l1_ratio=0.1...................................\n",
      "[CV 4/5; 27/54] END alpha=0.1, l1_ratio=0.1;, score=-651690565.836 total time=   0.0s\n",
      "[CV 5/5; 27/54] START alpha=0.1, l1_ratio=0.1...................................\n",
      "[CV 5/5; 27/54] END alpha=0.1, l1_ratio=0.1;, score=-502816425.697 total time=   0.0s\n",
      "[CV 1/5; 28/54] START alpha=0.1, l1_ratio=0.7...................................\n",
      "[CV 1/5; 28/54] END alpha=0.1, l1_ratio=0.7;, score=-481597341.437 total time=   0.1s\n",
      "[CV 2/5; 28/54] START alpha=0.1, l1_ratio=0.7...................................\n",
      "[CV 2/5; 28/54] END alpha=0.1, l1_ratio=0.7;, score=-535063942.286 total time=   0.1s\n",
      "[CV 3/5; 28/54] START alpha=0.1, l1_ratio=0.7...................................\n",
      "[CV 3/5; 28/54] END alpha=0.1, l1_ratio=0.7;, score=-462032810.103 total time=   0.1s\n",
      "[CV 4/5; 28/54] START alpha=0.1, l1_ratio=0.7...................................\n",
      "[CV 4/5; 28/54] END alpha=0.1, l1_ratio=0.7;, score=-634186225.325 total time=   0.1s\n",
      "[CV 5/5; 28/54] START alpha=0.1, l1_ratio=0.7...................................\n",
      "[CV 5/5; 28/54] END alpha=0.1, l1_ratio=0.7;, score=-470490491.616 total time=   0.1s\n",
      "[CV 1/5; 29/54] START alpha=0.1, l1_ratio=0.99..................................\n"
     ]
    },
    {
     "name": "stderr",
     "output_type": "stream",
     "text": [
      "C:\\Users\\jansl\\anaconda3\\lib\\site-packages\\sklearn\\linear_model\\_coordinate_descent.py:647: ConvergenceWarning: Objective did not converge. You might want to increase the number of iterations, check the scale of the features or consider increasing regularisation. Duality gap: 3.837e+11, tolerance: 1.302e+09\n",
      "  model = cd_fast.enet_coordinate_descent(\n"
     ]
    },
    {
     "name": "stdout",
     "output_type": "stream",
     "text": [
      "[CV 1/5; 29/54] END alpha=0.1, l1_ratio=0.99;, score=-489405515.613 total time=   0.2s\n",
      "[CV 2/5; 29/54] START alpha=0.1, l1_ratio=0.99..................................\n"
     ]
    },
    {
     "name": "stderr",
     "output_type": "stream",
     "text": [
      "C:\\Users\\jansl\\anaconda3\\lib\\site-packages\\sklearn\\linear_model\\_coordinate_descent.py:647: ConvergenceWarning: Objective did not converge. You might want to increase the number of iterations, check the scale of the features or consider increasing regularisation. Duality gap: 3.764e+11, tolerance: 1.278e+09\n",
      "  model = cd_fast.enet_coordinate_descent(\n"
     ]
    },
    {
     "name": "stdout",
     "output_type": "stream",
     "text": [
      "[CV 2/5; 29/54] END alpha=0.1, l1_ratio=0.99;, score=-541663210.226 total time=   0.2s\n",
      "[CV 3/5; 29/54] START alpha=0.1, l1_ratio=0.99..................................\n"
     ]
    },
    {
     "name": "stderr",
     "output_type": "stream",
     "text": [
      "C:\\Users\\jansl\\anaconda3\\lib\\site-packages\\sklearn\\linear_model\\_coordinate_descent.py:647: ConvergenceWarning: Objective did not converge. You might want to increase the number of iterations, check the scale of the features or consider increasing regularisation. Duality gap: 3.857e+11, tolerance: 1.358e+09\n",
      "  model = cd_fast.enet_coordinate_descent(\n"
     ]
    },
    {
     "name": "stdout",
     "output_type": "stream",
     "text": [
      "[CV 3/5; 29/54] END alpha=0.1, l1_ratio=0.99;, score=-461199824.494 total time=   0.2s\n",
      "[CV 4/5; 29/54] START alpha=0.1, l1_ratio=0.99..................................\n"
     ]
    },
    {
     "name": "stderr",
     "output_type": "stream",
     "text": [
      "C:\\Users\\jansl\\anaconda3\\lib\\site-packages\\sklearn\\linear_model\\_coordinate_descent.py:647: ConvergenceWarning: Objective did not converge. You might want to increase the number of iterations, check the scale of the features or consider increasing regularisation. Duality gap: 3.403e+11, tolerance: 1.265e+09\n",
      "  model = cd_fast.enet_coordinate_descent(\n"
     ]
    },
    {
     "name": "stdout",
     "output_type": "stream",
     "text": [
      "[CV 4/5; 29/54] END alpha=0.1, l1_ratio=0.99;, score=-623494046.268 total time=   0.2s\n",
      "[CV 5/5; 29/54] START alpha=0.1, l1_ratio=0.99..................................\n"
     ]
    },
    {
     "name": "stderr",
     "output_type": "stream",
     "text": [
      "C:\\Users\\jansl\\anaconda3\\lib\\site-packages\\sklearn\\linear_model\\_coordinate_descent.py:647: ConvergenceWarning: Objective did not converge. You might want to increase the number of iterations, check the scale of the features or consider increasing regularisation. Duality gap: 3.853e+11, tolerance: 1.277e+09\n",
      "  model = cd_fast.enet_coordinate_descent(\n"
     ]
    },
    {
     "name": "stdout",
     "output_type": "stream",
     "text": [
      "[CV 5/5; 29/54] END alpha=0.1, l1_ratio=0.99;, score=-463707310.599 total time=   0.2s\n",
      "[CV 1/5; 30/54] START alpha=0.1, l1_ratio=1.....................................\n"
     ]
    },
    {
     "name": "stderr",
     "output_type": "stream",
     "text": [
      "C:\\Users\\jansl\\anaconda3\\lib\\site-packages\\sklearn\\linear_model\\_coordinate_descent.py:647: ConvergenceWarning: Objective did not converge. You might want to increase the number of iterations, check the scale of the features or consider increasing regularisation. Duality gap: 3.658e+11, tolerance: 1.302e+09\n",
      "  model = cd_fast.enet_coordinate_descent(\n"
     ]
    },
    {
     "name": "stdout",
     "output_type": "stream",
     "text": [
      "[CV 1/5; 30/54] END alpha=0.1, l1_ratio=1;, score=-496172739.770 total time=   0.2s\n",
      "[CV 2/5; 30/54] START alpha=0.1, l1_ratio=1.....................................\n"
     ]
    },
    {
     "name": "stderr",
     "output_type": "stream",
     "text": [
      "C:\\Users\\jansl\\anaconda3\\lib\\site-packages\\sklearn\\linear_model\\_coordinate_descent.py:647: ConvergenceWarning: Objective did not converge. You might want to increase the number of iterations, check the scale of the features or consider increasing regularisation. Duality gap: 3.736e+11, tolerance: 1.278e+09\n",
      "  model = cd_fast.enet_coordinate_descent(\n"
     ]
    },
    {
     "name": "stdout",
     "output_type": "stream",
     "text": [
      "[CV 2/5; 30/54] END alpha=0.1, l1_ratio=1;, score=-539813967.738 total time=   0.2s\n",
      "[CV 3/5; 30/54] START alpha=0.1, l1_ratio=1.....................................\n"
     ]
    },
    {
     "name": "stderr",
     "output_type": "stream",
     "text": [
      "C:\\Users\\jansl\\anaconda3\\lib\\site-packages\\sklearn\\linear_model\\_coordinate_descent.py:647: ConvergenceWarning: Objective did not converge. You might want to increase the number of iterations, check the scale of the features or consider increasing regularisation. Duality gap: 3.777e+11, tolerance: 1.358e+09\n",
      "  model = cd_fast.enet_coordinate_descent(\n"
     ]
    },
    {
     "name": "stdout",
     "output_type": "stream",
     "text": [
      "[CV 3/5; 30/54] END alpha=0.1, l1_ratio=1;, score=-462459629.697 total time=   0.2s\n",
      "[CV 4/5; 30/54] START alpha=0.1, l1_ratio=1.....................................\n"
     ]
    },
    {
     "name": "stderr",
     "output_type": "stream",
     "text": [
      "C:\\Users\\jansl\\anaconda3\\lib\\site-packages\\sklearn\\linear_model\\_coordinate_descent.py:647: ConvergenceWarning: Objective did not converge. You might want to increase the number of iterations, check the scale of the features or consider increasing regularisation. Duality gap: 3.346e+11, tolerance: 1.265e+09\n",
      "  model = cd_fast.enet_coordinate_descent(\n"
     ]
    },
    {
     "name": "stdout",
     "output_type": "stream",
     "text": [
      "[CV 4/5; 30/54] END alpha=0.1, l1_ratio=1;, score=-620591103.485 total time=   0.2s\n",
      "[CV 5/5; 30/54] START alpha=0.1, l1_ratio=1.....................................\n"
     ]
    },
    {
     "name": "stderr",
     "output_type": "stream",
     "text": [
      "C:\\Users\\jansl\\anaconda3\\lib\\site-packages\\sklearn\\linear_model\\_coordinate_descent.py:647: ConvergenceWarning: Objective did not converge. You might want to increase the number of iterations, check the scale of the features or consider increasing regularisation. Duality gap: 3.820e+11, tolerance: 1.277e+09\n",
      "  model = cd_fast.enet_coordinate_descent(\n",
      "C:\\Users\\jansl\\anaconda3\\lib\\site-packages\\sklearn\\model_selection\\_validation.py:680: UserWarning: With alpha=0, this algorithm does not converge well. You are advised to use the LinearRegression estimator\n",
      "  estimator.fit(X_train, y_train, **fit_params)\n",
      "C:\\Users\\jansl\\anaconda3\\lib\\site-packages\\sklearn\\linear_model\\_coordinate_descent.py:647: UserWarning: Coordinate descent with no regularization may lead to unexpected results and is discouraged.\n",
      "  model = cd_fast.enet_coordinate_descent(\n"
     ]
    },
    {
     "name": "stdout",
     "output_type": "stream",
     "text": [
      "[CV 5/5; 30/54] END alpha=0.1, l1_ratio=1;, score=-490392300.227 total time=   0.2s\n",
      "[CV 1/5; 31/54] START alpha=0.0, l1_ratio=0.....................................\n"
     ]
    },
    {
     "name": "stderr",
     "output_type": "stream",
     "text": [
      "C:\\Users\\jansl\\anaconda3\\lib\\site-packages\\sklearn\\linear_model\\_coordinate_descent.py:647: ConvergenceWarning: Objective did not converge. You might want to increase the number of iterations, check the scale of the features or consider increasing regularisation. Duality gap: 3.903e+11, tolerance: 1.302e+09 Linear regression models with null weight for the l1 regularization term are more efficiently fitted using one of the solvers implemented in sklearn.linear_model.Ridge/RidgeCV instead.\n",
      "  model = cd_fast.enet_coordinate_descent(\n",
      "C:\\Users\\jansl\\anaconda3\\lib\\site-packages\\sklearn\\model_selection\\_validation.py:680: UserWarning: With alpha=0, this algorithm does not converge well. You are advised to use the LinearRegression estimator\n",
      "  estimator.fit(X_train, y_train, **fit_params)\n",
      "C:\\Users\\jansl\\anaconda3\\lib\\site-packages\\sklearn\\linear_model\\_coordinate_descent.py:647: UserWarning: Coordinate descent with no regularization may lead to unexpected results and is discouraged.\n",
      "  model = cd_fast.enet_coordinate_descent(\n"
     ]
    },
    {
     "name": "stdout",
     "output_type": "stream",
     "text": [
      "[CV 1/5; 31/54] END alpha=0.0, l1_ratio=0;, score=-418614025649241.062 total time=   0.2s\n",
      "[CV 2/5; 31/54] START alpha=0.0, l1_ratio=0.....................................\n"
     ]
    },
    {
     "name": "stderr",
     "output_type": "stream",
     "text": [
      "C:\\Users\\jansl\\anaconda3\\lib\\site-packages\\sklearn\\linear_model\\_coordinate_descent.py:647: ConvergenceWarning: Objective did not converge. You might want to increase the number of iterations, check the scale of the features or consider increasing regularisation. Duality gap: 3.783e+11, tolerance: 1.278e+09 Linear regression models with null weight for the l1 regularization term are more efficiently fitted using one of the solvers implemented in sklearn.linear_model.Ridge/RidgeCV instead.\n",
      "  model = cd_fast.enet_coordinate_descent(\n",
      "C:\\Users\\jansl\\anaconda3\\lib\\site-packages\\sklearn\\model_selection\\_validation.py:680: UserWarning: With alpha=0, this algorithm does not converge well. You are advised to use the LinearRegression estimator\n",
      "  estimator.fit(X_train, y_train, **fit_params)\n",
      "C:\\Users\\jansl\\anaconda3\\lib\\site-packages\\sklearn\\linear_model\\_coordinate_descent.py:647: UserWarning: Coordinate descent with no regularization may lead to unexpected results and is discouraged.\n",
      "  model = cd_fast.enet_coordinate_descent(\n"
     ]
    },
    {
     "name": "stdout",
     "output_type": "stream",
     "text": [
      "[CV 2/5; 31/54] END alpha=0.0, l1_ratio=0;, score=-4101905834709.778 total time=   0.2s\n",
      "[CV 3/5; 31/54] START alpha=0.0, l1_ratio=0.....................................\n"
     ]
    },
    {
     "name": "stderr",
     "output_type": "stream",
     "text": [
      "C:\\Users\\jansl\\anaconda3\\lib\\site-packages\\sklearn\\linear_model\\_coordinate_descent.py:647: ConvergenceWarning: Objective did not converge. You might want to increase the number of iterations, check the scale of the features or consider increasing regularisation. Duality gap: 3.886e+11, tolerance: 1.358e+09 Linear regression models with null weight for the l1 regularization term are more efficiently fitted using one of the solvers implemented in sklearn.linear_model.Ridge/RidgeCV instead.\n",
      "  model = cd_fast.enet_coordinate_descent(\n",
      "C:\\Users\\jansl\\anaconda3\\lib\\site-packages\\sklearn\\model_selection\\_validation.py:680: UserWarning: With alpha=0, this algorithm does not converge well. You are advised to use the LinearRegression estimator\n",
      "  estimator.fit(X_train, y_train, **fit_params)\n",
      "C:\\Users\\jansl\\anaconda3\\lib\\site-packages\\sklearn\\linear_model\\_coordinate_descent.py:647: UserWarning: Coordinate descent with no regularization may lead to unexpected results and is discouraged.\n",
      "  model = cd_fast.enet_coordinate_descent(\n"
     ]
    },
    {
     "name": "stdout",
     "output_type": "stream",
     "text": [
      "[CV 3/5; 31/54] END alpha=0.0, l1_ratio=0;, score=-20922667219432.914 total time=   0.2s\n",
      "[CV 4/5; 31/54] START alpha=0.0, l1_ratio=0.....................................\n"
     ]
    },
    {
     "name": "stderr",
     "output_type": "stream",
     "text": [
      "C:\\Users\\jansl\\anaconda3\\lib\\site-packages\\sklearn\\linear_model\\_coordinate_descent.py:647: ConvergenceWarning: Objective did not converge. You might want to increase the number of iterations, check the scale of the features or consider increasing regularisation. Duality gap: 3.458e+11, tolerance: 1.265e+09 Linear regression models with null weight for the l1 regularization term are more efficiently fitted using one of the solvers implemented in sklearn.linear_model.Ridge/RidgeCV instead.\n",
      "  model = cd_fast.enet_coordinate_descent(\n",
      "C:\\Users\\jansl\\anaconda3\\lib\\site-packages\\sklearn\\model_selection\\_validation.py:680: UserWarning: With alpha=0, this algorithm does not converge well. You are advised to use the LinearRegression estimator\n",
      "  estimator.fit(X_train, y_train, **fit_params)\n",
      "C:\\Users\\jansl\\anaconda3\\lib\\site-packages\\sklearn\\linear_model\\_coordinate_descent.py:647: UserWarning: Coordinate descent with no regularization may lead to unexpected results and is discouraged.\n",
      "  model = cd_fast.enet_coordinate_descent(\n"
     ]
    },
    {
     "name": "stdout",
     "output_type": "stream",
     "text": [
      "[CV 4/5; 31/54] END alpha=0.0, l1_ratio=0;, score=-620552377.861 total time=   0.2s\n",
      "[CV 5/5; 31/54] START alpha=0.0, l1_ratio=0.....................................\n"
     ]
    },
    {
     "name": "stderr",
     "output_type": "stream",
     "text": [
      "C:\\Users\\jansl\\anaconda3\\lib\\site-packages\\sklearn\\linear_model\\_coordinate_descent.py:647: ConvergenceWarning: Objective did not converge. You might want to increase the number of iterations, check the scale of the features or consider increasing regularisation. Duality gap: 3.867e+11, tolerance: 1.277e+09 Linear regression models with null weight for the l1 regularization term are more efficiently fitted using one of the solvers implemented in sklearn.linear_model.Ridge/RidgeCV instead.\n",
      "  model = cd_fast.enet_coordinate_descent(\n",
      "C:\\Users\\jansl\\anaconda3\\lib\\site-packages\\sklearn\\model_selection\\_validation.py:680: UserWarning: With alpha=0, this algorithm does not converge well. You are advised to use the LinearRegression estimator\n",
      "  estimator.fit(X_train, y_train, **fit_params)\n",
      "C:\\Users\\jansl\\anaconda3\\lib\\site-packages\\sklearn\\linear_model\\_coordinate_descent.py:647: UserWarning: Coordinate descent with no regularization may lead to unexpected results and is discouraged.\n",
      "  model = cd_fast.enet_coordinate_descent(\n"
     ]
    },
    {
     "name": "stdout",
     "output_type": "stream",
     "text": [
      "[CV 5/5; 31/54] END alpha=0.0, l1_ratio=0;, score=-490864274.766 total time=   0.2s\n",
      "[CV 1/5; 32/54] START alpha=0.0, l1_ratio=0.01..................................\n"
     ]
    },
    {
     "name": "stderr",
     "output_type": "stream",
     "text": [
      "C:\\Users\\jansl\\anaconda3\\lib\\site-packages\\sklearn\\linear_model\\_coordinate_descent.py:647: ConvergenceWarning: Objective did not converge. You might want to increase the number of iterations, check the scale of the features or consider increasing regularisation. Duality gap: 3.903e+11, tolerance: 1.302e+09 Linear regression models with null weight for the l1 regularization term are more efficiently fitted using one of the solvers implemented in sklearn.linear_model.Ridge/RidgeCV instead.\n",
      "  model = cd_fast.enet_coordinate_descent(\n",
      "C:\\Users\\jansl\\anaconda3\\lib\\site-packages\\sklearn\\model_selection\\_validation.py:680: UserWarning: With alpha=0, this algorithm does not converge well. You are advised to use the LinearRegression estimator\n",
      "  estimator.fit(X_train, y_train, **fit_params)\n",
      "C:\\Users\\jansl\\anaconda3\\lib\\site-packages\\sklearn\\linear_model\\_coordinate_descent.py:647: UserWarning: Coordinate descent with no regularization may lead to unexpected results and is discouraged.\n",
      "  model = cd_fast.enet_coordinate_descent(\n"
     ]
    },
    {
     "name": "stdout",
     "output_type": "stream",
     "text": [
      "[CV 1/5; 32/54] END alpha=0.0, l1_ratio=0.01;, score=-418614025649241.062 total time=   0.2s\n",
      "[CV 2/5; 32/54] START alpha=0.0, l1_ratio=0.01..................................\n"
     ]
    },
    {
     "name": "stderr",
     "output_type": "stream",
     "text": [
      "C:\\Users\\jansl\\anaconda3\\lib\\site-packages\\sklearn\\linear_model\\_coordinate_descent.py:647: ConvergenceWarning: Objective did not converge. You might want to increase the number of iterations, check the scale of the features or consider increasing regularisation. Duality gap: 3.783e+11, tolerance: 1.278e+09 Linear regression models with null weight for the l1 regularization term are more efficiently fitted using one of the solvers implemented in sklearn.linear_model.Ridge/RidgeCV instead.\n",
      "  model = cd_fast.enet_coordinate_descent(\n",
      "C:\\Users\\jansl\\anaconda3\\lib\\site-packages\\sklearn\\model_selection\\_validation.py:680: UserWarning: With alpha=0, this algorithm does not converge well. You are advised to use the LinearRegression estimator\n",
      "  estimator.fit(X_train, y_train, **fit_params)\n",
      "C:\\Users\\jansl\\anaconda3\\lib\\site-packages\\sklearn\\linear_model\\_coordinate_descent.py:647: UserWarning: Coordinate descent with no regularization may lead to unexpected results and is discouraged.\n",
      "  model = cd_fast.enet_coordinate_descent(\n"
     ]
    },
    {
     "name": "stdout",
     "output_type": "stream",
     "text": [
      "[CV 2/5; 32/54] END alpha=0.0, l1_ratio=0.01;, score=-4101905834709.778 total time=   0.2s\n",
      "[CV 3/5; 32/54] START alpha=0.0, l1_ratio=0.01..................................\n"
     ]
    },
    {
     "name": "stderr",
     "output_type": "stream",
     "text": [
      "C:\\Users\\jansl\\anaconda3\\lib\\site-packages\\sklearn\\linear_model\\_coordinate_descent.py:647: ConvergenceWarning: Objective did not converge. You might want to increase the number of iterations, check the scale of the features or consider increasing regularisation. Duality gap: 3.886e+11, tolerance: 1.358e+09 Linear regression models with null weight for the l1 regularization term are more efficiently fitted using one of the solvers implemented in sklearn.linear_model.Ridge/RidgeCV instead.\n",
      "  model = cd_fast.enet_coordinate_descent(\n",
      "C:\\Users\\jansl\\anaconda3\\lib\\site-packages\\sklearn\\model_selection\\_validation.py:680: UserWarning: With alpha=0, this algorithm does not converge well. You are advised to use the LinearRegression estimator\n",
      "  estimator.fit(X_train, y_train, **fit_params)\n",
      "C:\\Users\\jansl\\anaconda3\\lib\\site-packages\\sklearn\\linear_model\\_coordinate_descent.py:647: UserWarning: Coordinate descent with no regularization may lead to unexpected results and is discouraged.\n",
      "  model = cd_fast.enet_coordinate_descent(\n"
     ]
    },
    {
     "name": "stdout",
     "output_type": "stream",
     "text": [
      "[CV 3/5; 32/54] END alpha=0.0, l1_ratio=0.01;, score=-20922667219432.914 total time=   0.2s\n",
      "[CV 4/5; 32/54] START alpha=0.0, l1_ratio=0.01..................................\n"
     ]
    },
    {
     "name": "stderr",
     "output_type": "stream",
     "text": [
      "C:\\Users\\jansl\\anaconda3\\lib\\site-packages\\sklearn\\linear_model\\_coordinate_descent.py:647: ConvergenceWarning: Objective did not converge. You might want to increase the number of iterations, check the scale of the features or consider increasing regularisation. Duality gap: 3.458e+11, tolerance: 1.265e+09 Linear regression models with null weight for the l1 regularization term are more efficiently fitted using one of the solvers implemented in sklearn.linear_model.Ridge/RidgeCV instead.\n",
      "  model = cd_fast.enet_coordinate_descent(\n",
      "C:\\Users\\jansl\\anaconda3\\lib\\site-packages\\sklearn\\model_selection\\_validation.py:680: UserWarning: With alpha=0, this algorithm does not converge well. You are advised to use the LinearRegression estimator\n",
      "  estimator.fit(X_train, y_train, **fit_params)\n",
      "C:\\Users\\jansl\\anaconda3\\lib\\site-packages\\sklearn\\linear_model\\_coordinate_descent.py:647: UserWarning: Coordinate descent with no regularization may lead to unexpected results and is discouraged.\n",
      "  model = cd_fast.enet_coordinate_descent(\n"
     ]
    },
    {
     "name": "stdout",
     "output_type": "stream",
     "text": [
      "[CV 4/5; 32/54] END alpha=0.0, l1_ratio=0.01;, score=-620552377.861 total time=   0.2s\n",
      "[CV 5/5; 32/54] START alpha=0.0, l1_ratio=0.01..................................\n"
     ]
    },
    {
     "name": "stderr",
     "output_type": "stream",
     "text": [
      "C:\\Users\\jansl\\anaconda3\\lib\\site-packages\\sklearn\\linear_model\\_coordinate_descent.py:647: ConvergenceWarning: Objective did not converge. You might want to increase the number of iterations, check the scale of the features or consider increasing regularisation. Duality gap: 3.867e+11, tolerance: 1.277e+09 Linear regression models with null weight for the l1 regularization term are more efficiently fitted using one of the solvers implemented in sklearn.linear_model.Ridge/RidgeCV instead.\n",
      "  model = cd_fast.enet_coordinate_descent(\n",
      "C:\\Users\\jansl\\anaconda3\\lib\\site-packages\\sklearn\\model_selection\\_validation.py:680: UserWarning: With alpha=0, this algorithm does not converge well. You are advised to use the LinearRegression estimator\n",
      "  estimator.fit(X_train, y_train, **fit_params)\n",
      "C:\\Users\\jansl\\anaconda3\\lib\\site-packages\\sklearn\\linear_model\\_coordinate_descent.py:647: UserWarning: Coordinate descent with no regularization may lead to unexpected results and is discouraged.\n",
      "  model = cd_fast.enet_coordinate_descent(\n"
     ]
    },
    {
     "name": "stdout",
     "output_type": "stream",
     "text": [
      "[CV 5/5; 32/54] END alpha=0.0, l1_ratio=0.01;, score=-490864274.766 total time=   0.2s\n",
      "[CV 1/5; 33/54] START alpha=0.0, l1_ratio=0.1...................................\n"
     ]
    },
    {
     "name": "stderr",
     "output_type": "stream",
     "text": [
      "C:\\Users\\jansl\\anaconda3\\lib\\site-packages\\sklearn\\linear_model\\_coordinate_descent.py:647: ConvergenceWarning: Objective did not converge. You might want to increase the number of iterations, check the scale of the features or consider increasing regularisation. Duality gap: 3.903e+11, tolerance: 1.302e+09 Linear regression models with null weight for the l1 regularization term are more efficiently fitted using one of the solvers implemented in sklearn.linear_model.Ridge/RidgeCV instead.\n",
      "  model = cd_fast.enet_coordinate_descent(\n",
      "C:\\Users\\jansl\\anaconda3\\lib\\site-packages\\sklearn\\model_selection\\_validation.py:680: UserWarning: With alpha=0, this algorithm does not converge well. You are advised to use the LinearRegression estimator\n",
      "  estimator.fit(X_train, y_train, **fit_params)\n",
      "C:\\Users\\jansl\\anaconda3\\lib\\site-packages\\sklearn\\linear_model\\_coordinate_descent.py:647: UserWarning: Coordinate descent with no regularization may lead to unexpected results and is discouraged.\n",
      "  model = cd_fast.enet_coordinate_descent(\n"
     ]
    },
    {
     "name": "stdout",
     "output_type": "stream",
     "text": [
      "[CV 1/5; 33/54] END alpha=0.0, l1_ratio=0.1;, score=-418614025649241.062 total time=   0.2s\n",
      "[CV 2/5; 33/54] START alpha=0.0, l1_ratio=0.1...................................\n"
     ]
    },
    {
     "name": "stderr",
     "output_type": "stream",
     "text": [
      "C:\\Users\\jansl\\anaconda3\\lib\\site-packages\\sklearn\\linear_model\\_coordinate_descent.py:647: ConvergenceWarning: Objective did not converge. You might want to increase the number of iterations, check the scale of the features or consider increasing regularisation. Duality gap: 3.783e+11, tolerance: 1.278e+09 Linear regression models with null weight for the l1 regularization term are more efficiently fitted using one of the solvers implemented in sklearn.linear_model.Ridge/RidgeCV instead.\n",
      "  model = cd_fast.enet_coordinate_descent(\n",
      "C:\\Users\\jansl\\anaconda3\\lib\\site-packages\\sklearn\\model_selection\\_validation.py:680: UserWarning: With alpha=0, this algorithm does not converge well. You are advised to use the LinearRegression estimator\n",
      "  estimator.fit(X_train, y_train, **fit_params)\n",
      "C:\\Users\\jansl\\anaconda3\\lib\\site-packages\\sklearn\\linear_model\\_coordinate_descent.py:647: UserWarning: Coordinate descent with no regularization may lead to unexpected results and is discouraged.\n",
      "  model = cd_fast.enet_coordinate_descent(\n"
     ]
    },
    {
     "name": "stdout",
     "output_type": "stream",
     "text": [
      "[CV 2/5; 33/54] END alpha=0.0, l1_ratio=0.1;, score=-4101905834709.778 total time=   0.2s\n",
      "[CV 3/5; 33/54] START alpha=0.0, l1_ratio=0.1...................................\n"
     ]
    },
    {
     "name": "stderr",
     "output_type": "stream",
     "text": [
      "C:\\Users\\jansl\\anaconda3\\lib\\site-packages\\sklearn\\linear_model\\_coordinate_descent.py:647: ConvergenceWarning: Objective did not converge. You might want to increase the number of iterations, check the scale of the features or consider increasing regularisation. Duality gap: 3.886e+11, tolerance: 1.358e+09 Linear regression models with null weight for the l1 regularization term are more efficiently fitted using one of the solvers implemented in sklearn.linear_model.Ridge/RidgeCV instead.\n",
      "  model = cd_fast.enet_coordinate_descent(\n",
      "C:\\Users\\jansl\\anaconda3\\lib\\site-packages\\sklearn\\model_selection\\_validation.py:680: UserWarning: With alpha=0, this algorithm does not converge well. You are advised to use the LinearRegression estimator\n",
      "  estimator.fit(X_train, y_train, **fit_params)\n",
      "C:\\Users\\jansl\\anaconda3\\lib\\site-packages\\sklearn\\linear_model\\_coordinate_descent.py:647: UserWarning: Coordinate descent with no regularization may lead to unexpected results and is discouraged.\n",
      "  model = cd_fast.enet_coordinate_descent(\n"
     ]
    },
    {
     "name": "stdout",
     "output_type": "stream",
     "text": [
      "[CV 3/5; 33/54] END alpha=0.0, l1_ratio=0.1;, score=-20922667219432.914 total time=   0.2s\n",
      "[CV 4/5; 33/54] START alpha=0.0, l1_ratio=0.1...................................\n"
     ]
    },
    {
     "name": "stderr",
     "output_type": "stream",
     "text": [
      "C:\\Users\\jansl\\anaconda3\\lib\\site-packages\\sklearn\\linear_model\\_coordinate_descent.py:647: ConvergenceWarning: Objective did not converge. You might want to increase the number of iterations, check the scale of the features or consider increasing regularisation. Duality gap: 3.458e+11, tolerance: 1.265e+09 Linear regression models with null weight for the l1 regularization term are more efficiently fitted using one of the solvers implemented in sklearn.linear_model.Ridge/RidgeCV instead.\n",
      "  model = cd_fast.enet_coordinate_descent(\n",
      "C:\\Users\\jansl\\anaconda3\\lib\\site-packages\\sklearn\\model_selection\\_validation.py:680: UserWarning: With alpha=0, this algorithm does not converge well. You are advised to use the LinearRegression estimator\n",
      "  estimator.fit(X_train, y_train, **fit_params)\n",
      "C:\\Users\\jansl\\anaconda3\\lib\\site-packages\\sklearn\\linear_model\\_coordinate_descent.py:647: UserWarning: Coordinate descent with no regularization may lead to unexpected results and is discouraged.\n",
      "  model = cd_fast.enet_coordinate_descent(\n"
     ]
    },
    {
     "name": "stdout",
     "output_type": "stream",
     "text": [
      "[CV 4/5; 33/54] END alpha=0.0, l1_ratio=0.1;, score=-620552377.861 total time=   0.2s\n",
      "[CV 5/5; 33/54] START alpha=0.0, l1_ratio=0.1...................................\n"
     ]
    },
    {
     "name": "stderr",
     "output_type": "stream",
     "text": [
      "C:\\Users\\jansl\\anaconda3\\lib\\site-packages\\sklearn\\linear_model\\_coordinate_descent.py:647: ConvergenceWarning: Objective did not converge. You might want to increase the number of iterations, check the scale of the features or consider increasing regularisation. Duality gap: 3.867e+11, tolerance: 1.277e+09 Linear regression models with null weight for the l1 regularization term are more efficiently fitted using one of the solvers implemented in sklearn.linear_model.Ridge/RidgeCV instead.\n",
      "  model = cd_fast.enet_coordinate_descent(\n",
      "C:\\Users\\jansl\\anaconda3\\lib\\site-packages\\sklearn\\model_selection\\_validation.py:680: UserWarning: With alpha=0, this algorithm does not converge well. You are advised to use the LinearRegression estimator\n",
      "  estimator.fit(X_train, y_train, **fit_params)\n",
      "C:\\Users\\jansl\\anaconda3\\lib\\site-packages\\sklearn\\linear_model\\_coordinate_descent.py:647: UserWarning: Coordinate descent with no regularization may lead to unexpected results and is discouraged.\n",
      "  model = cd_fast.enet_coordinate_descent(\n"
     ]
    },
    {
     "name": "stdout",
     "output_type": "stream",
     "text": [
      "[CV 5/5; 33/54] END alpha=0.0, l1_ratio=0.1;, score=-490864274.766 total time=   0.3s\n",
      "[CV 1/5; 34/54] START alpha=0.0, l1_ratio=0.7...................................\n"
     ]
    },
    {
     "name": "stderr",
     "output_type": "stream",
     "text": [
      "C:\\Users\\jansl\\anaconda3\\lib\\site-packages\\sklearn\\linear_model\\_coordinate_descent.py:647: ConvergenceWarning: Objective did not converge. You might want to increase the number of iterations, check the scale of the features or consider increasing regularisation. Duality gap: 3.903e+11, tolerance: 1.302e+09 Linear regression models with null weight for the l1 regularization term are more efficiently fitted using one of the solvers implemented in sklearn.linear_model.Ridge/RidgeCV instead.\n",
      "  model = cd_fast.enet_coordinate_descent(\n",
      "C:\\Users\\jansl\\anaconda3\\lib\\site-packages\\sklearn\\model_selection\\_validation.py:680: UserWarning: With alpha=0, this algorithm does not converge well. You are advised to use the LinearRegression estimator\n",
      "  estimator.fit(X_train, y_train, **fit_params)\n",
      "C:\\Users\\jansl\\anaconda3\\lib\\site-packages\\sklearn\\linear_model\\_coordinate_descent.py:647: UserWarning: Coordinate descent with no regularization may lead to unexpected results and is discouraged.\n",
      "  model = cd_fast.enet_coordinate_descent(\n"
     ]
    },
    {
     "name": "stdout",
     "output_type": "stream",
     "text": [
      "[CV 1/5; 34/54] END alpha=0.0, l1_ratio=0.7;, score=-418614025649241.062 total time=   0.2s\n",
      "[CV 2/5; 34/54] START alpha=0.0, l1_ratio=0.7...................................\n"
     ]
    },
    {
     "name": "stderr",
     "output_type": "stream",
     "text": [
      "C:\\Users\\jansl\\anaconda3\\lib\\site-packages\\sklearn\\linear_model\\_coordinate_descent.py:647: ConvergenceWarning: Objective did not converge. You might want to increase the number of iterations, check the scale of the features or consider increasing regularisation. Duality gap: 3.783e+11, tolerance: 1.278e+09 Linear regression models with null weight for the l1 regularization term are more efficiently fitted using one of the solvers implemented in sklearn.linear_model.Ridge/RidgeCV instead.\n",
      "  model = cd_fast.enet_coordinate_descent(\n",
      "C:\\Users\\jansl\\anaconda3\\lib\\site-packages\\sklearn\\model_selection\\_validation.py:680: UserWarning: With alpha=0, this algorithm does not converge well. You are advised to use the LinearRegression estimator\n",
      "  estimator.fit(X_train, y_train, **fit_params)\n",
      "C:\\Users\\jansl\\anaconda3\\lib\\site-packages\\sklearn\\linear_model\\_coordinate_descent.py:647: UserWarning: Coordinate descent with no regularization may lead to unexpected results and is discouraged.\n",
      "  model = cd_fast.enet_coordinate_descent(\n"
     ]
    },
    {
     "name": "stdout",
     "output_type": "stream",
     "text": [
      "[CV 2/5; 34/54] END alpha=0.0, l1_ratio=0.7;, score=-4101905834709.778 total time=   0.3s\n",
      "[CV 3/5; 34/54] START alpha=0.0, l1_ratio=0.7...................................\n"
     ]
    },
    {
     "name": "stderr",
     "output_type": "stream",
     "text": [
      "C:\\Users\\jansl\\anaconda3\\lib\\site-packages\\sklearn\\linear_model\\_coordinate_descent.py:647: ConvergenceWarning: Objective did not converge. You might want to increase the number of iterations, check the scale of the features or consider increasing regularisation. Duality gap: 3.886e+11, tolerance: 1.358e+09 Linear regression models with null weight for the l1 regularization term are more efficiently fitted using one of the solvers implemented in sklearn.linear_model.Ridge/RidgeCV instead.\n",
      "  model = cd_fast.enet_coordinate_descent(\n",
      "C:\\Users\\jansl\\anaconda3\\lib\\site-packages\\sklearn\\model_selection\\_validation.py:680: UserWarning: With alpha=0, this algorithm does not converge well. You are advised to use the LinearRegression estimator\n",
      "  estimator.fit(X_train, y_train, **fit_params)\n",
      "C:\\Users\\jansl\\anaconda3\\lib\\site-packages\\sklearn\\linear_model\\_coordinate_descent.py:647: UserWarning: Coordinate descent with no regularization may lead to unexpected results and is discouraged.\n",
      "  model = cd_fast.enet_coordinate_descent(\n"
     ]
    },
    {
     "name": "stdout",
     "output_type": "stream",
     "text": [
      "[CV 3/5; 34/54] END alpha=0.0, l1_ratio=0.7;, score=-20922667219432.914 total time=   0.2s\n",
      "[CV 4/5; 34/54] START alpha=0.0, l1_ratio=0.7...................................\n"
     ]
    },
    {
     "name": "stderr",
     "output_type": "stream",
     "text": [
      "C:\\Users\\jansl\\anaconda3\\lib\\site-packages\\sklearn\\linear_model\\_coordinate_descent.py:647: ConvergenceWarning: Objective did not converge. You might want to increase the number of iterations, check the scale of the features or consider increasing regularisation. Duality gap: 3.458e+11, tolerance: 1.265e+09 Linear regression models with null weight for the l1 regularization term are more efficiently fitted using one of the solvers implemented in sklearn.linear_model.Ridge/RidgeCV instead.\n",
      "  model = cd_fast.enet_coordinate_descent(\n",
      "C:\\Users\\jansl\\anaconda3\\lib\\site-packages\\sklearn\\model_selection\\_validation.py:680: UserWarning: With alpha=0, this algorithm does not converge well. You are advised to use the LinearRegression estimator\n",
      "  estimator.fit(X_train, y_train, **fit_params)\n",
      "C:\\Users\\jansl\\anaconda3\\lib\\site-packages\\sklearn\\linear_model\\_coordinate_descent.py:647: UserWarning: Coordinate descent with no regularization may lead to unexpected results and is discouraged.\n",
      "  model = cd_fast.enet_coordinate_descent(\n"
     ]
    },
    {
     "name": "stdout",
     "output_type": "stream",
     "text": [
      "[CV 4/5; 34/54] END alpha=0.0, l1_ratio=0.7;, score=-620552377.861 total time=   0.2s\n",
      "[CV 5/5; 34/54] START alpha=0.0, l1_ratio=0.7...................................\n"
     ]
    },
    {
     "name": "stderr",
     "output_type": "stream",
     "text": [
      "C:\\Users\\jansl\\anaconda3\\lib\\site-packages\\sklearn\\linear_model\\_coordinate_descent.py:647: ConvergenceWarning: Objective did not converge. You might want to increase the number of iterations, check the scale of the features or consider increasing regularisation. Duality gap: 3.867e+11, tolerance: 1.277e+09 Linear regression models with null weight for the l1 regularization term are more efficiently fitted using one of the solvers implemented in sklearn.linear_model.Ridge/RidgeCV instead.\n",
      "  model = cd_fast.enet_coordinate_descent(\n",
      "C:\\Users\\jansl\\anaconda3\\lib\\site-packages\\sklearn\\model_selection\\_validation.py:680: UserWarning: With alpha=0, this algorithm does not converge well. You are advised to use the LinearRegression estimator\n",
      "  estimator.fit(X_train, y_train, **fit_params)\n",
      "C:\\Users\\jansl\\anaconda3\\lib\\site-packages\\sklearn\\linear_model\\_coordinate_descent.py:647: UserWarning: Coordinate descent with no regularization may lead to unexpected results and is discouraged.\n",
      "  model = cd_fast.enet_coordinate_descent(\n"
     ]
    },
    {
     "name": "stdout",
     "output_type": "stream",
     "text": [
      "[CV 5/5; 34/54] END alpha=0.0, l1_ratio=0.7;, score=-490864274.766 total time=   0.2s\n",
      "[CV 1/5; 35/54] START alpha=0.0, l1_ratio=0.99..................................\n"
     ]
    },
    {
     "name": "stderr",
     "output_type": "stream",
     "text": [
      "C:\\Users\\jansl\\anaconda3\\lib\\site-packages\\sklearn\\linear_model\\_coordinate_descent.py:647: ConvergenceWarning: Objective did not converge. You might want to increase the number of iterations, check the scale of the features or consider increasing regularisation. Duality gap: 3.903e+11, tolerance: 1.302e+09 Linear regression models with null weight for the l1 regularization term are more efficiently fitted using one of the solvers implemented in sklearn.linear_model.Ridge/RidgeCV instead.\n",
      "  model = cd_fast.enet_coordinate_descent(\n",
      "C:\\Users\\jansl\\anaconda3\\lib\\site-packages\\sklearn\\model_selection\\_validation.py:680: UserWarning: With alpha=0, this algorithm does not converge well. You are advised to use the LinearRegression estimator\n",
      "  estimator.fit(X_train, y_train, **fit_params)\n",
      "C:\\Users\\jansl\\anaconda3\\lib\\site-packages\\sklearn\\linear_model\\_coordinate_descent.py:647: UserWarning: Coordinate descent with no regularization may lead to unexpected results and is discouraged.\n",
      "  model = cd_fast.enet_coordinate_descent(\n"
     ]
    },
    {
     "name": "stdout",
     "output_type": "stream",
     "text": [
      "[CV 1/5; 35/54] END alpha=0.0, l1_ratio=0.99;, score=-418614025649241.062 total time=   0.3s\n",
      "[CV 2/5; 35/54] START alpha=0.0, l1_ratio=0.99..................................\n"
     ]
    },
    {
     "name": "stderr",
     "output_type": "stream",
     "text": [
      "C:\\Users\\jansl\\anaconda3\\lib\\site-packages\\sklearn\\linear_model\\_coordinate_descent.py:647: ConvergenceWarning: Objective did not converge. You might want to increase the number of iterations, check the scale of the features or consider increasing regularisation. Duality gap: 3.783e+11, tolerance: 1.278e+09 Linear regression models with null weight for the l1 regularization term are more efficiently fitted using one of the solvers implemented in sklearn.linear_model.Ridge/RidgeCV instead.\n",
      "  model = cd_fast.enet_coordinate_descent(\n",
      "C:\\Users\\jansl\\anaconda3\\lib\\site-packages\\sklearn\\model_selection\\_validation.py:680: UserWarning: With alpha=0, this algorithm does not converge well. You are advised to use the LinearRegression estimator\n",
      "  estimator.fit(X_train, y_train, **fit_params)\n",
      "C:\\Users\\jansl\\anaconda3\\lib\\site-packages\\sklearn\\linear_model\\_coordinate_descent.py:647: UserWarning: Coordinate descent with no regularization may lead to unexpected results and is discouraged.\n",
      "  model = cd_fast.enet_coordinate_descent(\n"
     ]
    },
    {
     "name": "stdout",
     "output_type": "stream",
     "text": [
      "[CV 2/5; 35/54] END alpha=0.0, l1_ratio=0.99;, score=-4101905834709.778 total time=   0.3s\n",
      "[CV 3/5; 35/54] START alpha=0.0, l1_ratio=0.99..................................\n"
     ]
    },
    {
     "name": "stderr",
     "output_type": "stream",
     "text": [
      "C:\\Users\\jansl\\anaconda3\\lib\\site-packages\\sklearn\\linear_model\\_coordinate_descent.py:647: ConvergenceWarning: Objective did not converge. You might want to increase the number of iterations, check the scale of the features or consider increasing regularisation. Duality gap: 3.886e+11, tolerance: 1.358e+09 Linear regression models with null weight for the l1 regularization term are more efficiently fitted using one of the solvers implemented in sklearn.linear_model.Ridge/RidgeCV instead.\n",
      "  model = cd_fast.enet_coordinate_descent(\n",
      "C:\\Users\\jansl\\anaconda3\\lib\\site-packages\\sklearn\\model_selection\\_validation.py:680: UserWarning: With alpha=0, this algorithm does not converge well. You are advised to use the LinearRegression estimator\n",
      "  estimator.fit(X_train, y_train, **fit_params)\n",
      "C:\\Users\\jansl\\anaconda3\\lib\\site-packages\\sklearn\\linear_model\\_coordinate_descent.py:647: UserWarning: Coordinate descent with no regularization may lead to unexpected results and is discouraged.\n",
      "  model = cd_fast.enet_coordinate_descent(\n"
     ]
    },
    {
     "name": "stdout",
     "output_type": "stream",
     "text": [
      "[CV 3/5; 35/54] END alpha=0.0, l1_ratio=0.99;, score=-20922667219432.914 total time=   0.3s\n",
      "[CV 4/5; 35/54] START alpha=0.0, l1_ratio=0.99..................................\n"
     ]
    },
    {
     "name": "stderr",
     "output_type": "stream",
     "text": [
      "C:\\Users\\jansl\\anaconda3\\lib\\site-packages\\sklearn\\linear_model\\_coordinate_descent.py:647: ConvergenceWarning: Objective did not converge. You might want to increase the number of iterations, check the scale of the features or consider increasing regularisation. Duality gap: 3.458e+11, tolerance: 1.265e+09 Linear regression models with null weight for the l1 regularization term are more efficiently fitted using one of the solvers implemented in sklearn.linear_model.Ridge/RidgeCV instead.\n",
      "  model = cd_fast.enet_coordinate_descent(\n",
      "C:\\Users\\jansl\\anaconda3\\lib\\site-packages\\sklearn\\model_selection\\_validation.py:680: UserWarning: With alpha=0, this algorithm does not converge well. You are advised to use the LinearRegression estimator\n",
      "  estimator.fit(X_train, y_train, **fit_params)\n",
      "C:\\Users\\jansl\\anaconda3\\lib\\site-packages\\sklearn\\linear_model\\_coordinate_descent.py:647: UserWarning: Coordinate descent with no regularization may lead to unexpected results and is discouraged.\n",
      "  model = cd_fast.enet_coordinate_descent(\n"
     ]
    },
    {
     "name": "stdout",
     "output_type": "stream",
     "text": [
      "[CV 4/5; 35/54] END alpha=0.0, l1_ratio=0.99;, score=-620552377.861 total time=   0.3s\n",
      "[CV 5/5; 35/54] START alpha=0.0, l1_ratio=0.99..................................\n"
     ]
    },
    {
     "name": "stderr",
     "output_type": "stream",
     "text": [
      "C:\\Users\\jansl\\anaconda3\\lib\\site-packages\\sklearn\\linear_model\\_coordinate_descent.py:647: ConvergenceWarning: Objective did not converge. You might want to increase the number of iterations, check the scale of the features or consider increasing regularisation. Duality gap: 3.867e+11, tolerance: 1.277e+09 Linear regression models with null weight for the l1 regularization term are more efficiently fitted using one of the solvers implemented in sklearn.linear_model.Ridge/RidgeCV instead.\n",
      "  model = cd_fast.enet_coordinate_descent(\n",
      "C:\\Users\\jansl\\anaconda3\\lib\\site-packages\\sklearn\\model_selection\\_validation.py:680: UserWarning: With alpha=0, this algorithm does not converge well. You are advised to use the LinearRegression estimator\n",
      "  estimator.fit(X_train, y_train, **fit_params)\n",
      "C:\\Users\\jansl\\anaconda3\\lib\\site-packages\\sklearn\\linear_model\\_coordinate_descent.py:647: UserWarning: Coordinate descent with no regularization may lead to unexpected results and is discouraged.\n",
      "  model = cd_fast.enet_coordinate_descent(\n"
     ]
    },
    {
     "name": "stdout",
     "output_type": "stream",
     "text": [
      "[CV 5/5; 35/54] END alpha=0.0, l1_ratio=0.99;, score=-490864274.766 total time=   0.3s\n",
      "[CV 1/5; 36/54] START alpha=0.0, l1_ratio=1.....................................\n"
     ]
    },
    {
     "name": "stderr",
     "output_type": "stream",
     "text": [
      "C:\\Users\\jansl\\anaconda3\\lib\\site-packages\\sklearn\\linear_model\\_coordinate_descent.py:647: ConvergenceWarning: Objective did not converge. You might want to increase the number of iterations, check the scale of the features or consider increasing regularisation. Duality gap: 3.903e+11, tolerance: 1.302e+09 Linear regression models with null weight for the l1 regularization term are more efficiently fitted using one of the solvers implemented in sklearn.linear_model.Ridge/RidgeCV instead.\n",
      "  model = cd_fast.enet_coordinate_descent(\n",
      "C:\\Users\\jansl\\anaconda3\\lib\\site-packages\\sklearn\\model_selection\\_validation.py:680: UserWarning: With alpha=0, this algorithm does not converge well. You are advised to use the LinearRegression estimator\n",
      "  estimator.fit(X_train, y_train, **fit_params)\n",
      "C:\\Users\\jansl\\anaconda3\\lib\\site-packages\\sklearn\\linear_model\\_coordinate_descent.py:647: UserWarning: Coordinate descent with no regularization may lead to unexpected results and is discouraged.\n",
      "  model = cd_fast.enet_coordinate_descent(\n"
     ]
    },
    {
     "name": "stdout",
     "output_type": "stream",
     "text": [
      "[CV 1/5; 36/54] END alpha=0.0, l1_ratio=1;, score=-418614025649241.062 total time=   0.3s\n",
      "[CV 2/5; 36/54] START alpha=0.0, l1_ratio=1.....................................\n"
     ]
    },
    {
     "name": "stderr",
     "output_type": "stream",
     "text": [
      "C:\\Users\\jansl\\anaconda3\\lib\\site-packages\\sklearn\\linear_model\\_coordinate_descent.py:647: ConvergenceWarning: Objective did not converge. You might want to increase the number of iterations, check the scale of the features or consider increasing regularisation. Duality gap: 3.783e+11, tolerance: 1.278e+09 Linear regression models with null weight for the l1 regularization term are more efficiently fitted using one of the solvers implemented in sklearn.linear_model.Ridge/RidgeCV instead.\n",
      "  model = cd_fast.enet_coordinate_descent(\n",
      "C:\\Users\\jansl\\anaconda3\\lib\\site-packages\\sklearn\\model_selection\\_validation.py:680: UserWarning: With alpha=0, this algorithm does not converge well. You are advised to use the LinearRegression estimator\n",
      "  estimator.fit(X_train, y_train, **fit_params)\n",
      "C:\\Users\\jansl\\anaconda3\\lib\\site-packages\\sklearn\\linear_model\\_coordinate_descent.py:647: UserWarning: Coordinate descent with no regularization may lead to unexpected results and is discouraged.\n",
      "  model = cd_fast.enet_coordinate_descent(\n"
     ]
    },
    {
     "name": "stdout",
     "output_type": "stream",
     "text": [
      "[CV 2/5; 36/54] END alpha=0.0, l1_ratio=1;, score=-4101905834709.778 total time=   0.3s\n",
      "[CV 3/5; 36/54] START alpha=0.0, l1_ratio=1.....................................\n"
     ]
    },
    {
     "name": "stderr",
     "output_type": "stream",
     "text": [
      "C:\\Users\\jansl\\anaconda3\\lib\\site-packages\\sklearn\\linear_model\\_coordinate_descent.py:647: ConvergenceWarning: Objective did not converge. You might want to increase the number of iterations, check the scale of the features or consider increasing regularisation. Duality gap: 3.886e+11, tolerance: 1.358e+09 Linear regression models with null weight for the l1 regularization term are more efficiently fitted using one of the solvers implemented in sklearn.linear_model.Ridge/RidgeCV instead.\n",
      "  model = cd_fast.enet_coordinate_descent(\n",
      "C:\\Users\\jansl\\anaconda3\\lib\\site-packages\\sklearn\\model_selection\\_validation.py:680: UserWarning: With alpha=0, this algorithm does not converge well. You are advised to use the LinearRegression estimator\n",
      "  estimator.fit(X_train, y_train, **fit_params)\n",
      "C:\\Users\\jansl\\anaconda3\\lib\\site-packages\\sklearn\\linear_model\\_coordinate_descent.py:647: UserWarning: Coordinate descent with no regularization may lead to unexpected results and is discouraged.\n",
      "  model = cd_fast.enet_coordinate_descent(\n"
     ]
    },
    {
     "name": "stdout",
     "output_type": "stream",
     "text": [
      "[CV 3/5; 36/54] END alpha=0.0, l1_ratio=1;, score=-20922667219432.914 total time=   0.2s\n",
      "[CV 4/5; 36/54] START alpha=0.0, l1_ratio=1.....................................\n"
     ]
    },
    {
     "name": "stderr",
     "output_type": "stream",
     "text": [
      "C:\\Users\\jansl\\anaconda3\\lib\\site-packages\\sklearn\\linear_model\\_coordinate_descent.py:647: ConvergenceWarning: Objective did not converge. You might want to increase the number of iterations, check the scale of the features or consider increasing regularisation. Duality gap: 3.458e+11, tolerance: 1.265e+09 Linear regression models with null weight for the l1 regularization term are more efficiently fitted using one of the solvers implemented in sklearn.linear_model.Ridge/RidgeCV instead.\n",
      "  model = cd_fast.enet_coordinate_descent(\n",
      "C:\\Users\\jansl\\anaconda3\\lib\\site-packages\\sklearn\\model_selection\\_validation.py:680: UserWarning: With alpha=0, this algorithm does not converge well. You are advised to use the LinearRegression estimator\n",
      "  estimator.fit(X_train, y_train, **fit_params)\n",
      "C:\\Users\\jansl\\anaconda3\\lib\\site-packages\\sklearn\\linear_model\\_coordinate_descent.py:647: UserWarning: Coordinate descent with no regularization may lead to unexpected results and is discouraged.\n",
      "  model = cd_fast.enet_coordinate_descent(\n"
     ]
    },
    {
     "name": "stdout",
     "output_type": "stream",
     "text": [
      "[CV 4/5; 36/54] END alpha=0.0, l1_ratio=1;, score=-620552377.861 total time=   0.2s\n",
      "[CV 5/5; 36/54] START alpha=0.0, l1_ratio=1.....................................\n"
     ]
    },
    {
     "name": "stderr",
     "output_type": "stream",
     "text": [
      "C:\\Users\\jansl\\anaconda3\\lib\\site-packages\\sklearn\\linear_model\\_coordinate_descent.py:647: ConvergenceWarning: Objective did not converge. You might want to increase the number of iterations, check the scale of the features or consider increasing regularisation. Duality gap: 3.867e+11, tolerance: 1.277e+09 Linear regression models with null weight for the l1 regularization term are more efficiently fitted using one of the solvers implemented in sklearn.linear_model.Ridge/RidgeCV instead.\n",
      "  model = cd_fast.enet_coordinate_descent(\n"
     ]
    },
    {
     "name": "stdout",
     "output_type": "stream",
     "text": [
      "[CV 5/5; 36/54] END alpha=0.0, l1_ratio=1;, score=-490864274.766 total time=   0.3s\n",
      "[CV 1/5; 37/54] START alpha=1.0, l1_ratio=0.....................................\n"
     ]
    },
    {
     "name": "stderr",
     "output_type": "stream",
     "text": [
      "C:\\Users\\jansl\\anaconda3\\lib\\site-packages\\sklearn\\linear_model\\_coordinate_descent.py:647: ConvergenceWarning: Objective did not converge. You might want to increase the number of iterations, check the scale of the features or consider increasing regularisation. Duality gap: 1.233e+12, tolerance: 1.302e+09 Linear regression models with null weight for the l1 regularization term are more efficiently fitted using one of the solvers implemented in sklearn.linear_model.Ridge/RidgeCV instead.\n",
      "  model = cd_fast.enet_coordinate_descent(\n"
     ]
    },
    {
     "name": "stdout",
     "output_type": "stream",
     "text": [
      "[CV 1/5; 37/54] END alpha=1.0, l1_ratio=0;, score=-629638527.321 total time=   0.3s\n",
      "[CV 2/5; 37/54] START alpha=1.0, l1_ratio=0.....................................\n"
     ]
    },
    {
     "name": "stderr",
     "output_type": "stream",
     "text": [
      "C:\\Users\\jansl\\anaconda3\\lib\\site-packages\\sklearn\\linear_model\\_coordinate_descent.py:647: ConvergenceWarning: Objective did not converge. You might want to increase the number of iterations, check the scale of the features or consider increasing regularisation. Duality gap: 1.215e+12, tolerance: 1.278e+09 Linear regression models with null weight for the l1 regularization term are more efficiently fitted using one of the solvers implemented in sklearn.linear_model.Ridge/RidgeCV instead.\n",
      "  model = cd_fast.enet_coordinate_descent(\n"
     ]
    },
    {
     "name": "stdout",
     "output_type": "stream",
     "text": [
      "[CV 2/5; 37/54] END alpha=1.0, l1_ratio=0;, score=-717167934.321 total time=   0.3s\n",
      "[CV 3/5; 37/54] START alpha=1.0, l1_ratio=0.....................................\n"
     ]
    },
    {
     "name": "stderr",
     "output_type": "stream",
     "text": [
      "C:\\Users\\jansl\\anaconda3\\lib\\site-packages\\sklearn\\linear_model\\_coordinate_descent.py:647: ConvergenceWarning: Objective did not converge. You might want to increase the number of iterations, check the scale of the features or consider increasing regularisation. Duality gap: 1.238e+12, tolerance: 1.358e+09 Linear regression models with null weight for the l1 regularization term are more efficiently fitted using one of the solvers implemented in sklearn.linear_model.Ridge/RidgeCV instead.\n",
      "  model = cd_fast.enet_coordinate_descent(\n"
     ]
    },
    {
     "name": "stdout",
     "output_type": "stream",
     "text": [
      "[CV 3/5; 37/54] END alpha=1.0, l1_ratio=0;, score=-595410225.705 total time=   0.3s\n",
      "[CV 4/5; 37/54] START alpha=1.0, l1_ratio=0.....................................\n"
     ]
    },
    {
     "name": "stderr",
     "output_type": "stream",
     "text": [
      "C:\\Users\\jansl\\anaconda3\\lib\\site-packages\\sklearn\\linear_model\\_coordinate_descent.py:647: ConvergenceWarning: Objective did not converge. You might want to increase the number of iterations, check the scale of the features or consider increasing regularisation. Duality gap: 1.162e+12, tolerance: 1.265e+09 Linear regression models with null weight for the l1 regularization term are more efficiently fitted using one of the solvers implemented in sklearn.linear_model.Ridge/RidgeCV instead.\n",
      "  model = cd_fast.enet_coordinate_descent(\n"
     ]
    },
    {
     "name": "stdout",
     "output_type": "stream",
     "text": [
      "[CV 4/5; 37/54] END alpha=1.0, l1_ratio=0;, score=-910462180.532 total time=   0.3s\n",
      "[CV 5/5; 37/54] START alpha=1.0, l1_ratio=0.....................................\n"
     ]
    },
    {
     "name": "stderr",
     "output_type": "stream",
     "text": [
      "C:\\Users\\jansl\\anaconda3\\lib\\site-packages\\sklearn\\linear_model\\_coordinate_descent.py:647: ConvergenceWarning: Objective did not converge. You might want to increase the number of iterations, check the scale of the features or consider increasing regularisation. Duality gap: 1.193e+12, tolerance: 1.277e+09 Linear regression models with null weight for the l1 regularization term are more efficiently fitted using one of the solvers implemented in sklearn.linear_model.Ridge/RidgeCV instead.\n",
      "  model = cd_fast.enet_coordinate_descent(\n"
     ]
    },
    {
     "name": "stdout",
     "output_type": "stream",
     "text": [
      "[CV 5/5; 37/54] END alpha=1.0, l1_ratio=0;, score=-801187185.161 total time=   0.3s\n",
      "[CV 1/5; 38/54] START alpha=1.0, l1_ratio=0.01..................................\n",
      "[CV 1/5; 38/54] END alpha=1.0, l1_ratio=0.01;, score=-627942021.803 total time=   0.0s\n",
      "[CV 2/5; 38/54] START alpha=1.0, l1_ratio=0.01..................................\n",
      "[CV 2/5; 38/54] END alpha=1.0, l1_ratio=0.01;, score=-715093062.876 total time=   0.0s\n",
      "[CV 3/5; 38/54] START alpha=1.0, l1_ratio=0.01..................................\n",
      "[CV 3/5; 38/54] END alpha=1.0, l1_ratio=0.01;, score=-594157528.723 total time=   0.0s\n",
      "[CV 4/5; 38/54] START alpha=1.0, l1_ratio=0.01..................................\n",
      "[CV 4/5; 38/54] END alpha=1.0, l1_ratio=0.01;, score=-907857805.367 total time=   0.0s\n",
      "[CV 5/5; 38/54] START alpha=1.0, l1_ratio=0.01..................................\n",
      "[CV 5/5; 38/54] END alpha=1.0, l1_ratio=0.01;, score=-798538210.136 total time=   0.0s\n",
      "[CV 1/5; 39/54] START alpha=1.0, l1_ratio=0.1...................................\n",
      "[CV 1/5; 39/54] END alpha=1.0, l1_ratio=0.1;, score=-612640838.642 total time=   0.0s\n",
      "[CV 2/5; 39/54] START alpha=1.0, l1_ratio=0.1...................................\n",
      "[CV 2/5; 39/54] END alpha=1.0, l1_ratio=0.1;, score=-696342736.308 total time=   0.0s\n",
      "[CV 3/5; 39/54] START alpha=1.0, l1_ratio=0.1...................................\n",
      "[CV 3/5; 39/54] END alpha=1.0, l1_ratio=0.1;, score=-582831326.065 total time=   0.0s\n",
      "[CV 4/5; 39/54] START alpha=1.0, l1_ratio=0.1...................................\n",
      "[CV 4/5; 39/54] END alpha=1.0, l1_ratio=0.1;, score=-884189161.640 total time=   0.0s\n",
      "[CV 5/5; 39/54] START alpha=1.0, l1_ratio=0.1...................................\n",
      "[CV 5/5; 39/54] END alpha=1.0, l1_ratio=0.1;, score=-774336067.109 total time=   0.0s\n",
      "[CV 1/5; 40/54] START alpha=1.0, l1_ratio=0.7...................................\n",
      "[CV 1/5; 40/54] END alpha=1.0, l1_ratio=0.7;, score=-511695904.512 total time=   0.0s\n",
      "[CV 2/5; 40/54] START alpha=1.0, l1_ratio=0.7...................................\n",
      "[CV 2/5; 40/54] END alpha=1.0, l1_ratio=0.7;, score=-570193052.500 total time=   0.0s\n",
      "[CV 3/5; 40/54] START alpha=1.0, l1_ratio=0.7...................................\n",
      "[CV 3/5; 40/54] END alpha=1.0, l1_ratio=0.7;, score=-504048164.061 total time=   0.0s\n",
      "[CV 4/5; 40/54] START alpha=1.0, l1_ratio=0.7...................................\n",
      "[CV 4/5; 40/54] END alpha=1.0, l1_ratio=0.7;, score=-715075885.355 total time=   0.0s\n",
      "[CV 5/5; 40/54] START alpha=1.0, l1_ratio=0.7...................................\n",
      "[CV 5/5; 40/54] END alpha=1.0, l1_ratio=0.7;, score=-588879941.163 total time=   0.0s\n",
      "[CV 1/5; 41/54] START alpha=1.0, l1_ratio=0.99..................................\n",
      "[CV 1/5; 41/54] END alpha=1.0, l1_ratio=0.99;, score=-485357133.160 total time=   0.2s\n",
      "[CV 2/5; 41/54] START alpha=1.0, l1_ratio=0.99..................................\n",
      "[CV 2/5; 41/54] END alpha=1.0, l1_ratio=0.99;, score=-540491796.532 total time=   0.2s\n",
      "[CV 3/5; 41/54] START alpha=1.0, l1_ratio=0.99..................................\n",
      "[CV 3/5; 41/54] END alpha=1.0, l1_ratio=0.99;, score=-459247654.340 total time=   0.2s\n",
      "[CV 4/5; 41/54] START alpha=1.0, l1_ratio=0.99..................................\n",
      "[CV 4/5; 41/54] END alpha=1.0, l1_ratio=0.99;, score=-629593557.034 total time=   0.2s\n",
      "[CV 5/5; 41/54] START alpha=1.0, l1_ratio=0.99..................................\n",
      "[CV 5/5; 41/54] END alpha=1.0, l1_ratio=0.99;, score=-458982150.982 total time=   0.2s\n",
      "[CV 1/5; 42/54] START alpha=1.0, l1_ratio=1.....................................\n"
     ]
    },
    {
     "name": "stderr",
     "output_type": "stream",
     "text": [
      "C:\\Users\\jansl\\anaconda3\\lib\\site-packages\\sklearn\\linear_model\\_coordinate_descent.py:647: ConvergenceWarning: Objective did not converge. You might want to increase the number of iterations, check the scale of the features or consider increasing regularisation. Duality gap: 2.006e+11, tolerance: 1.302e+09\n",
      "  model = cd_fast.enet_coordinate_descent(\n"
     ]
    },
    {
     "name": "stdout",
     "output_type": "stream",
     "text": [
      "[CV 1/5; 42/54] END alpha=1.0, l1_ratio=1;, score=-494592449.958 total time=   0.3s\n",
      "[CV 2/5; 42/54] START alpha=1.0, l1_ratio=1.....................................\n"
     ]
    },
    {
     "name": "stderr",
     "output_type": "stream",
     "text": [
      "C:\\Users\\jansl\\anaconda3\\lib\\site-packages\\sklearn\\linear_model\\_coordinate_descent.py:647: ConvergenceWarning: Objective did not converge. You might want to increase the number of iterations, check the scale of the features or consider increasing regularisation. Duality gap: 3.292e+11, tolerance: 1.278e+09\n",
      "  model = cd_fast.enet_coordinate_descent(\n"
     ]
    },
    {
     "name": "stdout",
     "output_type": "stream",
     "text": [
      "[CV 2/5; 42/54] END alpha=1.0, l1_ratio=1;, score=-539479183.263 total time=   0.3s\n",
      "[CV 3/5; 42/54] START alpha=1.0, l1_ratio=1.....................................\n"
     ]
    },
    {
     "name": "stderr",
     "output_type": "stream",
     "text": [
      "C:\\Users\\jansl\\anaconda3\\lib\\site-packages\\sklearn\\linear_model\\_coordinate_descent.py:647: ConvergenceWarning: Objective did not converge. You might want to increase the number of iterations, check the scale of the features or consider increasing regularisation. Duality gap: 2.772e+11, tolerance: 1.358e+09\n",
      "  model = cd_fast.enet_coordinate_descent(\n"
     ]
    },
    {
     "name": "stdout",
     "output_type": "stream",
     "text": [
      "[CV 3/5; 42/54] END alpha=1.0, l1_ratio=1;, score=-462234588.343 total time=   0.2s\n",
      "[CV 4/5; 42/54] START alpha=1.0, l1_ratio=1.....................................\n"
     ]
    },
    {
     "name": "stderr",
     "output_type": "stream",
     "text": [
      "C:\\Users\\jansl\\anaconda3\\lib\\site-packages\\sklearn\\linear_model\\_coordinate_descent.py:647: ConvergenceWarning: Objective did not converge. You might want to increase the number of iterations, check the scale of the features or consider increasing regularisation. Duality gap: 2.339e+11, tolerance: 1.265e+09\n",
      "  model = cd_fast.enet_coordinate_descent(\n"
     ]
    },
    {
     "name": "stdout",
     "output_type": "stream",
     "text": [
      "[CV 4/5; 42/54] END alpha=1.0, l1_ratio=1;, score=-620590286.768 total time=   0.3s\n",
      "[CV 5/5; 42/54] START alpha=1.0, l1_ratio=1.....................................\n"
     ]
    },
    {
     "name": "stderr",
     "output_type": "stream",
     "text": [
      "C:\\Users\\jansl\\anaconda3\\lib\\site-packages\\sklearn\\linear_model\\_coordinate_descent.py:647: ConvergenceWarning: Objective did not converge. You might want to increase the number of iterations, check the scale of the features or consider increasing regularisation. Duality gap: 3.396e+11, tolerance: 1.277e+09\n",
      "  model = cd_fast.enet_coordinate_descent(\n"
     ]
    },
    {
     "name": "stdout",
     "output_type": "stream",
     "text": [
      "[CV 5/5; 42/54] END alpha=1.0, l1_ratio=1;, score=-486446804.134 total time=   0.3s\n",
      "[CV 1/5; 43/54] START alpha=10.0, l1_ratio=0....................................\n"
     ]
    },
    {
     "name": "stderr",
     "output_type": "stream",
     "text": [
      "C:\\Users\\jansl\\anaconda3\\lib\\site-packages\\sklearn\\linear_model\\_coordinate_descent.py:647: ConvergenceWarning: Objective did not converge. You might want to increase the number of iterations, check the scale of the features or consider increasing regularisation. Duality gap: 3.429e+12, tolerance: 1.302e+09 Linear regression models with null weight for the l1 regularization term are more efficiently fitted using one of the solvers implemented in sklearn.linear_model.Ridge/RidgeCV instead.\n",
      "  model = cd_fast.enet_coordinate_descent(\n"
     ]
    },
    {
     "name": "stdout",
     "output_type": "stream",
     "text": [
      "[CV 1/5; 43/54] END alpha=10.0, l1_ratio=0;, score=-1846774930.436 total time=   0.3s\n",
      "[CV 2/5; 43/54] START alpha=10.0, l1_ratio=0....................................\n"
     ]
    },
    {
     "name": "stderr",
     "output_type": "stream",
     "text": [
      "C:\\Users\\jansl\\anaconda3\\lib\\site-packages\\sklearn\\linear_model\\_coordinate_descent.py:647: ConvergenceWarning: Objective did not converge. You might want to increase the number of iterations, check the scale of the features or consider increasing regularisation. Duality gap: 3.361e+12, tolerance: 1.278e+09 Linear regression models with null weight for the l1 regularization term are more efficiently fitted using one of the solvers implemented in sklearn.linear_model.Ridge/RidgeCV instead.\n",
      "  model = cd_fast.enet_coordinate_descent(\n"
     ]
    },
    {
     "name": "stdout",
     "output_type": "stream",
     "text": [
      "[CV 2/5; 43/54] END alpha=10.0, l1_ratio=0;, score=-2127528237.075 total time=   0.3s\n",
      "[CV 3/5; 43/54] START alpha=10.0, l1_ratio=0....................................\n"
     ]
    },
    {
     "name": "stderr",
     "output_type": "stream",
     "text": [
      "C:\\Users\\jansl\\anaconda3\\lib\\site-packages\\sklearn\\linear_model\\_coordinate_descent.py:647: ConvergenceWarning: Objective did not converge. You might want to increase the number of iterations, check the scale of the features or consider increasing regularisation. Duality gap: 3.503e+12, tolerance: 1.358e+09 Linear regression models with null weight for the l1 regularization term are more efficiently fitted using one of the solvers implemented in sklearn.linear_model.Ridge/RidgeCV instead.\n",
      "  model = cd_fast.enet_coordinate_descent(\n"
     ]
    },
    {
     "name": "stdout",
     "output_type": "stream",
     "text": [
      "[CV 3/5; 43/54] END alpha=10.0, l1_ratio=0;, score=-1514280396.692 total time=   0.3s\n",
      "[CV 4/5; 43/54] START alpha=10.0, l1_ratio=0....................................\n"
     ]
    },
    {
     "name": "stderr",
     "output_type": "stream",
     "text": [
      "C:\\Users\\jansl\\anaconda3\\lib\\site-packages\\sklearn\\linear_model\\_coordinate_descent.py:647: ConvergenceWarning: Objective did not converge. You might want to increase the number of iterations, check the scale of the features or consider increasing regularisation. Duality gap: 3.287e+12, tolerance: 1.265e+09 Linear regression models with null weight for the l1 regularization term are more efficiently fitted using one of the solvers implemented in sklearn.linear_model.Ridge/RidgeCV instead.\n",
      "  model = cd_fast.enet_coordinate_descent(\n"
     ]
    },
    {
     "name": "stdout",
     "output_type": "stream",
     "text": [
      "[CV 4/5; 43/54] END alpha=10.0, l1_ratio=0;, score=-2419245706.057 total time=   0.3s\n",
      "[CV 5/5; 43/54] START alpha=10.0, l1_ratio=0....................................\n"
     ]
    },
    {
     "name": "stderr",
     "output_type": "stream",
     "text": [
      "C:\\Users\\jansl\\anaconda3\\lib\\site-packages\\sklearn\\linear_model\\_coordinate_descent.py:647: ConvergenceWarning: Objective did not converge. You might want to increase the number of iterations, check the scale of the features or consider increasing regularisation. Duality gap: 3.324e+12, tolerance: 1.277e+09 Linear regression models with null weight for the l1 regularization term are more efficiently fitted using one of the solvers implemented in sklearn.linear_model.Ridge/RidgeCV instead.\n",
      "  model = cd_fast.enet_coordinate_descent(\n"
     ]
    },
    {
     "name": "stdout",
     "output_type": "stream",
     "text": [
      "[CV 5/5; 43/54] END alpha=10.0, l1_ratio=0;, score=-2266560147.937 total time=   0.3s\n",
      "[CV 1/5; 44/54] START alpha=10.0, l1_ratio=0.01.................................\n",
      "[CV 1/5; 44/54] END alpha=10.0, l1_ratio=0.01;, score=-1835930005.552 total time=   0.0s\n",
      "[CV 2/5; 44/54] START alpha=10.0, l1_ratio=0.01.................................\n",
      "[CV 2/5; 44/54] END alpha=10.0, l1_ratio=0.01;, score=-2115498909.260 total time=   0.0s\n",
      "[CV 3/5; 44/54] START alpha=10.0, l1_ratio=0.01.................................\n",
      "[CV 3/5; 44/54] END alpha=10.0, l1_ratio=0.01;, score=-1505835234.349 total time=   0.0s\n",
      "[CV 4/5; 44/54] START alpha=10.0, l1_ratio=0.01.................................\n",
      "[CV 4/5; 44/54] END alpha=10.0, l1_ratio=0.01;, score=-2407192299.218 total time=   0.0s\n",
      "[CV 5/5; 44/54] START alpha=10.0, l1_ratio=0.01.................................\n",
      "[CV 5/5; 44/54] END alpha=10.0, l1_ratio=0.01;, score=-2254823591.814 total time=   0.0s\n",
      "[CV 1/5; 45/54] START alpha=10.0, l1_ratio=0.1..................................\n",
      "[CV 1/5; 45/54] END alpha=10.0, l1_ratio=0.1;, score=-1736046271.673 total time=   0.0s\n",
      "[CV 2/5; 45/54] START alpha=10.0, l1_ratio=0.1..................................\n",
      "[CV 2/5; 45/54] END alpha=10.0, l1_ratio=0.1;, score=-2004341598.225 total time=   0.0s\n",
      "[CV 3/5; 45/54] START alpha=10.0, l1_ratio=0.1..................................\n",
      "[CV 3/5; 45/54] END alpha=10.0, l1_ratio=0.1;, score=-1428243418.700 total time=   0.0s\n",
      "[CV 4/5; 45/54] START alpha=10.0, l1_ratio=0.1..................................\n",
      "[CV 4/5; 45/54] END alpha=10.0, l1_ratio=0.1;, score=-2295597494.367 total time=   0.0s\n",
      "[CV 5/5; 45/54] START alpha=10.0, l1_ratio=0.1..................................\n",
      "[CV 5/5; 45/54] END alpha=10.0, l1_ratio=0.1;, score=-2146233024.108 total time=   0.0s\n",
      "[CV 1/5; 46/54] START alpha=10.0, l1_ratio=0.7..................................\n",
      "[CV 1/5; 46/54] END alpha=10.0, l1_ratio=0.7;, score=-950212401.144 total time=   0.0s\n",
      "[CV 2/5; 46/54] START alpha=10.0, l1_ratio=0.7..................................\n",
      "[CV 2/5; 46/54] END alpha=10.0, l1_ratio=0.7;, score=-1101998790.674 total time=   0.0s\n",
      "[CV 3/5; 46/54] START alpha=10.0, l1_ratio=0.7..................................\n",
      "[CV 3/5; 46/54] END alpha=10.0, l1_ratio=0.7;, score=-831290883.903 total time=   0.0s\n",
      "[CV 4/5; 46/54] START alpha=10.0, l1_ratio=0.7..................................\n",
      "[CV 4/5; 46/54] END alpha=10.0, l1_ratio=0.7;, score=-1358444266.066 total time=   0.0s\n",
      "[CV 5/5; 46/54] START alpha=10.0, l1_ratio=0.7..................................\n",
      "[CV 5/5; 46/54] END alpha=10.0, l1_ratio=0.7;, score=-1239574509.266 total time=   0.0s\n",
      "[CV 1/5; 47/54] START alpha=10.0, l1_ratio=0.99.................................\n",
      "[CV 1/5; 47/54] END alpha=10.0, l1_ratio=0.99;, score=-482957610.344 total time=   0.0s\n",
      "[CV 2/5; 47/54] START alpha=10.0, l1_ratio=0.99.................................\n",
      "[CV 2/5; 47/54] END alpha=10.0, l1_ratio=0.99;, score=-535183445.746 total time=   0.0s\n",
      "[CV 3/5; 47/54] START alpha=10.0, l1_ratio=0.99.................................\n",
      "[CV 3/5; 47/54] END alpha=10.0, l1_ratio=0.99;, score=-473884246.288 total time=   0.0s\n",
      "[CV 4/5; 47/54] START alpha=10.0, l1_ratio=0.99.................................\n",
      "[CV 4/5; 47/54] END alpha=10.0, l1_ratio=0.99;, score=-654339251.783 total time=   0.0s\n",
      "[CV 5/5; 47/54] START alpha=10.0, l1_ratio=0.99.................................\n",
      "[CV 5/5; 47/54] END alpha=10.0, l1_ratio=0.99;, score=-507721562.846 total time=   0.0s\n",
      "[CV 1/5; 48/54] START alpha=10.0, l1_ratio=1....................................\n",
      "[CV 1/5; 48/54] END alpha=10.0, l1_ratio=1;, score=-483451965.056 total time=   0.2s\n",
      "[CV 2/5; 48/54] START alpha=10.0, l1_ratio=1....................................\n"
     ]
    },
    {
     "name": "stderr",
     "output_type": "stream",
     "text": [
      "C:\\Users\\jansl\\anaconda3\\lib\\site-packages\\sklearn\\linear_model\\_coordinate_descent.py:647: ConvergenceWarning: Objective did not converge. You might want to increase the number of iterations, check the scale of the features or consider increasing regularisation. Duality gap: 2.034e+10, tolerance: 1.278e+09\n",
      "  model = cd_fast.enet_coordinate_descent(\n"
     ]
    },
    {
     "name": "stdout",
     "output_type": "stream",
     "text": [
      "[CV 2/5; 48/54] END alpha=10.0, l1_ratio=1;, score=-538711645.379 total time=   0.2s\n",
      "[CV 3/5; 48/54] START alpha=10.0, l1_ratio=1....................................\n",
      "[CV 3/5; 48/54] END alpha=10.0, l1_ratio=1;, score=-459560243.925 total time=   0.2s\n",
      "[CV 4/5; 48/54] START alpha=10.0, l1_ratio=1....................................\n"
     ]
    },
    {
     "name": "stderr",
     "output_type": "stream",
     "text": [
      "C:\\Users\\jansl\\anaconda3\\lib\\site-packages\\sklearn\\linear_model\\_coordinate_descent.py:647: ConvergenceWarning: Objective did not converge. You might want to increase the number of iterations, check the scale of the features or consider increasing regularisation. Duality gap: 3.598e+09, tolerance: 1.265e+09\n",
      "  model = cd_fast.enet_coordinate_descent(\n"
     ]
    },
    {
     "name": "stdout",
     "output_type": "stream",
     "text": [
      "[CV 4/5; 48/54] END alpha=10.0, l1_ratio=1;, score=-624299889.140 total time=   0.2s\n",
      "[CV 5/5; 48/54] START alpha=10.0, l1_ratio=1....................................\n"
     ]
    },
    {
     "name": "stderr",
     "output_type": "stream",
     "text": [
      "C:\\Users\\jansl\\anaconda3\\lib\\site-packages\\sklearn\\linear_model\\_coordinate_descent.py:647: ConvergenceWarning: Objective did not converge. You might want to increase the number of iterations, check the scale of the features or consider increasing regularisation. Duality gap: 5.841e+10, tolerance: 1.277e+09\n",
      "  model = cd_fast.enet_coordinate_descent(\n"
     ]
    },
    {
     "name": "stdout",
     "output_type": "stream",
     "text": [
      "[CV 5/5; 48/54] END alpha=10.0, l1_ratio=1;, score=-462872034.651 total time=   0.2s\n",
      "[CV 1/5; 49/54] START alpha=100.0, l1_ratio=0...................................\n"
     ]
    },
    {
     "name": "stderr",
     "output_type": "stream",
     "text": [
      "C:\\Users\\jansl\\anaconda3\\lib\\site-packages\\sklearn\\linear_model\\_coordinate_descent.py:647: ConvergenceWarning: Objective did not converge. You might want to increase the number of iterations, check the scale of the features or consider increasing regularisation. Duality gap: 5.846e+12, tolerance: 1.302e+09 Linear regression models with null weight for the l1 regularization term are more efficiently fitted using one of the solvers implemented in sklearn.linear_model.Ridge/RidgeCV instead.\n",
      "  model = cd_fast.enet_coordinate_descent(\n"
     ]
    },
    {
     "name": "stdout",
     "output_type": "stream",
     "text": [
      "[CV 1/5; 49/54] END alpha=100.0, l1_ratio=0;, score=-4829835371.839 total time=   0.3s\n",
      "[CV 2/5; 49/54] START alpha=100.0, l1_ratio=0...................................\n"
     ]
    },
    {
     "name": "stderr",
     "output_type": "stream",
     "text": [
      "C:\\Users\\jansl\\anaconda3\\lib\\site-packages\\sklearn\\linear_model\\_coordinate_descent.py:647: ConvergenceWarning: Objective did not converge. You might want to increase the number of iterations, check the scale of the features or consider increasing regularisation. Duality gap: 5.732e+12, tolerance: 1.278e+09 Linear regression models with null weight for the l1 regularization term are more efficiently fitted using one of the solvers implemented in sklearn.linear_model.Ridge/RidgeCV instead.\n",
      "  model = cd_fast.enet_coordinate_descent(\n"
     ]
    },
    {
     "name": "stdout",
     "output_type": "stream",
     "text": [
      "[CV 2/5; 49/54] END alpha=100.0, l1_ratio=0;, score=-5270531082.978 total time=   0.2s\n",
      "[CV 3/5; 49/54] START alpha=100.0, l1_ratio=0...................................\n"
     ]
    },
    {
     "name": "stderr",
     "output_type": "stream",
     "text": [
      "C:\\Users\\jansl\\anaconda3\\lib\\site-packages\\sklearn\\linear_model\\_coordinate_descent.py:647: ConvergenceWarning: Objective did not converge. You might want to increase the number of iterations, check the scale of the features or consider increasing regularisation. Duality gap: 6.069e+12, tolerance: 1.358e+09 Linear regression models with null weight for the l1 regularization term are more efficiently fitted using one of the solvers implemented in sklearn.linear_model.Ridge/RidgeCV instead.\n",
      "  model = cd_fast.enet_coordinate_descent(\n"
     ]
    },
    {
     "name": "stdout",
     "output_type": "stream",
     "text": [
      "[CV 3/5; 49/54] END alpha=100.0, l1_ratio=0;, score=-3953576973.803 total time=   0.2s\n",
      "[CV 4/5; 49/54] START alpha=100.0, l1_ratio=0...................................\n"
     ]
    },
    {
     "name": "stderr",
     "output_type": "stream",
     "text": [
      "C:\\Users\\jansl\\anaconda3\\lib\\site-packages\\sklearn\\linear_model\\_coordinate_descent.py:647: ConvergenceWarning: Objective did not converge. You might want to increase the number of iterations, check the scale of the features or consider increasing regularisation. Duality gap: 5.665e+12, tolerance: 1.265e+09 Linear regression models with null weight for the l1 regularization term are more efficiently fitted using one of the solvers implemented in sklearn.linear_model.Ridge/RidgeCV instead.\n",
      "  model = cd_fast.enet_coordinate_descent(\n"
     ]
    },
    {
     "name": "stdout",
     "output_type": "stream",
     "text": [
      "[CV 4/5; 49/54] END alpha=100.0, l1_ratio=0;, score=-5530869756.611 total time=   0.2s\n",
      "[CV 5/5; 49/54] START alpha=100.0, l1_ratio=0...................................\n"
     ]
    },
    {
     "name": "stderr",
     "output_type": "stream",
     "text": [
      "C:\\Users\\jansl\\anaconda3\\lib\\site-packages\\sklearn\\linear_model\\_coordinate_descent.py:647: ConvergenceWarning: Objective did not converge. You might want to increase the number of iterations, check the scale of the features or consider increasing regularisation. Duality gap: 5.718e+12, tolerance: 1.277e+09 Linear regression models with null weight for the l1 regularization term are more efficiently fitted using one of the solvers implemented in sklearn.linear_model.Ridge/RidgeCV instead.\n",
      "  model = cd_fast.enet_coordinate_descent(\n"
     ]
    },
    {
     "name": "stdout",
     "output_type": "stream",
     "text": [
      "[CV 5/5; 49/54] END alpha=100.0, l1_ratio=0;, score=-5326739962.510 total time=   0.2s\n",
      "[CV 1/5; 50/54] START alpha=100.0, l1_ratio=0.01................................\n",
      "[CV 1/5; 50/54] END alpha=100.0, l1_ratio=0.01;, score=-4820131313.878 total time=   0.0s\n",
      "[CV 2/5; 50/54] START alpha=100.0, l1_ratio=0.01................................\n",
      "[CV 2/5; 50/54] END alpha=100.0, l1_ratio=0.01;, score=-5260601343.035 total time=   0.0s\n",
      "[CV 3/5; 50/54] START alpha=100.0, l1_ratio=0.01................................\n",
      "[CV 3/5; 50/54] END alpha=100.0, l1_ratio=0.01;, score=-3945338786.713 total time=   0.0s\n",
      "[CV 4/5; 50/54] START alpha=100.0, l1_ratio=0.01................................\n",
      "[CV 4/5; 50/54] END alpha=100.0, l1_ratio=0.01;, score=-5521045528.538 total time=   0.0s\n",
      "[CV 5/5; 50/54] START alpha=100.0, l1_ratio=0.01................................\n",
      "[CV 5/5; 50/54] END alpha=100.0, l1_ratio=0.01;, score=-5317016166.574 total time=   0.0s\n",
      "[CV 1/5; 51/54] START alpha=100.0, l1_ratio=0.1.................................\n",
      "[CV 1/5; 51/54] END alpha=100.0, l1_ratio=0.1;, score=-4725216929.439 total time=   0.0s\n",
      "[CV 2/5; 51/54] START alpha=100.0, l1_ratio=0.1.................................\n",
      "[CV 2/5; 51/54] END alpha=100.0, l1_ratio=0.1;, score=-5163425266.356 total time=   0.0s\n",
      "[CV 3/5; 51/54] START alpha=100.0, l1_ratio=0.1.................................\n",
      "[CV 3/5; 51/54] END alpha=100.0, l1_ratio=0.1;, score=-3864849088.746 total time=   0.0s\n",
      "[CV 4/5; 51/54] START alpha=100.0, l1_ratio=0.1.................................\n",
      "[CV 4/5; 51/54] END alpha=100.0, l1_ratio=0.1;, score=-5424909793.131 total time=   0.0s\n",
      "[CV 5/5; 51/54] START alpha=100.0, l1_ratio=0.1.................................\n",
      "[CV 5/5; 51/54] END alpha=100.0, l1_ratio=0.1;, score=-5221876330.629 total time=   0.0s\n",
      "[CV 1/5; 52/54] START alpha=100.0, l1_ratio=0.7.................................\n",
      "[CV 1/5; 52/54] END alpha=100.0, l1_ratio=0.7;, score=-3313171519.738 total time=   0.0s\n",
      "[CV 2/5; 52/54] START alpha=100.0, l1_ratio=0.7.................................\n",
      "[CV 2/5; 52/54] END alpha=100.0, l1_ratio=0.7;, score=-3702187299.807 total time=   0.0s\n",
      "[CV 3/5; 52/54] START alpha=100.0, l1_ratio=0.7.................................\n",
      "[CV 3/5; 52/54] END alpha=100.0, l1_ratio=0.7;, score=-2687648655.974 total time=   0.0s\n",
      "[CV 4/5; 52/54] START alpha=100.0, l1_ratio=0.7.................................\n",
      "[CV 4/5; 52/54] END alpha=100.0, l1_ratio=0.7;, score=-3980692010.083 total time=   0.0s\n",
      "[CV 5/5; 52/54] START alpha=100.0, l1_ratio=0.7.................................\n",
      "[CV 5/5; 52/54] END alpha=100.0, l1_ratio=0.7;, score=-3796070345.432 total time=   0.0s\n",
      "[CV 1/5; 53/54] START alpha=100.0, l1_ratio=0.99................................\n",
      "[CV 1/5; 53/54] END alpha=100.0, l1_ratio=0.99;, score=-632283716.300 total time=   0.0s\n",
      "[CV 2/5; 53/54] START alpha=100.0, l1_ratio=0.99................................\n",
      "[CV 2/5; 53/54] END alpha=100.0, l1_ratio=0.99;, score=-724462555.520 total time=   0.0s\n",
      "[CV 3/5; 53/54] START alpha=100.0, l1_ratio=0.99................................\n",
      "[CV 3/5; 53/54] END alpha=100.0, l1_ratio=0.99;, score=-598499593.991 total time=   0.0s\n",
      "[CV 4/5; 53/54] START alpha=100.0, l1_ratio=0.99................................\n",
      "[CV 4/5; 53/54] END alpha=100.0, l1_ratio=0.99;, score=-917995805.681 total time=   0.0s\n",
      "[CV 5/5; 53/54] START alpha=100.0, l1_ratio=0.99................................\n",
      "[CV 5/5; 53/54] END alpha=100.0, l1_ratio=0.99;, score=-807551289.356 total time=   0.0s\n",
      "[CV 1/5; 54/54] START alpha=100.0, l1_ratio=1...................................\n",
      "[CV 1/5; 54/54] END alpha=100.0, l1_ratio=1;, score=-471984970.944 total time=   0.1s\n",
      "[CV 2/5; 54/54] START alpha=100.0, l1_ratio=1...................................\n",
      "[CV 2/5; 54/54] END alpha=100.0, l1_ratio=1;, score=-524547714.167 total time=   0.1s\n",
      "[CV 3/5; 54/54] START alpha=100.0, l1_ratio=1...................................\n",
      "[CV 3/5; 54/54] END alpha=100.0, l1_ratio=1;, score=-450765678.161 total time=   0.1s\n",
      "[CV 4/5; 54/54] START alpha=100.0, l1_ratio=1...................................\n",
      "[CV 4/5; 54/54] END alpha=100.0, l1_ratio=1;, score=-618675718.364 total time=   0.1s\n",
      "[CV 5/5; 54/54] START alpha=100.0, l1_ratio=1...................................\n",
      "[CV 5/5; 54/54] END alpha=100.0, l1_ratio=1;, score=-449932283.854 total time=   0.1s\n"
     ]
    },
    {
     "data": {
      "text/plain": [
       "GridSearchCV(cv=5, estimator=ElasticNet(),\n",
       "             param_grid={'alpha': [1e-05, 0.0001, 0.001, 0.01, 0.1, 0.0, 1.0,\n",
       "                                   10.0, 100.0],\n",
       "                         'l1_ratio': [0, 0.01, 0.1, 0.7, 0.99, 1]},\n",
       "             scoring='neg_mean_squared_error', verbose=10)"
      ]
     },
     "execution_count": 12,
     "metadata": {},
     "output_type": "execute_result"
    }
   ],
   "source": [
    "grid.fit(X_train, y_train)"
   ]
  },
  {
   "cell_type": "markdown",
   "id": "8c130b6a",
   "metadata": {},
   "source": [
    "### Combinantion of best parameters for model."
   ]
  },
  {
   "cell_type": "code",
   "execution_count": 16,
   "id": "f989e157",
   "metadata": {},
   "outputs": [
    {
     "data": {
      "text/plain": [
       "{'alpha': 100.0, 'l1_ratio': 1}"
      ]
     },
     "execution_count": 16,
     "metadata": {},
     "output_type": "execute_result"
    }
   ],
   "source": [
    "grid.best_params_"
   ]
  },
  {
   "cell_type": "markdown",
   "id": "02113822",
   "metadata": {},
   "source": [
    "### Counting Predictions"
   ]
  },
  {
   "cell_type": "code",
   "execution_count": 17,
   "id": "8953060c",
   "metadata": {},
   "outputs": [],
   "source": [
    "y_pred = grid.predict(X_test)"
   ]
  },
  {
   "cell_type": "markdown",
   "id": "8367cd46",
   "metadata": {},
   "source": [
    "***\n",
    "## 3. Evaluating model performance using Mean Absolute Error (MAE), Mean Squared Error (MSE) and Root Mean Squared Error (RMSE)."
   ]
  },
  {
   "cell_type": "markdown",
   "id": "d7ec4c83",
   "metadata": {},
   "source": [
    "### Mean Absolute Error"
   ]
  },
  {
   "cell_type": "code",
   "execution_count": 19,
   "id": "943eeb09",
   "metadata": {},
   "outputs": [
    {
     "data": {
      "text/plain": [
       "15089.703814913779"
      ]
     },
     "execution_count": 19,
     "metadata": {},
     "output_type": "execute_result"
    }
   ],
   "source": [
    "MAE = mean_absolute_error(y_test, y_pred)\n",
    "MAE"
   ]
  },
  {
   "cell_type": "markdown",
   "id": "fc2f48ea",
   "metadata": {},
   "source": [
    "### Mean Squred Error"
   ]
  },
  {
   "cell_type": "code",
   "execution_count": 21,
   "id": "5b061f08",
   "metadata": {},
   "outputs": [
    {
     "data": {
      "text/plain": [
       "517808467.22300994"
      ]
     },
     "execution_count": 21,
     "metadata": {},
     "output_type": "execute_result"
    }
   ],
   "source": [
    "MSE = mean_squared_error(y_test, y_pred)\n",
    "MSE"
   ]
  },
  {
   "cell_type": "markdown",
   "id": "839f90ba",
   "metadata": {},
   "source": [
    "### Root Mean Squared Error"
   ]
  },
  {
   "cell_type": "code",
   "execution_count": 23,
   "id": "9c7a7110",
   "metadata": {},
   "outputs": [
    {
     "data": {
      "text/plain": [
       "22755.40523091184"
      ]
     },
     "execution_count": 23,
     "metadata": {},
     "output_type": "execute_result"
    }
   ],
   "source": [
    "RMSE = np.sqrt(MSE)\n",
    "RMSE"
   ]
  },
  {
   "cell_type": "markdown",
   "id": "60cc2ec6",
   "metadata": {},
   "source": [
    "### Saving the model"
   ]
  },
  {
   "cell_type": "code",
   "execution_count": 24,
   "id": "7e04dd0c",
   "metadata": {},
   "outputs": [
    {
     "data": {
      "text/plain": [
       "['house_sell_price_model.joblib']"
      ]
     },
     "execution_count": 24,
     "metadata": {},
     "output_type": "execute_result"
    }
   ],
   "source": [
    "dump(grid, 'house_sell_price_model.joblib') "
   ]
  }
 ],
 "metadata": {
  "kernelspec": {
   "display_name": "Python 3 (ipykernel)",
   "language": "python",
   "name": "python3"
  },
  "language_info": {
   "codemirror_mode": {
    "name": "ipython",
    "version": 3
   },
   "file_extension": ".py",
   "mimetype": "text/x-python",
   "name": "python",
   "nbconvert_exporter": "python",
   "pygments_lexer": "ipython3",
   "version": "3.9.12"
  }
 },
 "nbformat": 4,
 "nbformat_minor": 5
}
