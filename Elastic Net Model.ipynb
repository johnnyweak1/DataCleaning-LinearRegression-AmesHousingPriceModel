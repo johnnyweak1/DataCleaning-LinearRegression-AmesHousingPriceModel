{
 "cells": [
  {
   "cell_type": "markdown",
   "id": "8d46f7c7",
   "metadata": {},
   "source": [
    "# Creating Elastic Net model of Ames Housing Data."
   ]
  },
  {
   "cell_type": "markdown",
   "id": "a0f03011",
   "metadata": {},
   "source": [
    "***\n",
    "## 1. Preparation\n",
    "### Importing necessary libraries and functions."
   ]
  },
  {
   "cell_type": "code",
   "execution_count": 1,
   "id": "91c430a3",
   "metadata": {},
   "outputs": [],
   "source": [
    "import numpy as np\n",
    "import pandas as pd\n",
    "from sklearn.model_selection import train_test_split, GridSearchCV\n",
    "from sklearn.preprocessing import StandardScaler\n",
    "from sklearn.linear_model import ElasticNet\n",
    "from sklearn.metrics import mean_absolute_error, mean_squared_error\n",
    "from joblib import dump\n",
    "import warnings"
   ]
  },
  {
   "cell_type": "markdown",
   "id": "24ae34d0",
   "metadata": {},
   "source": [
    "### Reading the data."
   ]
  },
  {
   "cell_type": "code",
   "execution_count": 2,
   "id": "29abec4a",
   "metadata": {},
   "outputs": [],
   "source": [
    "df = pd.read_csv(\"AMES_final_data.csv\")"
   ]
  },
  {
   "cell_type": "markdown",
   "id": "6d467bb9",
   "metadata": {},
   "source": [
    "### First five rows in DataFrame."
   ]
  },
  {
   "cell_type": "code",
   "execution_count": 3,
   "id": "867d63f7",
   "metadata": {},
   "outputs": [
    {
     "data": {
      "text/html": [
       "<div>\n",
       "<style scoped>\n",
       "    .dataframe tbody tr th:only-of-type {\n",
       "        vertical-align: middle;\n",
       "    }\n",
       "\n",
       "    .dataframe tbody tr th {\n",
       "        vertical-align: top;\n",
       "    }\n",
       "\n",
       "    .dataframe thead th {\n",
       "        text-align: right;\n",
       "    }\n",
       "</style>\n",
       "<table border=\"1\" class=\"dataframe\">\n",
       "  <thead>\n",
       "    <tr style=\"text-align: right;\">\n",
       "      <th></th>\n",
       "      <th>Lot Frontage</th>\n",
       "      <th>Lot Area</th>\n",
       "      <th>Overall Qual</th>\n",
       "      <th>Overall Cond</th>\n",
       "      <th>Year Built</th>\n",
       "      <th>Year Remod/Add</th>\n",
       "      <th>Mas Vnr Area</th>\n",
       "      <th>BsmtFin SF 1</th>\n",
       "      <th>BsmtFin SF 2</th>\n",
       "      <th>Bsmt Unf SF</th>\n",
       "      <th>...</th>\n",
       "      <th>Sale Type_ConLw</th>\n",
       "      <th>Sale Type_New</th>\n",
       "      <th>Sale Type_Oth</th>\n",
       "      <th>Sale Type_VWD</th>\n",
       "      <th>Sale Type_WD</th>\n",
       "      <th>Sale Condition_AdjLand</th>\n",
       "      <th>Sale Condition_Alloca</th>\n",
       "      <th>Sale Condition_Family</th>\n",
       "      <th>Sale Condition_Normal</th>\n",
       "      <th>Sale Condition_Partial</th>\n",
       "    </tr>\n",
       "  </thead>\n",
       "  <tbody>\n",
       "    <tr>\n",
       "      <th>0</th>\n",
       "      <td>141.0</td>\n",
       "      <td>31770</td>\n",
       "      <td>6</td>\n",
       "      <td>5</td>\n",
       "      <td>1960</td>\n",
       "      <td>1960</td>\n",
       "      <td>112.0</td>\n",
       "      <td>639.0</td>\n",
       "      <td>0.0</td>\n",
       "      <td>441.0</td>\n",
       "      <td>...</td>\n",
       "      <td>0</td>\n",
       "      <td>0</td>\n",
       "      <td>0</td>\n",
       "      <td>0</td>\n",
       "      <td>1</td>\n",
       "      <td>0</td>\n",
       "      <td>0</td>\n",
       "      <td>0</td>\n",
       "      <td>1</td>\n",
       "      <td>0</td>\n",
       "    </tr>\n",
       "    <tr>\n",
       "      <th>1</th>\n",
       "      <td>80.0</td>\n",
       "      <td>11622</td>\n",
       "      <td>5</td>\n",
       "      <td>6</td>\n",
       "      <td>1961</td>\n",
       "      <td>1961</td>\n",
       "      <td>0.0</td>\n",
       "      <td>468.0</td>\n",
       "      <td>144.0</td>\n",
       "      <td>270.0</td>\n",
       "      <td>...</td>\n",
       "      <td>0</td>\n",
       "      <td>0</td>\n",
       "      <td>0</td>\n",
       "      <td>0</td>\n",
       "      <td>1</td>\n",
       "      <td>0</td>\n",
       "      <td>0</td>\n",
       "      <td>0</td>\n",
       "      <td>1</td>\n",
       "      <td>0</td>\n",
       "    </tr>\n",
       "    <tr>\n",
       "      <th>2</th>\n",
       "      <td>81.0</td>\n",
       "      <td>14267</td>\n",
       "      <td>6</td>\n",
       "      <td>6</td>\n",
       "      <td>1958</td>\n",
       "      <td>1958</td>\n",
       "      <td>108.0</td>\n",
       "      <td>923.0</td>\n",
       "      <td>0.0</td>\n",
       "      <td>406.0</td>\n",
       "      <td>...</td>\n",
       "      <td>0</td>\n",
       "      <td>0</td>\n",
       "      <td>0</td>\n",
       "      <td>0</td>\n",
       "      <td>1</td>\n",
       "      <td>0</td>\n",
       "      <td>0</td>\n",
       "      <td>0</td>\n",
       "      <td>1</td>\n",
       "      <td>0</td>\n",
       "    </tr>\n",
       "    <tr>\n",
       "      <th>3</th>\n",
       "      <td>93.0</td>\n",
       "      <td>11160</td>\n",
       "      <td>7</td>\n",
       "      <td>5</td>\n",
       "      <td>1968</td>\n",
       "      <td>1968</td>\n",
       "      <td>0.0</td>\n",
       "      <td>1065.0</td>\n",
       "      <td>0.0</td>\n",
       "      <td>1045.0</td>\n",
       "      <td>...</td>\n",
       "      <td>0</td>\n",
       "      <td>0</td>\n",
       "      <td>0</td>\n",
       "      <td>0</td>\n",
       "      <td>1</td>\n",
       "      <td>0</td>\n",
       "      <td>0</td>\n",
       "      <td>0</td>\n",
       "      <td>1</td>\n",
       "      <td>0</td>\n",
       "    </tr>\n",
       "    <tr>\n",
       "      <th>4</th>\n",
       "      <td>74.0</td>\n",
       "      <td>13830</td>\n",
       "      <td>5</td>\n",
       "      <td>5</td>\n",
       "      <td>1997</td>\n",
       "      <td>1998</td>\n",
       "      <td>0.0</td>\n",
       "      <td>791.0</td>\n",
       "      <td>0.0</td>\n",
       "      <td>137.0</td>\n",
       "      <td>...</td>\n",
       "      <td>0</td>\n",
       "      <td>0</td>\n",
       "      <td>0</td>\n",
       "      <td>0</td>\n",
       "      <td>1</td>\n",
       "      <td>0</td>\n",
       "      <td>0</td>\n",
       "      <td>0</td>\n",
       "      <td>1</td>\n",
       "      <td>0</td>\n",
       "    </tr>\n",
       "  </tbody>\n",
       "</table>\n",
       "<p>5 rows × 274 columns</p>\n",
       "</div>"
      ],
      "text/plain": [
       "   Lot Frontage  Lot Area  Overall Qual  Overall Cond  Year Built  \\\n",
       "0         141.0     31770             6             5        1960   \n",
       "1          80.0     11622             5             6        1961   \n",
       "2          81.0     14267             6             6        1958   \n",
       "3          93.0     11160             7             5        1968   \n",
       "4          74.0     13830             5             5        1997   \n",
       "\n",
       "   Year Remod/Add  Mas Vnr Area  BsmtFin SF 1  BsmtFin SF 2  Bsmt Unf SF  ...  \\\n",
       "0            1960         112.0         639.0           0.0        441.0  ...   \n",
       "1            1961           0.0         468.0         144.0        270.0  ...   \n",
       "2            1958         108.0         923.0           0.0        406.0  ...   \n",
       "3            1968           0.0        1065.0           0.0       1045.0  ...   \n",
       "4            1998           0.0         791.0           0.0        137.0  ...   \n",
       "\n",
       "   Sale Type_ConLw  Sale Type_New  Sale Type_Oth  Sale Type_VWD  \\\n",
       "0                0              0              0              0   \n",
       "1                0              0              0              0   \n",
       "2                0              0              0              0   \n",
       "3                0              0              0              0   \n",
       "4                0              0              0              0   \n",
       "\n",
       "   Sale Type_WD   Sale Condition_AdjLand  Sale Condition_Alloca  \\\n",
       "0              1                       0                      0   \n",
       "1              1                       0                      0   \n",
       "2              1                       0                      0   \n",
       "3              1                       0                      0   \n",
       "4              1                       0                      0   \n",
       "\n",
       "   Sale Condition_Family  Sale Condition_Normal  Sale Condition_Partial  \n",
       "0                      0                      1                       0  \n",
       "1                      0                      1                       0  \n",
       "2                      0                      1                       0  \n",
       "3                      0                      1                       0  \n",
       "4                      0                      1                       0  \n",
       "\n",
       "[5 rows x 274 columns]"
      ]
     },
     "execution_count": 3,
     "metadata": {},
     "output_type": "execute_result"
    }
   ],
   "source": [
    "df.head()"
   ]
  },
  {
   "cell_type": "markdown",
   "id": "024b2745",
   "metadata": {},
   "source": [
    "### Informations about DataFrame."
   ]
  },
  {
   "cell_type": "code",
   "execution_count": 4,
   "id": "dc011ec1",
   "metadata": {},
   "outputs": [
    {
     "name": "stdout",
     "output_type": "stream",
     "text": [
      "<class 'pandas.core.frame.DataFrame'>\n",
      "RangeIndex: 2925 entries, 0 to 2924\n",
      "Columns: 274 entries, Lot Frontage to Sale Condition_Partial\n",
      "dtypes: float64(11), int64(263)\n",
      "memory usage: 6.1 MB\n"
     ]
    }
   ],
   "source": [
    "df.info()"
   ]
  },
  {
   "cell_type": "markdown",
   "id": "f46c4d9e",
   "metadata": {},
   "source": [
    "### Separating data into X features and y labels.\n",
    "The label we are trying to predict is SalePrice column."
   ]
  },
  {
   "cell_type": "code",
   "execution_count": 5,
   "id": "a1825c41",
   "metadata": {},
   "outputs": [],
   "source": [
    "X = df.drop(columns='SalePrice')\n",
    "y = df.SalePrice"
   ]
  },
  {
   "cell_type": "markdown",
   "id": "50246c71",
   "metadata": {},
   "source": [
    "### Splitting up the data into X and y traing and test set with test proportion 10%."
   ]
  },
  {
   "cell_type": "code",
   "execution_count": 6,
   "id": "349115dd",
   "metadata": {},
   "outputs": [],
   "source": [
    "X_train, X_test, y_train, y_test = train_test_split(X, y, test_size=0.1)"
   ]
  },
  {
   "cell_type": "markdown",
   "id": "e176bd0d",
   "metadata": {},
   "source": [
    "### The dataset features has a variety of scales and units. For optimal regression performance, scaling the X features."
   ]
  },
  {
   "cell_type": "code",
   "execution_count": 7,
   "id": "d4d56d6c",
   "metadata": {},
   "outputs": [
    {
     "data": {
      "text/plain": [
       "StandardScaler()"
      ]
     },
     "execution_count": 7,
     "metadata": {},
     "output_type": "execute_result"
    }
   ],
   "source": [
    "scaler = StandardScaler()\n",
    "scaler.fit(X_train)"
   ]
  },
  {
   "cell_type": "code",
   "execution_count": 8,
   "id": "ba1b0e20",
   "metadata": {},
   "outputs": [],
   "source": [
    "X_train = scaler.transform(X_train)\n",
    "X_test = scaler.transform(X_test)"
   ]
  },
  {
   "cell_type": "markdown",
   "id": "04fdb8f7",
   "metadata": {},
   "source": [
    "***\n",
    "## 2. Creating Elastic Net Model and choosing best parameters using Grid Search"
   ]
  },
  {
   "cell_type": "markdown",
   "id": "60430e63",
   "metadata": {},
   "source": [
    "### Creating an instance of Elastic Net."
   ]
  },
  {
   "cell_type": "code",
   "execution_count": 9,
   "id": "175aafdb",
   "metadata": {},
   "outputs": [],
   "source": [
    "model = ElasticNet()"
   ]
  },
  {
   "cell_type": "markdown",
   "id": "2dd3e05c",
   "metadata": {},
   "source": [
    "### The Elastic Net model has two main parameters, alpha and the L1 ratio. "
   ]
  },
  {
   "cell_type": "code",
   "execution_count": 10,
   "id": "04d7fa72",
   "metadata": {},
   "outputs": [],
   "source": [
    "param_grid = {\n",
    "    'alpha': [1e-5, 1e-4, 1e-3, 1e-2, 1e-1, 0.0, 1.0, 10.0, 100.0],\n",
    "    'l1_ratio': [0, 0.01, 0.1, 0.7, 0.99, 1]\n",
    "}"
   ]
  },
  {
   "cell_type": "markdown",
   "id": "c42e97be",
   "metadata": {},
   "source": [
    "### Using GridSearch with Cross Validation for the best parameters basend on scaled training data."
   ]
  },
  {
   "cell_type": "code",
   "execution_count": 11,
   "id": "8e3946bc",
   "metadata": {},
   "outputs": [],
   "source": [
    "grid = GridSearchCV(model, param_grid, scoring='neg_mean_squared_error', cv=5, verbose=10)"
   ]
  },
  {
   "cell_type": "code",
   "execution_count": 12,
   "id": "6408fe98",
   "metadata": {
    "scrolled": true
   },
   "outputs": [
    {
     "name": "stdout",
     "output_type": "stream",
     "text": [
      "Fitting 5 folds for each of 54 candidates, totalling 270 fits\n",
      "[CV 1/5; 1/54] START alpha=1e-05, l1_ratio=0....................................\n",
      "[CV 1/5; 1/54] END alpha=1e-05, l1_ratio=0;, score=-500459002.590 total time=   0.3s\n",
      "[CV 2/5; 1/54] START alpha=1e-05, l1_ratio=0....................................\n",
      "[CV 2/5; 1/54] END alpha=1e-05, l1_ratio=0;, score=-608487712.208 total time=   0.2s\n",
      "[CV 3/5; 1/54] START alpha=1e-05, l1_ratio=0....................................\n",
      "[CV 3/5; 1/54] END alpha=1e-05, l1_ratio=0;, score=-501778308.861 total time=   0.2s\n",
      "[CV 4/5; 1/54] START alpha=1e-05, l1_ratio=0....................................\n",
      "[CV 4/5; 1/54] END alpha=1e-05, l1_ratio=0;, score=-460777795.221 total time=   0.2s\n",
      "[CV 5/5; 1/54] START alpha=1e-05, l1_ratio=0....................................\n",
      "[CV 5/5; 1/54] END alpha=1e-05, l1_ratio=0;, score=-563935872.773 total time=   0.2s\n",
      "[CV 1/5; 2/54] START alpha=1e-05, l1_ratio=0.01.................................\n",
      "[CV 1/5; 2/54] END alpha=1e-05, l1_ratio=0.01;, score=-500462467.159 total time=   0.2s\n",
      "[CV 2/5; 2/54] START alpha=1e-05, l1_ratio=0.01.................................\n",
      "[CV 2/5; 2/54] END alpha=1e-05, l1_ratio=0.01;, score=-608488173.108 total time=   0.2s\n",
      "[CV 3/5; 2/54] START alpha=1e-05, l1_ratio=0.01.................................\n",
      "[CV 3/5; 2/54] END alpha=1e-05, l1_ratio=0.01;, score=-501778566.386 total time=   0.2s\n",
      "[CV 4/5; 2/54] START alpha=1e-05, l1_ratio=0.01.................................\n",
      "[CV 4/5; 2/54] END alpha=1e-05, l1_ratio=0.01;, score=-460779538.865 total time=   0.2s\n",
      "[CV 5/5; 2/54] START alpha=1e-05, l1_ratio=0.01.................................\n",
      "[CV 5/5; 2/54] END alpha=1e-05, l1_ratio=0.01;, score=-563935875.839 total time=   0.2s\n",
      "[CV 1/5; 3/54] START alpha=1e-05, l1_ratio=0.1..................................\n",
      "[CV 1/5; 3/54] END alpha=1e-05, l1_ratio=0.1;, score=-500493670.591 total time=   0.2s\n",
      "[CV 2/5; 3/54] START alpha=1e-05, l1_ratio=0.1..................................\n",
      "[CV 2/5; 3/54] END alpha=1e-05, l1_ratio=0.1;, score=-608492324.787 total time=   0.2s\n",
      "[CV 3/5; 3/54] START alpha=1e-05, l1_ratio=0.1..................................\n",
      "[CV 3/5; 3/54] END alpha=1e-05, l1_ratio=0.1;, score=-501780885.895 total time=   0.3s\n",
      "[CV 4/5; 3/54] START alpha=1e-05, l1_ratio=0.1..................................\n",
      "[CV 4/5; 3/54] END alpha=1e-05, l1_ratio=0.1;, score=-460795277.743 total time=   0.2s\n",
      "[CV 5/5; 3/54] START alpha=1e-05, l1_ratio=0.1..................................\n",
      "[CV 5/5; 3/54] END alpha=1e-05, l1_ratio=0.1;, score=-563935902.183 total time=   0.2s\n",
      "[CV 1/5; 4/54] START alpha=1e-05, l1_ratio=0.7..................................\n",
      "[CV 1/5; 4/54] END alpha=1e-05, l1_ratio=0.7;, score=-500702721.156 total time=   0.2s\n",
      "[CV 2/5; 4/54] START alpha=1e-05, l1_ratio=0.7..................................\n",
      "[CV 2/5; 4/54] END alpha=1e-05, l1_ratio=0.7;, score=-608520168.206 total time=   0.3s\n",
      "[CV 3/5; 4/54] START alpha=1e-05, l1_ratio=0.7..................................\n",
      "[CV 3/5; 4/54] END alpha=1e-05, l1_ratio=0.7;, score=-501796431.660 total time=   0.2s\n",
      "[CV 4/5; 4/54] START alpha=1e-05, l1_ratio=0.7..................................\n",
      "[CV 4/5; 4/54] END alpha=1e-05, l1_ratio=0.7;, score=-460902356.258 total time=   0.3s\n",
      "[CV 5/5; 4/54] START alpha=1e-05, l1_ratio=0.7..................................\n",
      "[CV 5/5; 4/54] END alpha=1e-05, l1_ratio=0.7;, score=-563936019.934 total time=   0.3s\n",
      "[CV 1/5; 5/54] START alpha=1e-05, l1_ratio=0.99.................................\n",
      "[CV 1/5; 5/54] END alpha=1e-05, l1_ratio=0.99;, score=-500804404.056 total time=   0.2s\n",
      "[CV 2/5; 5/54] START alpha=1e-05, l1_ratio=0.99.................................\n",
      "[CV 2/5; 5/54] END alpha=1e-05, l1_ratio=0.99;, score=-608533729.830 total time=   0.2s\n",
      "[CV 3/5; 5/54] START alpha=1e-05, l1_ratio=0.99.................................\n",
      "[CV 3/5; 5/54] END alpha=1e-05, l1_ratio=0.99;, score=-501803997.118 total time=   0.2s\n",
      "[CV 4/5; 5/54] START alpha=1e-05, l1_ratio=0.99.................................\n",
      "[CV 4/5; 5/54] END alpha=1e-05, l1_ratio=0.99;, score=-460955482.449 total time=   0.2s\n",
      "[CV 5/5; 5/54] START alpha=1e-05, l1_ratio=0.99.................................\n",
      "[CV 5/5; 5/54] END alpha=1e-05, l1_ratio=0.99;, score=-563936040.566 total time=   0.2s\n",
      "[CV 1/5; 6/54] START alpha=1e-05, l1_ratio=1....................................\n",
      "[CV 1/5; 6/54] END alpha=1e-05, l1_ratio=1;, score=-500807917.832 total time=   0.3s\n",
      "[CV 2/5; 6/54] START alpha=1e-05, l1_ratio=1....................................\n",
      "[CV 2/5; 6/54] END alpha=1e-05, l1_ratio=1;, score=-608534198.689 total time=   0.2s\n",
      "[CV 3/5; 6/54] START alpha=1e-05, l1_ratio=1....................................\n",
      "[CV 3/5; 6/54] END alpha=1e-05, l1_ratio=1;, score=-501804258.600 total time=   0.2s\n",
      "[CV 4/5; 6/54] START alpha=1e-05, l1_ratio=1....................................\n",
      "[CV 4/5; 6/54] END alpha=1e-05, l1_ratio=1;, score=-460957330.649 total time=   0.2s\n",
      "[CV 5/5; 6/54] START alpha=1e-05, l1_ratio=1....................................\n",
      "[CV 5/5; 6/54] END alpha=1e-05, l1_ratio=1;, score=-563936040.852 total time=   0.2s\n",
      "[CV 1/5; 7/54] START alpha=0.0001, l1_ratio=0...................................\n",
      "[CV 1/5; 7/54] END alpha=0.0001, l1_ratio=0;, score=-497537999.130 total time=   0.2s\n",
      "[CV 2/5; 7/54] START alpha=0.0001, l1_ratio=0...................................\n",
      "[CV 2/5; 7/54] END alpha=0.0001, l1_ratio=0;, score=-608103033.534 total time=   0.2s\n",
      "[CV 3/5; 7/54] START alpha=0.0001, l1_ratio=0...................................\n",
      "[CV 3/5; 7/54] END alpha=0.0001, l1_ratio=0;, score=-501561649.104 total time=   0.2s\n",
      "[CV 4/5; 7/54] START alpha=0.0001, l1_ratio=0...................................\n",
      "[CV 4/5; 7/54] END alpha=0.0001, l1_ratio=0;, score=-459551430.569 total time=   0.2s\n",
      "[CV 5/5; 7/54] START alpha=0.0001, l1_ratio=0...................................\n",
      "[CV 5/5; 7/54] END alpha=0.0001, l1_ratio=0;, score=-563922398.098 total time=   0.2s\n",
      "[CV 1/5; 8/54] START alpha=0.0001, l1_ratio=0.01................................\n",
      "[CV 1/5; 8/54] END alpha=0.0001, l1_ratio=0.01;, score=-497568328.180 total time=   0.2s\n",
      "[CV 2/5; 8/54] START alpha=0.0001, l1_ratio=0.01................................\n",
      "[CV 2/5; 8/54] END alpha=0.0001, l1_ratio=0.01;, score=-608106996.632 total time=   0.2s\n",
      "[CV 3/5; 8/54] START alpha=0.0001, l1_ratio=0.01................................\n",
      "[CV 3/5; 8/54] END alpha=0.0001, l1_ratio=0.01;, score=-501563897.791 total time=   0.2s\n",
      "[CV 4/5; 8/54] START alpha=0.0001, l1_ratio=0.01................................\n",
      "[CV 4/5; 8/54] END alpha=0.0001, l1_ratio=0.01;, score=-459561951.083 total time=   0.2s\n",
      "[CV 5/5; 8/54] START alpha=0.0001, l1_ratio=0.01................................\n",
      "[CV 5/5; 8/54] END alpha=0.0001, l1_ratio=0.01;, score=-563922659.009 total time=   0.2s\n",
      "[CV 1/5; 9/54] START alpha=0.0001, l1_ratio=0.1.................................\n",
      "[CV 1/5; 9/54] END alpha=0.0001, l1_ratio=0.1;, score=-497843395.983 total time=   0.2s\n",
      "[CV 2/5; 9/54] START alpha=0.0001, l1_ratio=0.1.................................\n",
      "[CV 2/5; 9/54] END alpha=0.0001, l1_ratio=0.1;, score=-608142960.322 total time=   0.2s\n",
      "[CV 3/5; 9/54] START alpha=0.0001, l1_ratio=0.1.................................\n",
      "[CV 3/5; 9/54] END alpha=0.0001, l1_ratio=0.1;, score=-501584287.802 total time=   0.2s\n",
      "[CV 4/5; 9/54] START alpha=0.0001, l1_ratio=0.1.................................\n",
      "[CV 4/5; 9/54] END alpha=0.0001, l1_ratio=0.1;, score=-459659250.462 total time=   0.2s\n",
      "[CV 5/5; 9/54] START alpha=0.0001, l1_ratio=0.1.................................\n",
      "[CV 5/5; 9/54] END alpha=0.0001, l1_ratio=0.1;, score=-563924899.877 total time=   0.2s\n",
      "[CV 1/5; 10/54] START alpha=0.0001, l1_ratio=0.7................................\n",
      "[CV 1/5; 10/54] END alpha=0.0001, l1_ratio=0.7;, score=-499775752.057 total time=   0.2s\n",
      "[CV 2/5; 10/54] START alpha=0.0001, l1_ratio=0.7................................\n",
      "[CV 2/5; 10/54] END alpha=0.0001, l1_ratio=0.7;, score=-608397042.902 total time=   0.2s\n",
      "[CV 3/5; 10/54] START alpha=0.0001, l1_ratio=0.7................................\n",
      "[CV 3/5; 10/54] END alpha=0.0001, l1_ratio=0.7;, score=-501727511.773 total time=   0.2s\n",
      "[CV 4/5; 10/54] START alpha=0.0001, l1_ratio=0.7................................\n"
     ]
    },
    {
     "name": "stdout",
     "output_type": "stream",
     "text": [
      "[CV 4/5; 10/54] END alpha=0.0001, l1_ratio=0.7;, score=-460448448.044 total time=   0.2s\n",
      "[CV 5/5; 10/54] START alpha=0.0001, l1_ratio=0.7................................\n",
      "[CV 5/5; 10/54] END alpha=0.0001, l1_ratio=0.7;, score=-563934680.559 total time=   0.2s\n",
      "[CV 1/5; 11/54] START alpha=0.0001, l1_ratio=0.99...............................\n",
      "[CV 1/5; 11/54] END alpha=0.0001, l1_ratio=0.99;, score=-500772536.085 total time=   0.2s\n",
      "[CV 2/5; 11/54] START alpha=0.0001, l1_ratio=0.99...............................\n",
      "[CV 2/5; 11/54] END alpha=0.0001, l1_ratio=0.99;, score=-608529448.019 total time=   0.2s\n",
      "[CV 3/5; 11/54] START alpha=0.0001, l1_ratio=0.99...............................\n",
      "[CV 3/5; 11/54] END alpha=0.0001, l1_ratio=0.99;, score=-501801565.913 total time=   0.2s\n",
      "[CV 4/5; 11/54] START alpha=0.0001, l1_ratio=0.99...............................\n",
      "[CV 4/5; 11/54] END alpha=0.0001, l1_ratio=0.99;, score=-460938582.265 total time=   0.2s\n",
      "[CV 5/5; 11/54] START alpha=0.0001, l1_ratio=0.99...............................\n",
      "[CV 5/5; 11/54] END alpha=0.0001, l1_ratio=0.99;, score=-563936043.924 total time=   0.2s\n",
      "[CV 1/5; 12/54] START alpha=0.0001, l1_ratio=1..................................\n",
      "[CV 1/5; 12/54] END alpha=0.0001, l1_ratio=1;, score=-500807651.363 total time=   0.3s\n",
      "[CV 2/5; 12/54] START alpha=0.0001, l1_ratio=1..................................\n",
      "[CV 2/5; 12/54] END alpha=0.0001, l1_ratio=1;, score=-608534132.879 total time=   0.2s\n",
      "[CV 3/5; 12/54] START alpha=0.0001, l1_ratio=1..................................\n",
      "[CV 3/5; 12/54] END alpha=0.0001, l1_ratio=1;, score=-501804178.856 total time=   0.2s\n",
      "[CV 4/5; 12/54] START alpha=0.0001, l1_ratio=1..................................\n",
      "[CV 4/5; 12/54] END alpha=0.0001, l1_ratio=1;, score=-460957013.720 total time=   0.2s\n",
      "[CV 5/5; 12/54] START alpha=0.0001, l1_ratio=1..................................\n",
      "[CV 5/5; 12/54] END alpha=0.0001, l1_ratio=1;, score=-563936048.138 total time=   0.2s\n",
      "[CV 1/5; 13/54] START alpha=0.001, l1_ratio=0...................................\n",
      "[CV 1/5; 13/54] END alpha=0.001, l1_ratio=0;, score=-484034479.322 total time=   0.2s\n",
      "[CV 2/5; 13/54] START alpha=0.001, l1_ratio=0...................................\n",
      "[CV 2/5; 13/54] END alpha=0.001, l1_ratio=0;, score=-606114069.990 total time=   0.2s\n",
      "[CV 3/5; 13/54] START alpha=0.001, l1_ratio=0...................................\n",
      "[CV 3/5; 13/54] END alpha=0.001, l1_ratio=0;, score=-500416577.021 total time=   0.2s\n",
      "[CV 4/5; 13/54] START alpha=0.001, l1_ratio=0...................................\n",
      "[CV 4/5; 13/54] END alpha=0.001, l1_ratio=0;, score=-457325773.088 total time=   0.2s\n",
      "[CV 5/5; 13/54] START alpha=0.001, l1_ratio=0...................................\n",
      "[CV 5/5; 13/54] END alpha=0.001, l1_ratio=0;, score=-563159660.536 total time=   0.2s\n",
      "[CV 1/5; 14/54] START alpha=0.001, l1_ratio=0.01................................\n",
      "[CV 1/5; 14/54] END alpha=0.001, l1_ratio=0.01;, score=-484086223.660 total time=   0.2s\n",
      "[CV 2/5; 14/54] START alpha=0.001, l1_ratio=0.01................................\n",
      "[CV 2/5; 14/54] END alpha=0.001, l1_ratio=0.01;, score=-606125945.152 total time=   0.2s\n",
      "[CV 3/5; 14/54] START alpha=0.001, l1_ratio=0.01................................\n",
      "[CV 3/5; 14/54] END alpha=0.001, l1_ratio=0.01;, score=-500423088.446 total time=   0.2s\n",
      "[CV 4/5; 14/54] START alpha=0.001, l1_ratio=0.01................................\n",
      "[CV 4/5; 14/54] END alpha=0.001, l1_ratio=0.01;, score=-457326326.318 total time=   0.2s\n",
      "[CV 5/5; 14/54] START alpha=0.001, l1_ratio=0.01................................\n",
      "[CV 5/5; 14/54] END alpha=0.001, l1_ratio=0.01;, score=-563170497.699 total time=   0.2s\n",
      "[CV 1/5; 15/54] START alpha=0.001, l1_ratio=0.1.................................\n",
      "[CV 1/5; 15/54] END alpha=0.001, l1_ratio=0.1;, score=-484609752.145 total time=   0.2s\n",
      "[CV 2/5; 15/54] START alpha=0.001, l1_ratio=0.1.................................\n",
      "[CV 2/5; 15/54] END alpha=0.001, l1_ratio=0.1;, score=-606239135.049 total time=   0.2s\n",
      "[CV 3/5; 15/54] START alpha=0.001, l1_ratio=0.1.................................\n",
      "[CV 3/5; 15/54] END alpha=0.001, l1_ratio=0.1;, score=-500485797.383 total time=   0.2s\n",
      "[CV 4/5; 15/54] START alpha=0.001, l1_ratio=0.1.................................\n",
      "[CV 4/5; 15/54] END alpha=0.001, l1_ratio=0.1;, score=-457340279.396 total time=   0.2s\n",
      "[CV 5/5; 15/54] START alpha=0.001, l1_ratio=0.1.................................\n",
      "[CV 5/5; 15/54] END alpha=0.001, l1_ratio=0.1;, score=-563267772.008 total time=   0.2s\n",
      "[CV 1/5; 16/54] START alpha=0.001, l1_ratio=0.7.................................\n",
      "[CV 1/5; 16/54] END alpha=0.001, l1_ratio=0.7;, score=-492355266.818 total time=   0.2s\n",
      "[CV 2/5; 16/54] START alpha=0.001, l1_ratio=0.7.................................\n",
      "[CV 2/5; 16/54] END alpha=0.001, l1_ratio=0.7;, score=-607424387.755 total time=   0.2s\n",
      "[CV 3/5; 16/54] START alpha=0.001, l1_ratio=0.7.................................\n",
      "[CV 3/5; 16/54] END alpha=0.001, l1_ratio=0.7;, score=-501171396.345 total time=   0.2s\n",
      "[CV 4/5; 16/54] START alpha=0.001, l1_ratio=0.7.................................\n",
      "[CV 4/5; 16/54] END alpha=0.001, l1_ratio=0.7;, score=-458232199.539 total time=   0.2s\n",
      "[CV 5/5; 16/54] START alpha=0.001, l1_ratio=0.7.................................\n",
      "[CV 5/5; 16/54] END alpha=0.001, l1_ratio=0.7;, score=-563828089.060 total time=   0.2s\n",
      "[CV 1/5; 17/54] START alpha=0.001, l1_ratio=0.99................................\n",
      "[CV 1/5; 17/54] END alpha=0.001, l1_ratio=0.99;, score=-500456074.387 total time=   0.3s\n",
      "[CV 2/5; 17/54] START alpha=0.001, l1_ratio=0.99................................\n",
      "[CV 2/5; 17/54] END alpha=0.001, l1_ratio=0.99;, score=-608486996.459 total time=   0.3s\n",
      "[CV 3/5; 17/54] START alpha=0.001, l1_ratio=0.99................................\n",
      "[CV 3/5; 17/54] END alpha=0.001, l1_ratio=0.99;, score=-501777438.538 total time=   0.2s\n",
      "[CV 4/5; 17/54] START alpha=0.001, l1_ratio=0.99................................\n",
      "[CV 4/5; 17/54] END alpha=0.001, l1_ratio=0.99;, score=-460774477.092 total time=   0.2s\n",
      "[CV 5/5; 17/54] START alpha=0.001, l1_ratio=0.99................................\n",
      "[CV 5/5; 17/54] END alpha=0.001, l1_ratio=0.99;, score=-563935943.535 total time=   0.2s\n",
      "[CV 1/5; 18/54] START alpha=0.001, l1_ratio=1...................................\n",
      "[CV 1/5; 18/54] END alpha=0.001, l1_ratio=1;, score=-500804986.776 total time=   0.2s\n",
      "[CV 2/5; 18/54] START alpha=0.001, l1_ratio=1...................................\n",
      "[CV 2/5; 18/54] END alpha=0.001, l1_ratio=1;, score=-608533474.837 total time=   0.2s\n",
      "[CV 3/5; 18/54] START alpha=0.001, l1_ratio=1...................................\n",
      "[CV 3/5; 18/54] END alpha=0.001, l1_ratio=1;, score=-501803381.458 total time=   0.2s\n",
      "[CV 4/5; 18/54] START alpha=0.001, l1_ratio=1...................................\n",
      "[CV 4/5; 18/54] END alpha=0.001, l1_ratio=1;, score=-460953845.923 total time=   0.2s\n",
      "[CV 5/5; 18/54] START alpha=0.001, l1_ratio=1...................................\n",
      "[CV 5/5; 18/54] END alpha=0.001, l1_ratio=1;, score=-563936121.078 total time=   0.2s\n",
      "[CV 1/5; 19/54] START alpha=0.01, l1_ratio=0....................................\n",
      "[CV 1/5; 19/54] END alpha=0.01, l1_ratio=0;, score=-481289866.417 total time=   0.2s\n",
      "[CV 2/5; 19/54] START alpha=0.01, l1_ratio=0....................................\n",
      "[CV 2/5; 19/54] END alpha=0.01, l1_ratio=0;, score=-607820641.513 total time=   0.3s\n",
      "[CV 3/5; 19/54] START alpha=0.01, l1_ratio=0....................................\n",
      "[CV 3/5; 19/54] END alpha=0.01, l1_ratio=0;, score=-497578827.873 total time=   0.3s\n",
      "[CV 4/5; 19/54] START alpha=0.01, l1_ratio=0....................................\n",
      "[CV 4/5; 19/54] END alpha=0.01, l1_ratio=0;, score=-459161720.758 total time=   0.3s\n",
      "[CV 5/5; 19/54] START alpha=0.01, l1_ratio=0....................................\n",
      "[CV 5/5; 19/54] END alpha=0.01, l1_ratio=0;, score=-552707262.272 total time=   0.3s\n",
      "[CV 1/5; 20/54] START alpha=0.01, l1_ratio=0.01.................................\n",
      "[CV 1/5; 20/54] END alpha=0.01, l1_ratio=0.01;, score=-481268971.364 total time=   0.3s\n",
      "[CV 2/5; 20/54] START alpha=0.01, l1_ratio=0.01.................................\n",
      "[CV 2/5; 20/54] END alpha=0.01, l1_ratio=0.01;, score=-607759346.726 total time=   0.3s\n",
      "[CV 3/5; 20/54] START alpha=0.01, l1_ratio=0.01.................................\n"
     ]
    },
    {
     "name": "stdout",
     "output_type": "stream",
     "text": [
      "[CV 3/5; 20/54] END alpha=0.01, l1_ratio=0.01;, score=-497609611.171 total time=   0.2s\n",
      "[CV 4/5; 20/54] START alpha=0.01, l1_ratio=0.01.................................\n",
      "[CV 4/5; 20/54] END alpha=0.01, l1_ratio=0.01;, score=-459154646.407 total time=   0.3s\n",
      "[CV 5/5; 20/54] START alpha=0.01, l1_ratio=0.01.................................\n",
      "[CV 5/5; 20/54] END alpha=0.01, l1_ratio=0.01;, score=-552813133.579 total time=   0.3s\n",
      "[CV 1/5; 21/54] START alpha=0.01, l1_ratio=0.1..................................\n",
      "[CV 1/5; 21/54] END alpha=0.01, l1_ratio=0.1;, score=-481093367.105 total time=   0.3s\n",
      "[CV 2/5; 21/54] START alpha=0.01, l1_ratio=0.1..................................\n",
      "[CV 2/5; 21/54] END alpha=0.01, l1_ratio=0.1;, score=-607223965.178 total time=   0.3s\n",
      "[CV 3/5; 21/54] START alpha=0.01, l1_ratio=0.1..................................\n",
      "[CV 3/5; 21/54] END alpha=0.01, l1_ratio=0.1;, score=-497891876.374 total time=   0.3s\n",
      "[CV 4/5; 21/54] START alpha=0.01, l1_ratio=0.1..................................\n",
      "[CV 4/5; 21/54] END alpha=0.01, l1_ratio=0.1;, score=-459093201.376 total time=   0.2s\n",
      "[CV 5/5; 21/54] START alpha=0.01, l1_ratio=0.1..................................\n",
      "[CV 5/5; 21/54] END alpha=0.01, l1_ratio=0.1;, score=-553793134.409 total time=   0.3s\n",
      "[CV 1/5; 22/54] START alpha=0.01, l1_ratio=0.7..................................\n",
      "[CV 1/5; 22/54] END alpha=0.01, l1_ratio=0.7;, score=-481424617.860 total time=   0.2s\n",
      "[CV 2/5; 22/54] START alpha=0.01, l1_ratio=0.7..................................\n",
      "[CV 2/5; 22/54] END alpha=0.01, l1_ratio=0.7;, score=-605169074.648 total time=   0.2s\n",
      "[CV 3/5; 22/54] START alpha=0.01, l1_ratio=0.7..................................\n",
      "[CV 3/5; 22/54] END alpha=0.01, l1_ratio=0.7;, score=-499856023.808 total time=   0.2s\n",
      "[CV 4/5; 22/54] START alpha=0.01, l1_ratio=0.7..................................\n",
      "[CV 4/5; 22/54] END alpha=0.01, l1_ratio=0.7;, score=-458467952.282 total time=   0.3s\n",
      "[CV 5/5; 22/54] START alpha=0.01, l1_ratio=0.7..................................\n",
      "[CV 5/5; 22/54] END alpha=0.01, l1_ratio=0.7;, score=-561180694.426 total time=   0.3s\n",
      "[CV 1/5; 23/54] START alpha=0.01, l1_ratio=0.99.................................\n",
      "[CV 1/5; 23/54] END alpha=0.01, l1_ratio=0.99;, score=-497509908.958 total time=   0.2s\n",
      "[CV 2/5; 23/54] START alpha=0.01, l1_ratio=0.99.................................\n",
      "[CV 2/5; 23/54] END alpha=0.01, l1_ratio=0.99;, score=-608096505.330 total time=   0.2s\n",
      "[CV 3/5; 23/54] START alpha=0.01, l1_ratio=0.99.................................\n",
      "[CV 3/5; 23/54] END alpha=0.01, l1_ratio=0.99;, score=-501553517.237 total time=   0.2s\n",
      "[CV 4/5; 23/54] START alpha=0.01, l1_ratio=0.99.................................\n",
      "[CV 4/5; 23/54] END alpha=0.01, l1_ratio=0.99;, score=-459527873.152 total time=   0.2s\n",
      "[CV 5/5; 23/54] START alpha=0.01, l1_ratio=0.99.................................\n",
      "[CV 5/5; 23/54] END alpha=0.01, l1_ratio=0.99;, score=-563918919.453 total time=   0.2s\n",
      "[CV 1/5; 24/54] START alpha=0.01, l1_ratio=1....................................\n",
      "[CV 1/5; 24/54] END alpha=0.01, l1_ratio=1;, score=-500778296.387 total time=   0.2s\n",
      "[CV 2/5; 24/54] START alpha=0.01, l1_ratio=1....................................\n",
      "[CV 2/5; 24/54] END alpha=0.01, l1_ratio=1;, score=-608526889.296 total time=   0.2s\n",
      "[CV 3/5; 24/54] START alpha=0.01, l1_ratio=1....................................\n",
      "[CV 3/5; 24/54] END alpha=0.01, l1_ratio=1;, score=-501795411.939 total time=   0.2s\n",
      "[CV 4/5; 24/54] START alpha=0.01, l1_ratio=1....................................\n",
      "[CV 4/5; 24/54] END alpha=0.01, l1_ratio=1;, score=-460922290.699 total time=   0.2s\n",
      "[CV 5/5; 24/54] START alpha=0.01, l1_ratio=1....................................\n",
      "[CV 5/5; 24/54] END alpha=0.01, l1_ratio=1;, score=-563936857.632 total time=   0.3s\n",
      "[CV 1/5; 25/54] START alpha=0.1, l1_ratio=0.....................................\n",
      "[CV 1/5; 25/54] END alpha=0.1, l1_ratio=0;, score=-516426033.886 total time=   0.3s\n",
      "[CV 2/5; 25/54] START alpha=0.1, l1_ratio=0.....................................\n",
      "[CV 2/5; 25/54] END alpha=0.1, l1_ratio=0;, score=-669593747.419 total time=   0.3s\n",
      "[CV 3/5; 25/54] START alpha=0.1, l1_ratio=0.....................................\n",
      "[CV 3/5; 25/54] END alpha=0.1, l1_ratio=0;, score=-495771224.664 total time=   0.3s\n",
      "[CV 4/5; 25/54] START alpha=0.1, l1_ratio=0.....................................\n",
      "[CV 4/5; 25/54] END alpha=0.1, l1_ratio=0;, score=-474088876.906 total time=   0.3s\n",
      "[CV 5/5; 25/54] START alpha=0.1, l1_ratio=0.....................................\n",
      "[CV 5/5; 25/54] END alpha=0.1, l1_ratio=0;, score=-526549662.274 total time=   0.3s\n",
      "[CV 1/5; 26/54] START alpha=0.1, l1_ratio=0.01..................................\n",
      "[CV 1/5; 26/54] END alpha=0.1, l1_ratio=0.01;, score=-516000738.314 total time=   0.0s\n",
      "[CV 2/5; 26/54] START alpha=0.1, l1_ratio=0.01..................................\n",
      "[CV 2/5; 26/54] END alpha=0.1, l1_ratio=0.01;, score=-669011857.811 total time=   0.0s\n",
      "[CV 3/5; 26/54] START alpha=0.1, l1_ratio=0.01..................................\n",
      "[CV 3/5; 26/54] END alpha=0.1, l1_ratio=0.01;, score=-495683964.524 total time=   0.0s\n",
      "[CV 4/5; 26/54] START alpha=0.1, l1_ratio=0.01..................................\n",
      "[CV 4/5; 26/54] END alpha=0.1, l1_ratio=0.01;, score=-473931999.013 total time=   0.0s\n",
      "[CV 5/5; 26/54] START alpha=0.1, l1_ratio=0.01..................................\n",
      "[CV 5/5; 26/54] END alpha=0.1, l1_ratio=0.01;, score=-526592154.184 total time=   0.0s\n",
      "[CV 1/5; 27/54] START alpha=0.1, l1_ratio=0.1...................................\n",
      "[CV 1/5; 27/54] END alpha=0.1, l1_ratio=0.1;, score=-512182169.301 total time=   0.0s\n",
      "[CV 2/5; 27/54] START alpha=0.1, l1_ratio=0.1...................................\n",
      "[CV 2/5; 27/54] END alpha=0.1, l1_ratio=0.1;, score=-663677014.004 total time=   0.0s\n",
      "[CV 3/5; 27/54] START alpha=0.1, l1_ratio=0.1...................................\n",
      "[CV 3/5; 27/54] END alpha=0.1, l1_ratio=0.1;, score=-494945783.691 total time=   0.0s\n",
      "[CV 4/5; 27/54] START alpha=0.1, l1_ratio=0.1...................................\n",
      "[CV 4/5; 27/54] END alpha=0.1, l1_ratio=0.1;, score=-472501277.367 total time=   0.0s\n",
      "[CV 5/5; 27/54] START alpha=0.1, l1_ratio=0.1...................................\n",
      "[CV 5/5; 27/54] END alpha=0.1, l1_ratio=0.1;, score=-527074363.609 total time=   0.0s\n",
      "[CV 1/5; 28/54] START alpha=0.1, l1_ratio=0.7...................................\n",
      "[CV 1/5; 28/54] END alpha=0.1, l1_ratio=0.7;, score=-487737067.163 total time=   0.1s\n",
      "[CV 2/5; 28/54] START alpha=0.1, l1_ratio=0.7...................................\n",
      "[CV 2/5; 28/54] END alpha=0.1, l1_ratio=0.7;, score=-622582729.608 total time=   0.1s\n",
      "[CV 3/5; 28/54] START alpha=0.1, l1_ratio=0.7...................................\n",
      "[CV 3/5; 28/54] END alpha=0.1, l1_ratio=0.7;, score=-493867335.242 total time=   0.1s\n",
      "[CV 4/5; 28/54] START alpha=0.1, l1_ratio=0.7...................................\n",
      "[CV 4/5; 28/54] END alpha=0.1, l1_ratio=0.7;, score=-461939477.706 total time=   0.1s\n",
      "[CV 5/5; 28/54] START alpha=0.1, l1_ratio=0.7...................................\n",
      "[CV 5/5; 28/54] END alpha=0.1, l1_ratio=0.7;, score=-538897636.023 total time=   0.1s\n",
      "[CV 1/5; 29/54] START alpha=0.1, l1_ratio=0.99..................................\n",
      "[CV 1/5; 29/54] END alpha=0.1, l1_ratio=0.99;, score=-483967613.000 total time=   0.2s\n",
      "[CV 2/5; 29/54] START alpha=0.1, l1_ratio=0.99..................................\n",
      "[CV 2/5; 29/54] END alpha=0.1, l1_ratio=0.99;, score=-606073668.063 total time=   0.2s\n",
      "[CV 3/5; 29/54] START alpha=0.1, l1_ratio=0.99..................................\n",
      "[CV 3/5; 29/54] END alpha=0.1, l1_ratio=0.99;, score=-500365668.275 total time=   0.2s\n",
      "[CV 4/5; 29/54] START alpha=0.1, l1_ratio=0.99..................................\n",
      "[CV 4/5; 29/54] END alpha=0.1, l1_ratio=0.99;, score=-457272813.943 total time=   0.2s\n",
      "[CV 5/5; 29/54] START alpha=0.1, l1_ratio=0.99..................................\n",
      "[CV 5/5; 29/54] END alpha=0.1, l1_ratio=0.99;, score=-563133089.624 total time=   0.2s\n",
      "[CV 1/5; 30/54] START alpha=0.1, l1_ratio=1.....................................\n",
      "[CV 1/5; 30/54] END alpha=0.1, l1_ratio=1;, score=-500509939.965 total time=   0.3s\n",
      "[CV 2/5; 30/54] START alpha=0.1, l1_ratio=1.....................................\n"
     ]
    },
    {
     "name": "stdout",
     "output_type": "stream",
     "text": [
      "[CV 2/5; 30/54] END alpha=0.1, l1_ratio=1;, score=-608461652.977 total time=   0.3s\n",
      "[CV 3/5; 30/54] START alpha=0.1, l1_ratio=1.....................................\n",
      "[CV 3/5; 30/54] END alpha=0.1, l1_ratio=1;, score=-501716142.446 total time=   0.3s\n",
      "[CV 4/5; 30/54] START alpha=0.1, l1_ratio=1.....................................\n",
      "[CV 4/5; 30/54] END alpha=0.1, l1_ratio=1;, score=-460620456.926 total time=   0.2s\n",
      "[CV 5/5; 30/54] START alpha=0.1, l1_ratio=1.....................................\n",
      "[CV 5/5; 30/54] END alpha=0.1, l1_ratio=1;, score=-563945122.215 total time=   0.3s\n",
      "[CV 1/5; 31/54] START alpha=0.0, l1_ratio=0.....................................\n",
      "[CV 1/5; 31/54] END alpha=0.0, l1_ratio=0;, score=-171461528776736.531 total time=   0.3s\n",
      "[CV 2/5; 31/54] START alpha=0.0, l1_ratio=0.....................................\n",
      "[CV 2/5; 31/54] END alpha=0.0, l1_ratio=0;, score=-13631730276726.803 total time=   0.2s\n",
      "[CV 3/5; 31/54] START alpha=0.0, l1_ratio=0.....................................\n",
      "[CV 3/5; 31/54] END alpha=0.0, l1_ratio=0;, score=-501804267.461 total time=   0.3s\n",
      "[CV 4/5; 31/54] START alpha=0.0, l1_ratio=0.....................................\n",
      "[CV 4/5; 31/54] END alpha=0.0, l1_ratio=0;, score=-460957365.864 total time=   0.3s\n",
      "[CV 5/5; 31/54] START alpha=0.0, l1_ratio=0.....................................\n",
      "[CV 5/5; 31/54] END alpha=0.0, l1_ratio=0;, score=-321587531499.182 total time=   0.2s\n",
      "[CV 1/5; 32/54] START alpha=0.0, l1_ratio=0.01..................................\n",
      "[CV 1/5; 32/54] END alpha=0.0, l1_ratio=0.01;, score=-171461528776736.531 total time=   0.3s\n",
      "[CV 2/5; 32/54] START alpha=0.0, l1_ratio=0.01..................................\n",
      "[CV 2/5; 32/54] END alpha=0.0, l1_ratio=0.01;, score=-13631730276726.803 total time=   0.2s\n",
      "[CV 3/5; 32/54] START alpha=0.0, l1_ratio=0.01..................................\n",
      "[CV 3/5; 32/54] END alpha=0.0, l1_ratio=0.01;, score=-501804267.461 total time=   0.2s\n",
      "[CV 4/5; 32/54] START alpha=0.0, l1_ratio=0.01..................................\n",
      "[CV 4/5; 32/54] END alpha=0.0, l1_ratio=0.01;, score=-460957365.864 total time=   0.3s\n",
      "[CV 5/5; 32/54] START alpha=0.0, l1_ratio=0.01..................................\n",
      "[CV 5/5; 32/54] END alpha=0.0, l1_ratio=0.01;, score=-321587531499.182 total time=   0.3s\n",
      "[CV 1/5; 33/54] START alpha=0.0, l1_ratio=0.1...................................\n",
      "[CV 1/5; 33/54] END alpha=0.0, l1_ratio=0.1;, score=-171461528776736.531 total time=   0.2s\n",
      "[CV 2/5; 33/54] START alpha=0.0, l1_ratio=0.1...................................\n",
      "[CV 2/5; 33/54] END alpha=0.0, l1_ratio=0.1;, score=-13631730276726.803 total time=   0.2s\n",
      "[CV 3/5; 33/54] START alpha=0.0, l1_ratio=0.1...................................\n",
      "[CV 3/5; 33/54] END alpha=0.0, l1_ratio=0.1;, score=-501804267.461 total time=   0.3s\n",
      "[CV 4/5; 33/54] START alpha=0.0, l1_ratio=0.1...................................\n",
      "[CV 4/5; 33/54] END alpha=0.0, l1_ratio=0.1;, score=-460957365.864 total time=   0.2s\n",
      "[CV 5/5; 33/54] START alpha=0.0, l1_ratio=0.1...................................\n",
      "[CV 5/5; 33/54] END alpha=0.0, l1_ratio=0.1;, score=-321587531499.182 total time=   0.2s\n",
      "[CV 1/5; 34/54] START alpha=0.0, l1_ratio=0.7...................................\n",
      "[CV 1/5; 34/54] END alpha=0.0, l1_ratio=0.7;, score=-171461528776736.531 total time=   0.3s\n",
      "[CV 2/5; 34/54] START alpha=0.0, l1_ratio=0.7...................................\n",
      "[CV 2/5; 34/54] END alpha=0.0, l1_ratio=0.7;, score=-13631730276726.803 total time=   0.2s\n",
      "[CV 3/5; 34/54] START alpha=0.0, l1_ratio=0.7...................................\n",
      "[CV 3/5; 34/54] END alpha=0.0, l1_ratio=0.7;, score=-501804267.461 total time=   0.2s\n",
      "[CV 4/5; 34/54] START alpha=0.0, l1_ratio=0.7...................................\n",
      "[CV 4/5; 34/54] END alpha=0.0, l1_ratio=0.7;, score=-460957365.864 total time=   0.2s\n",
      "[CV 5/5; 34/54] START alpha=0.0, l1_ratio=0.7...................................\n",
      "[CV 5/5; 34/54] END alpha=0.0, l1_ratio=0.7;, score=-321587531499.182 total time=   0.2s\n",
      "[CV 1/5; 35/54] START alpha=0.0, l1_ratio=0.99..................................\n",
      "[CV 1/5; 35/54] END alpha=0.0, l1_ratio=0.99;, score=-171461528776736.531 total time=   0.2s\n",
      "[CV 2/5; 35/54] START alpha=0.0, l1_ratio=0.99..................................\n",
      "[CV 2/5; 35/54] END alpha=0.0, l1_ratio=0.99;, score=-13631730276726.803 total time=   0.3s\n",
      "[CV 3/5; 35/54] START alpha=0.0, l1_ratio=0.99..................................\n",
      "[CV 3/5; 35/54] END alpha=0.0, l1_ratio=0.99;, score=-501804267.461 total time=   0.2s\n",
      "[CV 4/5; 35/54] START alpha=0.0, l1_ratio=0.99..................................\n",
      "[CV 4/5; 35/54] END alpha=0.0, l1_ratio=0.99;, score=-460957365.864 total time=   0.3s\n",
      "[CV 5/5; 35/54] START alpha=0.0, l1_ratio=0.99..................................\n",
      "[CV 5/5; 35/54] END alpha=0.0, l1_ratio=0.99;, score=-321587531499.182 total time=   0.2s\n",
      "[CV 1/5; 36/54] START alpha=0.0, l1_ratio=1.....................................\n",
      "[CV 1/5; 36/54] END alpha=0.0, l1_ratio=1;, score=-171461528776736.531 total time=   0.2s\n",
      "[CV 2/5; 36/54] START alpha=0.0, l1_ratio=1.....................................\n",
      "[CV 2/5; 36/54] END alpha=0.0, l1_ratio=1;, score=-13631730276726.803 total time=   0.3s\n",
      "[CV 3/5; 36/54] START alpha=0.0, l1_ratio=1.....................................\n",
      "[CV 3/5; 36/54] END alpha=0.0, l1_ratio=1;, score=-501804267.461 total time=   0.2s\n",
      "[CV 4/5; 36/54] START alpha=0.0, l1_ratio=1.....................................\n",
      "[CV 4/5; 36/54] END alpha=0.0, l1_ratio=1;, score=-460957365.864 total time=   0.3s\n",
      "[CV 5/5; 36/54] START alpha=0.0, l1_ratio=1.....................................\n",
      "[CV 5/5; 36/54] END alpha=0.0, l1_ratio=1;, score=-321587531499.182 total time=   0.2s\n",
      "[CV 1/5; 37/54] START alpha=1.0, l1_ratio=0.....................................\n",
      "[CV 1/5; 37/54] END alpha=1.0, l1_ratio=0;, score=-854597612.159 total time=   0.2s\n",
      "[CV 2/5; 37/54] START alpha=1.0, l1_ratio=0.....................................\n",
      "[CV 2/5; 37/54] END alpha=1.0, l1_ratio=0;, score=-977034789.545 total time=   0.2s\n",
      "[CV 3/5; 37/54] START alpha=1.0, l1_ratio=0.....................................\n",
      "[CV 3/5; 37/54] END alpha=1.0, l1_ratio=0;, score=-655155642.711 total time=   0.3s\n",
      "[CV 4/5; 37/54] START alpha=1.0, l1_ratio=0.....................................\n",
      "[CV 4/5; 37/54] END alpha=1.0, l1_ratio=0;, score=-613444181.673 total time=   0.2s\n",
      "[CV 5/5; 37/54] START alpha=1.0, l1_ratio=0.....................................\n",
      "[CV 5/5; 37/54] END alpha=1.0, l1_ratio=0;, score=-641599624.557 total time=   0.3s\n",
      "[CV 1/5; 38/54] START alpha=1.0, l1_ratio=0.01..................................\n",
      "[CV 1/5; 38/54] END alpha=1.0, l1_ratio=0.01;, score=-851450700.897 total time=   0.0s\n",
      "[CV 2/5; 38/54] START alpha=1.0, l1_ratio=0.01..................................\n",
      "[CV 2/5; 38/54] END alpha=1.0, l1_ratio=0.01;, score=-974373540.969 total time=   0.0s\n",
      "[CV 3/5; 38/54] START alpha=1.0, l1_ratio=0.01..................................\n",
      "[CV 3/5; 38/54] END alpha=1.0, l1_ratio=0.01;, score=-653253375.150 total time=   0.0s\n",
      "[CV 4/5; 38/54] START alpha=1.0, l1_ratio=0.01..................................\n",
      "[CV 4/5; 38/54] END alpha=1.0, l1_ratio=0.01;, score=-611837357.813 total time=   0.0s\n",
      "[CV 5/5; 38/54] START alpha=1.0, l1_ratio=0.01..................................\n",
      "[CV 5/5; 38/54] END alpha=1.0, l1_ratio=0.01;, score=-640041961.559 total time=   0.0s\n",
      "[CV 1/5; 39/54] START alpha=1.0, l1_ratio=0.1...................................\n",
      "[CV 1/5; 39/54] END alpha=1.0, l1_ratio=0.1;, score=-822629720.870 total time=   0.0s\n",
      "[CV 2/5; 39/54] START alpha=1.0, l1_ratio=0.1...................................\n",
      "[CV 2/5; 39/54] END alpha=1.0, l1_ratio=0.1;, score=-950069838.441 total time=   0.0s\n",
      "[CV 3/5; 39/54] START alpha=1.0, l1_ratio=0.1...................................\n",
      "[CV 3/5; 39/54] END alpha=1.0, l1_ratio=0.1;, score=-636093587.273 total time=   0.0s\n",
      "[CV 4/5; 39/54] START alpha=1.0, l1_ratio=0.1...................................\n",
      "[CV 4/5; 39/54] END alpha=1.0, l1_ratio=0.1;, score=-597367201.392 total time=   0.0s\n",
      "[CV 5/5; 39/54] START alpha=1.0, l1_ratio=0.1...................................\n",
      "[CV 5/5; 39/54] END alpha=1.0, l1_ratio=0.1;, score=-626022023.465 total time=   0.0s\n",
      "[CV 1/5; 40/54] START alpha=1.0, l1_ratio=0.7...................................\n",
      "[CV 1/5; 40/54] END alpha=1.0, l1_ratio=0.7;, score=-601643388.819 total time=   0.0s\n",
      "[CV 2/5; 40/54] START alpha=1.0, l1_ratio=0.7...................................\n"
     ]
    },
    {
     "name": "stdout",
     "output_type": "stream",
     "text": [
      "[CV 2/5; 40/54] END alpha=1.0, l1_ratio=0.7;, score=-761276393.540 total time=   0.0s\n",
      "[CV 3/5; 40/54] START alpha=1.0, l1_ratio=0.7...................................\n",
      "[CV 3/5; 40/54] END alpha=1.0, l1_ratio=0.7;, score=-523774040.567 total time=   0.0s\n",
      "[CV 4/5; 40/54] START alpha=1.0, l1_ratio=0.7...................................\n",
      "[CV 4/5; 40/54] END alpha=1.0, l1_ratio=0.7;, score=-503161482.525 total time=   0.0s\n",
      "[CV 5/5; 40/54] START alpha=1.0, l1_ratio=0.7...................................\n",
      "[CV 5/5; 40/54] END alpha=1.0, l1_ratio=0.7;, score=-538580689.556 total time=   0.0s\n",
      "[CV 1/5; 41/54] START alpha=1.0, l1_ratio=0.99..................................\n",
      "[CV 1/5; 41/54] END alpha=1.0, l1_ratio=0.99;, score=-481227028.067 total time=   0.3s\n",
      "[CV 2/5; 41/54] START alpha=1.0, l1_ratio=0.99..................................\n",
      "[CV 2/5; 41/54] END alpha=1.0, l1_ratio=0.99;, score=-607675150.416 total time=   0.3s\n",
      "[CV 3/5; 41/54] START alpha=1.0, l1_ratio=0.99..................................\n",
      "[CV 3/5; 41/54] END alpha=1.0, l1_ratio=0.99;, score=-497395116.822 total time=   0.3s\n",
      "[CV 4/5; 41/54] START alpha=1.0, l1_ratio=0.99..................................\n",
      "[CV 4/5; 41/54] END alpha=1.0, l1_ratio=0.99;, score=-458913629.144 total time=   0.3s\n",
      "[CV 5/5; 41/54] START alpha=1.0, l1_ratio=0.99..................................\n",
      "[CV 5/5; 41/54] END alpha=1.0, l1_ratio=0.99;, score=-552584245.205 total time=   0.3s\n",
      "[CV 1/5; 42/54] START alpha=1.0, l1_ratio=1.....................................\n",
      "[CV 1/5; 42/54] END alpha=1.0, l1_ratio=1;, score=-497643783.717 total time=   0.3s\n",
      "[CV 2/5; 42/54] START alpha=1.0, l1_ratio=1.....................................\n",
      "[CV 2/5; 42/54] END alpha=1.0, l1_ratio=1;, score=-607860752.392 total time=   0.2s\n",
      "[CV 3/5; 42/54] START alpha=1.0, l1_ratio=1.....................................\n",
      "[CV 3/5; 42/54] END alpha=1.0, l1_ratio=1;, score=-501004993.048 total time=   0.2s\n",
      "[CV 4/5; 42/54] START alpha=1.0, l1_ratio=1.....................................\n",
      "[CV 4/5; 42/54] END alpha=1.0, l1_ratio=1;, score=-458313217.440 total time=   0.2s\n",
      "[CV 5/5; 42/54] START alpha=1.0, l1_ratio=1.....................................\n",
      "[CV 5/5; 42/54] END alpha=1.0, l1_ratio=1;, score=-563598251.895 total time=   0.2s\n",
      "[CV 1/5; 43/54] START alpha=10.0, l1_ratio=0....................................\n",
      "[CV 1/5; 43/54] END alpha=10.0, l1_ratio=0;, score=-2457010991.091 total time=   0.3s\n",
      "[CV 2/5; 43/54] START alpha=10.0, l1_ratio=0....................................\n",
      "[CV 2/5; 43/54] END alpha=10.0, l1_ratio=0;, score=-2504488231.525 total time=   0.3s\n",
      "[CV 3/5; 43/54] START alpha=10.0, l1_ratio=0....................................\n",
      "[CV 3/5; 43/54] END alpha=10.0, l1_ratio=0;, score=-1945670304.039 total time=   0.3s\n",
      "[CV 4/5; 43/54] START alpha=10.0, l1_ratio=0....................................\n",
      "[CV 4/5; 43/54] END alpha=10.0, l1_ratio=0;, score=-1808826942.733 total time=   0.3s\n",
      "[CV 5/5; 43/54] START alpha=10.0, l1_ratio=0....................................\n",
      "[CV 5/5; 43/54] END alpha=10.0, l1_ratio=0;, score=-1787302202.103 total time=   0.4s\n",
      "[CV 1/5; 44/54] START alpha=10.0, l1_ratio=0.01.................................\n",
      "[CV 1/5; 44/54] END alpha=10.0, l1_ratio=0.01;, score=-2444609872.070 total time=   0.0s\n",
      "[CV 2/5; 44/54] START alpha=10.0, l1_ratio=0.01.................................\n",
      "[CV 2/5; 44/54] END alpha=10.0, l1_ratio=0.01;, score=-2492086433.212 total time=   0.0s\n",
      "[CV 3/5; 44/54] START alpha=10.0, l1_ratio=0.01.................................\n",
      "[CV 3/5; 44/54] END alpha=10.0, l1_ratio=0.01;, score=-1934636891.168 total time=   0.0s\n",
      "[CV 4/5; 44/54] START alpha=10.0, l1_ratio=0.01.................................\n",
      "[CV 4/5; 44/54] END alpha=10.0, l1_ratio=0.01;, score=-1797962683.705 total time=   0.0s\n",
      "[CV 5/5; 44/54] START alpha=10.0, l1_ratio=0.01.................................\n",
      "[CV 5/5; 44/54] END alpha=10.0, l1_ratio=0.01;, score=-1776995799.786 total time=   0.0s\n",
      "[CV 1/5; 45/54] START alpha=10.0, l1_ratio=0.1..................................\n",
      "[CV 1/5; 45/54] END alpha=10.0, l1_ratio=0.1;, score=-2329760546.196 total time=   0.0s\n",
      "[CV 2/5; 45/54] START alpha=10.0, l1_ratio=0.1..................................\n",
      "[CV 2/5; 45/54] END alpha=10.0, l1_ratio=0.1;, score=-2377353325.996 total time=   0.0s\n",
      "[CV 3/5; 45/54] START alpha=10.0, l1_ratio=0.1..................................\n",
      "[CV 3/5; 45/54] END alpha=10.0, l1_ratio=0.1;, score=-1832809402.880 total time=   0.0s\n",
      "[CV 4/5; 45/54] START alpha=10.0, l1_ratio=0.1..................................\n",
      "[CV 4/5; 45/54] END alpha=10.0, l1_ratio=0.1;, score=-1698032108.789 total time=   0.0s\n",
      "[CV 5/5; 45/54] START alpha=10.0, l1_ratio=0.1..................................\n",
      "[CV 5/5; 45/54] END alpha=10.0, l1_ratio=0.1;, score=-1682125697.821 total time=   0.0s\n",
      "[CV 1/5; 46/54] START alpha=10.0, l1_ratio=0.7..................................\n",
      "[CV 1/5; 46/54] END alpha=10.0, l1_ratio=0.7;, score=-1354968908.170 total time=   0.0s\n",
      "[CV 2/5; 46/54] START alpha=10.0, l1_ratio=0.7..................................\n",
      "[CV 2/5; 46/54] END alpha=10.0, l1_ratio=0.7;, score=-1424759594.257 total time=   0.0s\n",
      "[CV 3/5; 46/54] START alpha=10.0, l1_ratio=0.7..................................\n",
      "[CV 3/5; 46/54] END alpha=10.0, l1_ratio=0.7;, score=-1009445194.130 total time=   0.0s\n",
      "[CV 4/5; 46/54] START alpha=10.0, l1_ratio=0.7..................................\n",
      "[CV 4/5; 46/54] END alpha=10.0, l1_ratio=0.7;, score=-921977369.528 total time=   0.0s\n",
      "[CV 5/5; 46/54] START alpha=10.0, l1_ratio=0.7..................................\n",
      "[CV 5/5; 46/54] END alpha=10.0, l1_ratio=0.7;, score=-939887043.138 total time=   0.0s\n",
      "[CV 1/5; 47/54] START alpha=10.0, l1_ratio=0.99.................................\n",
      "[CV 1/5; 47/54] END alpha=10.0, l1_ratio=0.99;, score=-516348663.201 total time=   0.0s\n",
      "[CV 2/5; 47/54] START alpha=10.0, l1_ratio=0.99.................................\n",
      "[CV 2/5; 47/54] END alpha=10.0, l1_ratio=0.99;, score=-668855774.967 total time=   0.0s\n",
      "[CV 3/5; 47/54] START alpha=10.0, l1_ratio=0.99.................................\n",
      "[CV 3/5; 47/54] END alpha=10.0, l1_ratio=0.99;, score=-494378087.621 total time=   0.0s\n",
      "[CV 4/5; 47/54] START alpha=10.0, l1_ratio=0.99.................................\n",
      "[CV 4/5; 47/54] END alpha=10.0, l1_ratio=0.99;, score=-472875105.661 total time=   0.0s\n",
      "[CV 5/5; 47/54] START alpha=10.0, l1_ratio=0.99.................................\n",
      "[CV 5/5; 47/54] END alpha=10.0, l1_ratio=0.99;, score=-525808878.810 total time=   0.0s\n",
      "[CV 1/5; 48/54] START alpha=10.0, l1_ratio=1....................................\n",
      "[CV 1/5; 48/54] END alpha=10.0, l1_ratio=1;, score=-483509622.586 total time=   0.2s\n",
      "[CV 2/5; 48/54] START alpha=10.0, l1_ratio=1....................................\n",
      "[CV 2/5; 48/54] END alpha=10.0, l1_ratio=1;, score=-603890860.351 total time=   0.3s\n",
      "[CV 3/5; 48/54] START alpha=10.0, l1_ratio=1....................................\n",
      "[CV 3/5; 48/54] END alpha=10.0, l1_ratio=1;, score=-498433339.618 total time=   0.2s\n",
      "[CV 4/5; 48/54] START alpha=10.0, l1_ratio=1....................................\n",
      "[CV 4/5; 48/54] END alpha=10.0, l1_ratio=1;, score=-455513199.334 total time=   0.3s\n",
      "[CV 5/5; 48/54] START alpha=10.0, l1_ratio=1....................................\n",
      "[CV 5/5; 48/54] END alpha=10.0, l1_ratio=1;, score=-566497231.687 total time=   0.2s\n",
      "[CV 1/5; 49/54] START alpha=100.0, l1_ratio=0...................................\n",
      "[CV 1/5; 49/54] END alpha=100.0, l1_ratio=0;, score=-5671936288.539 total time=   0.3s\n",
      "[CV 2/5; 49/54] START alpha=100.0, l1_ratio=0...................................\n",
      "[CV 2/5; 49/54] END alpha=100.0, l1_ratio=0;, score=-5732440809.622 total time=   0.3s\n",
      "[CV 3/5; 49/54] START alpha=100.0, l1_ratio=0...................................\n",
      "[CV 3/5; 49/54] END alpha=100.0, l1_ratio=0;, score=-4935073937.598 total time=   0.3s\n",
      "[CV 4/5; 49/54] START alpha=100.0, l1_ratio=0...................................\n",
      "[CV 4/5; 49/54] END alpha=100.0, l1_ratio=0;, score=-4864795590.402 total time=   0.3s\n",
      "[CV 5/5; 49/54] START alpha=100.0, l1_ratio=0...................................\n",
      "[CV 5/5; 49/54] END alpha=100.0, l1_ratio=0;, score=-4662223709.354 total time=   0.6s\n",
      "[CV 1/5; 50/54] START alpha=100.0, l1_ratio=0.01................................\n",
      "[CV 1/5; 50/54] END alpha=100.0, l1_ratio=0.01;, score=-5661705629.003 total time=   0.0s\n",
      "[CV 2/5; 50/54] START alpha=100.0, l1_ratio=0.01................................\n",
      "[CV 2/5; 50/54] END alpha=100.0, l1_ratio=0.01;, score=-5722189510.600 total time=   0.0s\n",
      "[CV 3/5; 50/54] START alpha=100.0, l1_ratio=0.01................................\n",
      "[CV 3/5; 50/54] END alpha=100.0, l1_ratio=0.01;, score=-4925328101.744 total time=   0.0s\n",
      "[CV 4/5; 50/54] START alpha=100.0, l1_ratio=0.01................................\n",
      "[CV 4/5; 50/54] END alpha=100.0, l1_ratio=0.01;, score=-4854701819.762 total time=   0.0s\n",
      "[CV 5/5; 50/54] START alpha=100.0, l1_ratio=0.01................................\n",
      "[CV 5/5; 50/54] END alpha=100.0, l1_ratio=0.01;, score=-4652730214.752 total time=   0.0s\n",
      "[CV 1/5; 51/54] START alpha=100.0, l1_ratio=0.1.................................\n",
      "[CV 1/5; 51/54] END alpha=100.0, l1_ratio=0.1;, score=-5561620817.806 total time=   0.0s\n",
      "[CV 2/5; 51/54] START alpha=100.0, l1_ratio=0.1.................................\n"
     ]
    },
    {
     "name": "stdout",
     "output_type": "stream",
     "text": [
      "[CV 2/5; 51/54] END alpha=100.0, l1_ratio=0.1;, score=-5621893195.817 total time=   0.0s\n",
      "[CV 3/5; 51/54] START alpha=100.0, l1_ratio=0.1.................................\n",
      "[CV 3/5; 51/54] END alpha=100.0, l1_ratio=0.1;, score=-4830035217.453 total time=   0.0s\n",
      "[CV 4/5; 51/54] START alpha=100.0, l1_ratio=0.1.................................\n",
      "[CV 4/5; 51/54] END alpha=100.0, l1_ratio=0.1;, score=-4756014537.674 total time=   0.0s\n",
      "[CV 5/5; 51/54] START alpha=100.0, l1_ratio=0.1.................................\n",
      "[CV 5/5; 51/54] END alpha=100.0, l1_ratio=0.1;, score=-4559926449.001 total time=   0.0s\n",
      "[CV 1/5; 52/54] START alpha=100.0, l1_ratio=0.7.................................\n",
      "[CV 1/5; 52/54] END alpha=100.0, l1_ratio=0.7;, score=-4064307157.229 total time=   0.0s\n",
      "[CV 2/5; 52/54] START alpha=100.0, l1_ratio=0.7.................................\n",
      "[CV 2/5; 52/54] END alpha=100.0, l1_ratio=0.7;, score=-4119048342.507 total time=   0.0s\n",
      "[CV 3/5; 52/54] START alpha=100.0, l1_ratio=0.7.................................\n",
      "[CV 3/5; 52/54] END alpha=100.0, l1_ratio=0.7;, score=-3417236155.527 total time=   0.0s\n",
      "[CV 4/5; 52/54] START alpha=100.0, l1_ratio=0.7.................................\n",
      "[CV 4/5; 52/54] END alpha=100.0, l1_ratio=0.7;, score=-3297353904.897 total time=   0.0s\n",
      "[CV 5/5; 52/54] START alpha=100.0, l1_ratio=0.7.................................\n",
      "[CV 5/5; 52/54] END alpha=100.0, l1_ratio=0.7;, score=-3189952320.786 total time=   0.0s\n",
      "[CV 1/5; 53/54] START alpha=100.0, l1_ratio=0.99................................\n",
      "[CV 1/5; 53/54] END alpha=100.0, l1_ratio=0.99;, score=-862568600.776 total time=   0.0s\n",
      "[CV 2/5; 53/54] START alpha=100.0, l1_ratio=0.99................................\n",
      "[CV 2/5; 53/54] END alpha=100.0, l1_ratio=0.99;, score=-982243738.505 total time=   0.0s\n",
      "[CV 3/5; 53/54] START alpha=100.0, l1_ratio=0.99................................\n",
      "[CV 3/5; 53/54] END alpha=100.0, l1_ratio=0.99;, score=-659726433.686 total time=   0.0s\n",
      "[CV 4/5; 53/54] START alpha=100.0, l1_ratio=0.99................................\n",
      "[CV 4/5; 53/54] END alpha=100.0, l1_ratio=0.99;, score=-617524008.959 total time=   0.0s\n",
      "[CV 5/5; 53/54] START alpha=100.0, l1_ratio=0.99................................\n",
      "[CV 5/5; 53/54] END alpha=100.0, l1_ratio=0.99;, score=-646348184.804 total time=   0.0s\n",
      "[CV 1/5; 54/54] START alpha=100.0, l1_ratio=1...................................\n",
      "[CV 1/5; 54/54] END alpha=100.0, l1_ratio=1;, score=-477332700.721 total time=   0.0s\n",
      "[CV 2/5; 54/54] START alpha=100.0, l1_ratio=1...................................\n",
      "[CV 2/5; 54/54] END alpha=100.0, l1_ratio=1;, score=-594664219.283 total time=   0.0s\n",
      "[CV 3/5; 54/54] START alpha=100.0, l1_ratio=1...................................\n",
      "[CV 3/5; 54/54] END alpha=100.0, l1_ratio=1;, score=-485363940.100 total time=   0.1s\n",
      "[CV 4/5; 54/54] START alpha=100.0, l1_ratio=1...................................\n",
      "[CV 4/5; 54/54] END alpha=100.0, l1_ratio=1;, score=-440787341.590 total time=   0.0s\n",
      "[CV 5/5; 54/54] START alpha=100.0, l1_ratio=1...................................\n",
      "[CV 5/5; 54/54] END alpha=100.0, l1_ratio=1;, score=-546129137.365 total time=   0.0s\n"
     ]
    },
    {
     "data": {
      "text/plain": [
       "GridSearchCV(cv=5, estimator=ElasticNet(),\n",
       "             param_grid={'alpha': [1e-05, 0.0001, 0.001, 0.01, 0.1, 0.0, 1.0,\n",
       "                                   10.0, 100.0],\n",
       "                         'l1_ratio': [0, 0.01, 0.1, 0.7, 0.99, 1]},\n",
       "             scoring='neg_mean_squared_error', verbose=10)"
      ]
     },
     "execution_count": 12,
     "metadata": {},
     "output_type": "execute_result"
    }
   ],
   "source": [
    "warnings.filterwarnings('ignore')\n",
    "grid.fit(X_train, y_train)"
   ]
  },
  {
   "cell_type": "markdown",
   "id": "8c130b6a",
   "metadata": {},
   "source": [
    "### Combinantion of best parameters for model."
   ]
  },
  {
   "cell_type": "code",
   "execution_count": 13,
   "id": "f989e157",
   "metadata": {},
   "outputs": [
    {
     "data": {
      "text/plain": [
       "{'alpha': 100.0, 'l1_ratio': 1}"
      ]
     },
     "execution_count": 13,
     "metadata": {},
     "output_type": "execute_result"
    }
   ],
   "source": [
    "grid.best_params_"
   ]
  },
  {
   "cell_type": "markdown",
   "id": "02113822",
   "metadata": {},
   "source": [
    "### Counting Predictions"
   ]
  },
  {
   "cell_type": "code",
   "execution_count": 14,
   "id": "8953060c",
   "metadata": {},
   "outputs": [],
   "source": [
    "y_pred = grid.predict(X_test)"
   ]
  },
  {
   "cell_type": "markdown",
   "id": "8367cd46",
   "metadata": {},
   "source": [
    "***\n",
    "## 3. Evaluating model performance using Mean Absolute Error (MAE), Mean Squared Error (MSE) and Root Mean Squared Error (RMSE)."
   ]
  },
  {
   "cell_type": "markdown",
   "id": "d7ec4c83",
   "metadata": {},
   "source": [
    "### Mean Absolute Error"
   ]
  },
  {
   "cell_type": "code",
   "execution_count": 15,
   "id": "943eeb09",
   "metadata": {},
   "outputs": [
    {
     "data": {
      "text/plain": [
       "15068.945537104504"
      ]
     },
     "execution_count": 15,
     "metadata": {},
     "output_type": "execute_result"
    }
   ],
   "source": [
    "MAE = mean_absolute_error(y_test, y_pred)\n",
    "MAE"
   ]
  },
  {
   "cell_type": "markdown",
   "id": "fc2f48ea",
   "metadata": {},
   "source": [
    "### Mean Squred Error"
   ]
  },
  {
   "cell_type": "code",
   "execution_count": 16,
   "id": "5b061f08",
   "metadata": {},
   "outputs": [
    {
     "data": {
      "text/plain": [
       "392485885.54314977"
      ]
     },
     "execution_count": 16,
     "metadata": {},
     "output_type": "execute_result"
    }
   ],
   "source": [
    "MSE = mean_squared_error(y_test, y_pred)\n",
    "MSE"
   ]
  },
  {
   "cell_type": "markdown",
   "id": "839f90ba",
   "metadata": {},
   "source": [
    "### Root Mean Squared Error"
   ]
  },
  {
   "cell_type": "code",
   "execution_count": 17,
   "id": "9c7a7110",
   "metadata": {},
   "outputs": [
    {
     "data": {
      "text/plain": [
       "19811.25653620057"
      ]
     },
     "execution_count": 17,
     "metadata": {},
     "output_type": "execute_result"
    }
   ],
   "source": [
    "RMSE = np.sqrt(MSE)\n",
    "RMSE"
   ]
  },
  {
   "cell_type": "markdown",
   "id": "60cc2ec6",
   "metadata": {},
   "source": [
    "### Saving the model"
   ]
  },
  {
   "cell_type": "code",
   "execution_count": 18,
   "id": "7e04dd0c",
   "metadata": {},
   "outputs": [
    {
     "data": {
      "text/plain": [
       "['house_sell_price_model.joblib']"
      ]
     },
     "execution_count": 18,
     "metadata": {},
     "output_type": "execute_result"
    }
   ],
   "source": [
    "dump(grid, 'house_sell_price_model.joblib') "
   ]
  }
 ],
 "metadata": {
  "kernelspec": {
   "display_name": "Python 3 (ipykernel)",
   "language": "python",
   "name": "python3"
  },
  "language_info": {
   "codemirror_mode": {
    "name": "ipython",
    "version": 3
   },
   "file_extension": ".py",
   "mimetype": "text/x-python",
   "name": "python",
   "nbconvert_exporter": "python",
   "pygments_lexer": "ipython3",
   "version": "3.9.12"
  }
 },
 "nbformat": 4,
 "nbformat_minor": 5
}
